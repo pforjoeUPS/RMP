{
 "cells": [
  {
   "cell_type": "markdown",
   "metadata": {},
   "source": [
    "# Equity Hedging Analysis Notebook\n",
    "\n",
    "This notebook runs analysis on the Strategy and Allocation Equity Hedge Portfolio"
   ]
  },
  {
   "cell_type": "markdown",
   "metadata": {},
   "source": [
    "## Import libraries"
   ]
  },
  {
   "cell_type": "code",
   "execution_count": 1,
   "metadata": {
    "scrolled": true
   },
   "outputs": [],
   "source": [
    "import pandas as pd\n",
    "import plotly.express as px\n",
    "from EquityHedging.datamanager import data_manager as dm\n",
    "from EquityHedging.analytics.util import get_df_weights\n",
    "from EquityHedging.analytics import summary\n",
    "from EquityHedging.reporting.excel import reports as rp\n",
    "#from EquityHedging.reporting import formatter as fmt, plots\n",
    "from EquityHedging.reporting import formatter as fmt\n",
    "from ipywidgets import interact, interact_manual\n",
    "\n",
    "new_strat = False\n",
    "notional_weights = []\n",
    "weighted = [True, False]"
   ]
  },
  {
   "cell_type": "markdown",
   "metadata": {},
   "source": [
    "\n",
    "## Import returns data\n",
    "\n",
    "### Imports Daily, Weekly, Monthly, Quarterly and Yearly returns data\n",
    "\n",
    "To import the returns data:\n",
    "* Select an Equity Benchmark (**equity_bmk**) - SPTR, M1WD, SX5T\n",
    "* Decide if you want a Fixed Income Benchmark (**include_fi**) - True, False\n",
    "* Select what equity hedging strategies to exclude (**strat_drop_list**). Below is the list of strategies:\n",
    "\n",
    "    * 99%/90% Put Spread, Down Var, Vortex, VOLA , Dynamic Put Spread, VRR, GW Dispersion, Corr Hedge"
   ]
  },
  {
   "cell_type": "code",
   "execution_count": 9,
   "metadata": {},
   "outputs": [],
   "source": [
    "equity_bmk = 'SPTR'\n",
    "include_fi = False\n",
    "strat_drop_list = ['Vortex','99%/90% Put Spread']\n",
    "returns = dm.get_equity_hedge_returns(equity_bmk, include_fi, strat_drop_list)"
   ]
  },
  {
   "cell_type": "markdown",
   "metadata": {},
   "source": [
    "## View Returns data\n",
    "\n",
    "Select frequency (Daily, Weekly, Monthly, Yearly) to view data"
   ]
  },
  {
   "cell_type": "code",
   "execution_count": null,
   "metadata": {
    "scrolled": true
   },
   "outputs": [],
   "source": [
    "freq_list = ['Daily', 'Weekly', 'Monthly','Quarterly', 'Yearly']\n",
    "@interact\n",
    "def display_returns(frequency = freq_list):\n",
    "    return fmt.get_returns_styler(returns[frequency])"
   ]
  },
  {
   "cell_type": "markdown",
   "metadata": {},
   "source": [
    "## Add new strategy\n",
    "\n",
    "**Run this code if you want to add a new strategy**\n",
    "* Import the daily index/returns:\n",
    "    * Specify:\n",
    "        * strategy_list: list of strategies \n",
    "        * filename: name of excel file\n",
    "        * sheet_name: sheet name\n",
    "        * data_type: index or returns data\n",
    "* add it to the Equity hedge returns data"
   ]
  },
  {
   "cell_type": "code",
   "execution_count": 10,
   "metadata": {},
   "outputs": [],
   "source": [
    "strategy_list = ['DSPG','3M_SMI_0.125d_0.10d']\n",
    "filename = 'Credit Suisse DispHistory_SMI_0216_send.xlsx'\n",
    "sheet_name = 'data'\n",
    "data_type = 'index'\n",
    "new_strategy = dm.get_new_strategy_returns_data(filename, sheet_name, strategy_list)\n",
    "new_strategy_dict = dm.get_data_dict(new_strategy, data_type)\n",
    "returns = dm.merge_dicts(returns, new_strategy_dict)\n",
    "new_strat=True"
   ]
  },
  {
   "cell_type": "code",
   "execution_count": null,
   "metadata": {},
   "outputs": [],
   "source": [
    "full_data= pd.read_excel(dm.NEW_DATA+'early_roll_vix_profit_data.xlsx',\n",
    "                                           sheet_name = 'All', index_col=0)\n",
    "barclays = full_data[['2W + 85% Profit']]\n",
    "barclays_dict = dm.get_data_dict(barclays)\n",
    "returns = dm.merge_dicts(returns,barclays_dict)\n",
    "new_strat =True\n",
    "weighted = [True, False]"
   ]
  },
  {
   "cell_type": "markdown",
   "metadata": {},
   "source": [
    "## Get and display Notional Weights"
   ]
  },
  {
   "cell_type": "code",
   "execution_count": 4,
   "metadata": {},
   "outputs": [
    {
     "name": "stdout",
     "output_type": "stream",
     "text": [
      "notional value (Billions) for SPTR: 19\n",
      "notional value (Billions) for Down Var: 1\n",
      "notional value (Billions) for VOLA: 1\n",
      "notional value (Billions) for Dynamic Put Spread: 1\n",
      "notional value (Billions) for VRR: 1\n",
      "notional value (Billions) for GW Dispersion: 1\n",
      "notional value (Billions) for Corr Hedge: 0.3\n",
      "notional value (Billions) for Def Var: 0.3\n",
      "notional value (Billions) for DSPG: 0.5\n",
      "notional value (Billions) for 3M_SMI_0.125d_0.10d: 0.5\n"
     ]
    },
    {
     "data": {
      "text/html": [
       "<style type=\"text/css\">\n",
       "</style>\n",
       "<table id=\"T_fee2c_\">\n",
       "  <thead>\n",
       "    <tr>\n",
       "      <th class=\"blank level0\" >&nbsp;</th>\n",
       "      <th class=\"col_heading level0 col0\" >SPTR</th>\n",
       "      <th class=\"col_heading level0 col1\" >Down Var</th>\n",
       "      <th class=\"col_heading level0 col2\" >VOLA</th>\n",
       "      <th class=\"col_heading level0 col3\" >Dynamic Put Spread</th>\n",
       "      <th class=\"col_heading level0 col4\" >VRR</th>\n",
       "      <th class=\"col_heading level0 col5\" >GW Dispersion</th>\n",
       "      <th class=\"col_heading level0 col6\" >Corr Hedge</th>\n",
       "      <th class=\"col_heading level0 col7\" >Def Var</th>\n",
       "      <th class=\"col_heading level0 col8\" >DSPG</th>\n",
       "      <th class=\"col_heading level0 col9\" >3M_SMI_0.125d_0.10d</th>\n",
       "    </tr>\n",
       "  </thead>\n",
       "  <tbody>\n",
       "    <tr>\n",
       "      <th id=\"T_fee2c_level0_row0\" class=\"row_heading level0 row0\" >Notional Weights (Billions)</th>\n",
       "      <td id=\"T_fee2c_row0_col0\" class=\"data row0 col0\" >$19.00</td>\n",
       "      <td id=\"T_fee2c_row0_col1\" class=\"data row0 col1\" >$1.00</td>\n",
       "      <td id=\"T_fee2c_row0_col2\" class=\"data row0 col2\" >$1.00</td>\n",
       "      <td id=\"T_fee2c_row0_col3\" class=\"data row0 col3\" >$1.00</td>\n",
       "      <td id=\"T_fee2c_row0_col4\" class=\"data row0 col4\" >$1.00</td>\n",
       "      <td id=\"T_fee2c_row0_col5\" class=\"data row0 col5\" >$1.00</td>\n",
       "      <td id=\"T_fee2c_row0_col6\" class=\"data row0 col6\" >$0.30</td>\n",
       "      <td id=\"T_fee2c_row0_col7\" class=\"data row0 col7\" >$0.30</td>\n",
       "      <td id=\"T_fee2c_row0_col8\" class=\"data row0 col8\" >$0.50</td>\n",
       "      <td id=\"T_fee2c_row0_col9\" class=\"data row0 col9\" >$0.50</td>\n",
       "    </tr>\n",
       "    <tr>\n",
       "      <th id=\"T_fee2c_level0_row1\" class=\"row_heading level0 row1\" >Percentage Weights</th>\n",
       "      <td id=\"T_fee2c_row1_col0\" class=\"data row1 col0\" >100.00%</td>\n",
       "      <td id=\"T_fee2c_row1_col1\" class=\"data row1 col1\" >5.26%</td>\n",
       "      <td id=\"T_fee2c_row1_col2\" class=\"data row1 col2\" >5.26%</td>\n",
       "      <td id=\"T_fee2c_row1_col3\" class=\"data row1 col3\" >5.26%</td>\n",
       "      <td id=\"T_fee2c_row1_col4\" class=\"data row1 col4\" >5.26%</td>\n",
       "      <td id=\"T_fee2c_row1_col5\" class=\"data row1 col5\" >5.26%</td>\n",
       "      <td id=\"T_fee2c_row1_col6\" class=\"data row1 col6\" >1.58%</td>\n",
       "      <td id=\"T_fee2c_row1_col7\" class=\"data row1 col7\" >1.58%</td>\n",
       "      <td id=\"T_fee2c_row1_col8\" class=\"data row1 col8\" >2.63%</td>\n",
       "      <td id=\"T_fee2c_row1_col9\" class=\"data row1 col9\" >2.63%</td>\n",
       "    </tr>\n",
       "    <tr>\n",
       "      <th id=\"T_fee2c_level0_row2\" class=\"row_heading level0 row2\" >Strategy Weights</th>\n",
       "      <td id=\"T_fee2c_row2_col0\" class=\"data row2 col0\" >0.00%</td>\n",
       "      <td id=\"T_fee2c_row2_col1\" class=\"data row2 col1\" >15.15%</td>\n",
       "      <td id=\"T_fee2c_row2_col2\" class=\"data row2 col2\" >15.15%</td>\n",
       "      <td id=\"T_fee2c_row2_col3\" class=\"data row2 col3\" >15.15%</td>\n",
       "      <td id=\"T_fee2c_row2_col4\" class=\"data row2 col4\" >15.15%</td>\n",
       "      <td id=\"T_fee2c_row2_col5\" class=\"data row2 col5\" >15.15%</td>\n",
       "      <td id=\"T_fee2c_row2_col6\" class=\"data row2 col6\" >4.55%</td>\n",
       "      <td id=\"T_fee2c_row2_col7\" class=\"data row2 col7\" >4.55%</td>\n",
       "      <td id=\"T_fee2c_row2_col8\" class=\"data row2 col8\" >7.58%</td>\n",
       "      <td id=\"T_fee2c_row2_col9\" class=\"data row2 col9\" >7.58%</td>\n",
       "    </tr>\n",
       "  </tbody>\n",
       "</table>\n"
      ],
      "text/plain": [
       "<pandas.io.formats.style.Styler at 0x229632a6640>"
      ]
     },
     "execution_count": 4,
     "metadata": {},
     "output_type": "execute_result"
    }
   ],
   "source": [
    "#get notional weights\n",
    "notional_weights = dm.get_notional_weights(returns['Monthly'])\n",
    "df_weights = get_df_weights(notional_weights, list(returns['Monthly'].columns), include_fi)\n",
    "fmt.get_notional_styler(df_weights)"
   ]
  },
  {
   "cell_type": "markdown",
   "metadata": {},
   "source": [
    "## Compute Correlations"
   ]
  },
  {
   "cell_type": "code",
   "execution_count": 2,
   "metadata": {},
   "outputs": [
    {
     "ename": "NameError",
     "evalue": "name 'returns' is not defined",
     "output_type": "error",
     "traceback": [
      "\u001b[1;31m---------------------------------------------------------------------------\u001b[0m",
      "\u001b[1;31mNameError\u001b[0m                                 Traceback (most recent call last)",
      "Cell \u001b[1;32mIn[2], line 2\u001b[0m\n\u001b[0;32m      1\u001b[0m corr_freq_list \u001b[38;5;241m=\u001b[39m [\u001b[38;5;124m'\u001b[39m\u001b[38;5;124mDaily\u001b[39m\u001b[38;5;124m'\u001b[39m, \u001b[38;5;124m'\u001b[39m\u001b[38;5;124mWeekly\u001b[39m\u001b[38;5;124m'\u001b[39m, \u001b[38;5;124m'\u001b[39m\u001b[38;5;124mMonthly\u001b[39m\u001b[38;5;124m'\u001b[39m]\n\u001b[1;32m----> 2\u001b[0m corr_dict \u001b[38;5;241m=\u001b[39m summary\u001b[38;5;241m.\u001b[39mget_corr_data(\u001b[43mreturns\u001b[49m, corr_freq_list, weighted, notional_weights, include_fi)\n",
      "\u001b[1;31mNameError\u001b[0m: name 'returns' is not defined"
     ]
    }
   ],
   "source": [
    "corr_freq_list = ['Daily', 'Weekly', 'Monthly']\n",
    "corr_dict = summary.get_corr_data(returns, corr_freq_list, weighted, notional_weights, include_fi)"
   ]
  },
  {
   "cell_type": "markdown",
   "metadata": {},
   "source": [
    "## Display Correlations\n",
    "\n",
    "Display Correlations of returns data by:\n",
    "* **frequency (Monthly or Weekly)** - Show correlations of Monthly or Weekly returns\n",
    "* **weighted (True or False)** - Show Weighted Hedges or not\n",
    "* **corr** - Show:\n",
    "    * **corr** - full history correaltions\n",
    "    * **corr_down** - risk seeking benchmark downside returns correlations or \n",
    "    * **corr_up** - risk seeking benchmark upside returns correlations\n",
    "* **plot_type (corrplot or heatmap)** - Show a map with magnitude or just heatmap"
   ]
  },
  {
   "cell_type": "code",
   "execution_count": null,
   "metadata": {},
   "outputs": [],
   "source": [
    "@interact\n",
    "def display_correlations(frequency=corr_freq_list, weighted=weighted,\n",
    "                         corr=['full', 'equity_down', 'equity_up'], plot_type=['heatmap', 'corrplot']):\n",
    "    data = corr_dict[frequency]\n",
    "    corr_df = data[weighted][corr][0]\n",
    "    if plot_type == 'heatmap':\n",
    "        return plots.draw_heatmap(corr_df, half=False)\n",
    "    else:\n",
    "        return plots.draw_corrplot(corr_df)"
   ]
  },
  {
   "cell_type": "markdown",
   "metadata": {},
   "source": [
    "## Compute Return Stats and Hedge Metrics"
   ]
  },
  {
   "cell_type": "code",
   "execution_count": null,
   "metadata": {},
   "outputs": [],
   "source": [
    "analytics_freq_list = ['Weekly', 'Monthly']\n",
    "analytics_dict = summary.get_analytics_data(returns,analytics_freq_list,weighted,notional_weights,include_fi,new_strat)"
   ]
  },
  {
   "cell_type": "markdown",
   "metadata": {},
   "source": [
    "## Display Return Stats and Hedge Metrics\n",
    "\n",
    "Display Returns Analytics data by:\n",
    "* **frequency (Monthly or Weekly)** - Show Monthly or Weekly returns\n",
    "* **weighted (True or False)** - Show Weighted Strats and Hedges or not\n",
    "* **stats (return_stats, hedge_metrics)** - Show:\n",
    "    * Return Statistics or \n",
    "    * Hedge Metrics"
   ]
  },
  {
   "cell_type": "code",
   "execution_count": null,
   "metadata": {
    "scrolled": false
   },
   "outputs": [],
   "source": [
    "@interact\n",
    "def display_analytics(frequency=analytics_freq_list, weighted=weighted, stats=['return_stats', 'hedge_metrics']):\n",
    "    data = analytics_dict[frequency]\n",
    "    analytics = data[weighted]\n",
    "    if stats == 'return_stats':\n",
    "        return fmt.get_analytics_styler(analytics)\n",
    "    if stats == 'hedge_metrics':\n",
    "        if frequency == 'Weekly':\n",
    "            return fmt.get_analytics_styler(analytics, stats, '1W')\n",
    "        else:\n",
    "            return fmt.get_analytics_styler(analytics, stats)"
   ]
  },
  {
   "cell_type": "markdown",
   "metadata": {},
   "source": [
    "## Compute Historical Sell Offs"
   ]
  },
  {
   "cell_type": "code",
   "execution_count": null,
   "metadata": {},
   "outputs": [],
   "source": [
    "hist_dict = summary.get_hist_data(returns,notional_weights=notional_weights, weighted=weighted)"
   ]
  },
  {
   "cell_type": "markdown",
   "metadata": {},
   "source": [
    "## Display Historical Sell Offs\n",
    "\n",
    "Display Hisorical Sell Offs data by:\n",
    "* **weighted (True or False)** - Show Weighted Hedges or not"
   ]
  },
  {
   "cell_type": "code",
   "execution_count": null,
   "metadata": {},
   "outputs": [],
   "source": [
    "@interact\n",
    "def display_selloffs(weighted=weighted):\n",
    "    df_hist = hist_dict[weighted]\n",
    "    return fmt.get_hist_styler(df_hist)"
   ]
  },
  {
   "cell_type": "markdown",
   "metadata": {},
   "source": [
    "## Compute Quintile or Decile Analysis\n",
    "Display grouped data by:\n",
    "* **group (Quintile or Decile)** - Show returns data in quintiles or deciles"
   ]
  },
  {
   "cell_type": "code",
   "execution_count": null,
   "metadata": {},
   "outputs": [],
   "source": [
    "group_list=['Quintile','Decile']\n",
    "@interact\n",
    "def display_returns(group = group_list):\n",
    "    quintile_df = summary.get_grouped_data(returns, group = group)\n",
    "    return(quintile_df.style.format(\"{:.2%}\"))"
   ]
  },
  {
   "cell_type": "markdown",
   "metadata": {},
   "source": [
    "## Display Quintile or Decile Analysis\n",
    "Display Quintile Analysis Bar Chart:\n",
    "* **group (Quintile or Decile)** - Show returns data in quintiles or deciles\n",
    "* **strat** - Show quintile or decile for selected strategy"
   ]
  },
  {
   "cell_type": "code",
   "execution_count": null,
   "metadata": {},
   "outputs": [],
   "source": [
    "group_list=['Quintile','Decile']\n",
    "@interact\n",
    "\n",
    "def display_quintile_analysis(group = group_list, strat=list(returns['Monthly'].select_dtypes('float').columns)[1:]):    \n",
    "    df = summary.get_grouped_data(returns, group = group)\n",
    "    \n",
    "    for col in df.columns:\n",
    "        df[col] *= 100\n",
    "        if not (col == equity_bmk or col ==strat):\n",
    "            df.drop([col], axis=1, inplace=True)\n",
    "    if group == \"Quintile\":\n",
    "        title ='Quintile Analysis'\n",
    "    else:\n",
    "        title = 'Decile Analysis'\n",
    "        \n",
    "    fig = px.bar(df,barmode='group',title = title)\n",
    "    fig.update_layout(\n",
    "        title = {'text':\"<b>{}</b>\".format(title),'y':0.95,'x':0.5,'xanchor': 'center','yanchor': 'top'},\n",
    "        title_font_family = \"Calibri\",\n",
    "        titlefont = {\"size\":24},\n",
    "        xaxis = dict(tickfont = dict(size=12)),\n",
    "        yaxis = dict(ticksuffix=\"%\"),\n",
    "        legend_title=\"Strategies\",\n",
    "        plot_bgcolor='White'\n",
    "    )\n",
    "    fig.update_xaxes(title_font_family = \"Calibri\",title_text = \"<b>SPTR Monthly Returns Ranking</b>\",\n",
    "        title_font = {\"size\": 20},showline=True,linewidth=2,linecolor='black',mirror=False)\n",
    "    fig.update_yaxes(title_font_family = \"Calibri\",title_text = \"<b></b>\",title_font = {\"size\": 20},\n",
    "        showline=True,linewidth=2,linecolor='black',mirror=False)\n",
    "    fig.show()"
   ]
  },
  {
   "cell_type": "markdown",
   "metadata": {},
   "source": [
    "## Compute Annual Dollar Returns"
   ]
  },
  {
   "cell_type": "code",
   "execution_count": null,
   "metadata": {
    "scrolled": true
   },
   "outputs": [],
   "source": [
    "annual_dollar_returns = summary.get_annual_dollar_returns(returns, notional_weights)\n",
    "fmt.get_dollar_ret_styler(annual_dollar_returns)"
   ]
  },
  {
   "cell_type": "markdown",
   "metadata": {},
   "source": [
    "## Display Annual Dollar Returns"
   ]
  },
  {
   "cell_type": "code",
   "execution_count": null,
   "metadata": {},
   "outputs": [],
   "source": [
    "@interact\n",
    "def display_annual_dollar_returns(strat_1=list(annual_dollar_returns.select_dtypes('float').columns)\n",
    "      ,strat_2=list(annual_dollar_returns.select_dtypes('float').columns)[1:]):\n",
    "    df = annual_dollar_returns.copy()\n",
    "    for col in df.columns:\n",
    "        if not (col == strat_1 or col ==strat_2):\n",
    "            df.drop([col], axis=1, inplace=True)\n",
    "    fig = px.bar(df,barmode='group')\n",
    "    fig.update_layout(\n",
    "        title = {'text':\"<b>Annual $ Returns</b>\",'y':0.95,'x':0.5,'xanchor': 'center','yanchor': 'top'},\n",
    "        title_font_family = \"Calibri\",\n",
    "        titlefont = {\"size\":24},\n",
    "        xaxis = dict(tickfont = dict(size=12)),\n",
    "        legend_title=\"Strategies\"\n",
    "    )\n",
    "    fig.update_xaxes(title_font_family = \"Calibri\",title_text = \"<b>Year</b>\",\n",
    "        title_font = {\"size\": 20})\n",
    "    fig.update_yaxes(title_font_family = \"Calibri\",title_text = \"<b>Dollars</b>\",title_font = {\"size\": 20})\n",
    "    fig.show()"
   ]
  },
  {
   "cell_type": "markdown",
   "metadata": {},
   "source": [
    "## Display Monthly  Returns Table"
   ]
  },
  {
   "cell_type": "code",
   "execution_count": 7,
   "metadata": {},
   "outputs": [
    {
     "data": {
      "application/vnd.jupyter.widget-view+json": {
       "model_id": "4350a0a91f5a4cd2b6a62c1bb56736fb",
       "version_major": 2,
       "version_minor": 0
      },
      "text/plain": [
       "interactive(children=(Dropdown(description='strategy', options=('SPTR', 'Down Var', 'VOLA', 'Dynamic Put Sprea…"
      ]
     },
     "metadata": {},
     "output_type": "display_data"
    }
   ],
   "source": [
    "month_ret_table= dm.all_strat_month_ret_table(returns[\"Monthly\"], notional_weights = notional_weights, weighted = True)\n",
    "strat_list = list(month_ret_table.keys())\n",
    "@interact\n",
    "def display__monthly_ret_table(strategy = strat_list):\n",
    "    return fmt.get_monthly_ret_table_styler(month_ret_table[strategy])"
   ]
  },
  {
   "cell_type": "markdown",
   "metadata": {},
   "source": [
    "# Create Report\n",
    "\n",
    "Run this code below to export analysis into excel spreadsheet\n",
    "* **equity_hedge_report (string)**: provide a name for the excel file\n",
    "* **selloffs (boolean)**:\n",
    "    * **True**: if you want historical selloff data in the spreadsheet\n",
    "    * **False**: if you do not want historical selloff data in the spreadsheet"
   ]
  },
  {
   "cell_type": "code",
   "execution_count": null,
   "metadata": {},
   "outputs": [],
   "source": [
    "equity_hedge_report = 'equity_hedge_analysis_2021q2'\n",
    "selloffs = True\n",
    "grouped = False\n",
    "rp.get_equity_hedge_report(equity_hedge_report, returns, notional_weights, include_fi, new_strat, weighted[0], selloffs, grouped)"
   ]
  },
  {
   "cell_type": "markdown",
   "metadata": {},
   "source": [
    "## End"
   ]
  }
 ],
 "metadata": {
  "kernelspec": {
   "display_name": "Python 3 (ipykernel)",
   "language": "python",
   "name": "python3"
  },
  "language_info": {
   "codemirror_mode": {
    "name": "ipython",
    "version": 3
   },
   "file_extension": ".py",
   "mimetype": "text/x-python",
   "name": "python",
   "nbconvert_exporter": "python",
   "pygments_lexer": "ipython3",
   "version": "3.10.9"
  },
  "varInspector": {
   "cols": {
    "lenName": 16,
    "lenType": 16,
    "lenVar": 40
   },
   "kernels_config": {
    "python": {
     "delete_cmd_postfix": "",
     "delete_cmd_prefix": "del ",
     "library": "var_list.py",
     "varRefreshCmd": "print(var_dic_list())"
    },
    "r": {
     "delete_cmd_postfix": ") ",
     "delete_cmd_prefix": "rm(",
     "library": "var_list.r",
     "varRefreshCmd": "cat(var_dic_list()) "
    }
   },
   "types_to_exclude": [
    "module",
    "function",
    "builtin_function_or_method",
    "instance",
    "_Feature"
   ],
   "window_display": false
  }
 },
 "nbformat": 4,
 "nbformat_minor": 2
}
