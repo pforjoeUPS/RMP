{
 "cells": [
  {
   "cell_type": "markdown",
   "id": "f4790af4",
   "metadata": {},
   "source": [
    "# QIS Cluster Analysis"
   ]
  },
  {
   "cell_type": "markdown",
   "id": "33032cbc",
   "metadata": {},
   "source": [
    "## Import Libraries"
   ]
  },
  {
   "cell_type": "code",
   "execution_count": 7,
   "id": "c590ab21",
   "metadata": {},
   "outputs": [],
   "source": [
    "import os\n",
    "CWD = os.getcwd()\n",
    "os.chdir(CWD.replace(\"\\\\Cluster Analysis\\\\scripts\",\"\") ) \n",
    "from EquityHedging.datamanager import data_manager as dm\n",
    "from sklearn.cluster import AgglomerativeClustering\n",
    "import scipy.cluster.hierarchy as shc\n",
    "from sklearn.decomposition import PCA\n",
    "import pandas as pd\n",
    "import numpy as np\n",
    "import plotly.io as pio\n",
    "import plotly.express as px\n",
    "import plotly.offline as py\n",
    "import matplotlib.pyplot as plt\n",
    "from sklearn.cluster import KMeans\n",
    "from scipy.cluster.hierarchy import dendrogram, linkage, fcluster \n",
    "import plotly.figure_factory as ff\n",
    "import plotly.graph_objects as go\n",
    "from scipy.spatial.distance import pdist, squareform\n",
    "import ipywidgets as widgets\n",
    "from ipywidgets import interact\n"
   ]
  },
  {
   "cell_type": "markdown",
   "id": "7490addd",
   "metadata": {},
   "source": [
    "## Import Normalized Hedge Metrics"
   ]
  },
  {
   "cell_type": "code",
   "execution_count": null,
   "id": "5a68c48b",
   "metadata": {},
   "outputs": [],
   "source": [
    "file_path = dm.EQUITY_HEDGE_DATA+'def_uni_hedge_metrics_more.xlsx'\n",
    "#normalized_hm = pd.read_excel(dm.EQUITY_HEDGE_DATA+'def_uni_hedge_metrics_more.xlsx', index_col=(0))\n",
    "normalized_hm = pd.read_excel(dm.QIS_UNIVERSE +'Normalized_Hedge_Metrics.xlsx', index_col=(0))\n",
    "features = ['Downside Reliability', 'Convexity', 'Cost', 'Decay','Tail Reliability']\n",
    "normalized_hm = normalized_hm[features]\n",
    "normalized_hm.head(20)"
   ]
  },
  {
   "cell_type": "code",
   "execution_count": null,
   "id": "39c53ca4",
   "metadata": {},
   "outputs": [],
   "source": [
    "normalized_hm = pd.read_excel(dm.QIS_UNIVERSE + 'Normalized_Hedge_Metrics.xlsx', index_col=0)\n",
    "\n",
    "features = ['Downside Reliability',  'Convexity', 'Cost', 'Decay', 'Tail Reliability']\n",
    "normalized_hm = normalized_hm[features]\n",
    "\n",
    "normalized_hm.head(100)"
   ]
  },
  {
   "cell_type": "code",
   "execution_count": null,
   "id": "cdecbb73",
   "metadata": {},
   "outputs": [],
   "source": [
    "# Calculate the sum of features for each strategy (row-wise sum)\n",
    "normalized_hm['Total'] = normalized_hm.sum(axis=1)\n",
    "\n",
    "normalized_hm.head(100)"
   ]
  },
  {
   "cell_type": "markdown",
   "id": "4d7b2eb5",
   "metadata": {},
   "source": [
    "# Devang's code"
   ]
  },
  {
   "cell_type": "code",
   "execution_count": null,
   "id": "1fe07faf",
   "metadata": {
    "scrolled": false
   },
   "outputs": [],
   "source": [
    "# Calculate the pairwise distances between strategies\n",
    "distances = pdist(normalized_hm)\n",
    "\n",
    "# Convert the pairwise distances to a square distance matrix\n",
    "square_distances = squareform(distances)\n",
    "\n",
    "# Perform hierarchical clustering using linkage on the square distance matrix\n",
    "linked = linkage(distances, 'ward')\n",
    "\n",
    "num_clusters = 3\n",
    "\n",
    "clusters = fcluster(linked, t=num_clusters, criterion='maxclust')\n",
    "normalized_hm['Cluster'] = clusters\n",
    "\n",
    "\n",
    "# Function to get the two best-performing strategies in each cluster based on the sum of normalized calculated values\n",
    "def get_two_best_performing_strategies_per_cluster(df):\n",
    "    # Group by 'Cluster' and find the two best strategies in each cluster based on 'Total'\n",
    "    best_strategies_df = df.groupby('Cluster').apply(lambda x: x.nlargest(2, 'Total'))\n",
    "    return best_strategies_df\n",
    "\n",
    "# Call the function to get the two best-performing strategies in each cluster\n",
    "two_best_performing_strategies = get_two_best_performing_strategies_per_cluster(normalized_hm)\n",
    "\n",
    "print(\"Two Best Performing Strategies in Each Cluster:\")\n",
    "print(two_best_performing_strategies)\n",
    "\n",
    "# Function to display the two best-performing strategies for a selected feature within the selected cluster\n",
    "def show_two_best_strategies_in_cluster(selected_cluster, selected_feature):\n",
    "    selected_strategies = normalized_hm[normalized_hm['Cluster'] == selected_cluster]\n",
    "    selected_strategies = selected_strategies.nlargest(2, selected_feature)\n",
    "    print(f\"\\nCluster {selected_cluster} - Two Best Performing Strategies based on {selected_feature}:\")\n",
    "    print(selected_strategies)\n",
    "\n",
    "# Create dropdown widgets for each feature\n",
    "feature_dropdown = widgets.Dropdown(\n",
    "    options=features,\n",
    "    description='Select Feature:'\n",
    ")\n",
    "\n",
    "# Create dropdown widget for selecting different cluster numbers\n",
    "cluster_dropdown = widgets.Dropdown(\n",
    "    options=normalized_hm['Cluster'].unique(),\n",
    "    description='Select Cluster:',\n",
    "    value=num_clusters,  # Default value is the total number of clusters\n",
    ")\n",
    "\n",
    "# Interact function to display two best-performing strategies based on selected feature and cluster\n",
    "interact(show_two_best_strategies_in_cluster, selected_cluster=cluster_dropdown, selected_feature=feature_dropdown);\n",
    "\n",
    "# best_strategies = normalized_hm.groupby('Cluster')['Total'].idxmax()\n",
    "\n",
    "# # Get the rows corresponding to the best strategies\n",
    "# best_performing_strategies = normalized_hm.loc[best_strategies]\n",
    "\n",
    "# print(\"Best Performing Strategies in Each Cluster:\")\n",
    "# print(best_performing_strategies)\n",
    "\n",
    "# #  function to display the strategies in the selected cluster\n",
    "# def show_strategies_in_cluster(selected_cluster):\n",
    "#     selected_strategies = normalized_hm[normalized_hm['Cluster'] == selected_cluster].index.tolist()\n",
    "#     print(f\"\\nCluster {selected_cluster} Strategies:\")\n",
    "#     print(selected_strategies)\n",
    "\n",
    "# #  a dropdown widget for selecting different cluster numbers\n",
    "# cluster_dropdown = widgets.Dropdown(\n",
    "#     options=normalized_hm['Cluster'].unique(),\n",
    "#     description='Select Cluster:',\n",
    "#     value=num_clusters,  # Default value is the total number of clusters\n",
    "# )\n",
    "\n",
    "\n",
    "# interact(show_strategies_in_cluster, selected_cluster=cluster_dropdown);"
   ]
  },
  {
   "cell_type": "code",
   "execution_count": null,
   "id": "39b03555",
   "metadata": {},
   "outputs": [],
   "source": [
    "normalized_hm\n",
    "top_strats= pd.Da\n",
    "for i in list(normalized_hm.columns):\n",
    "    "
   ]
  },
  {
   "cell_type": "code",
   "execution_count": null,
   "id": "a29d4a08",
   "metadata": {},
   "outputs": [],
   "source": [
    "best_strategies = normalized_hm.groupby('Cluster')['Total'].idxmax()\n",
    "\n",
    "# Get the rows corresponding to the best strategies\n",
    "best_performing_strategies = normalized_hm.loc[best_strategies]\n",
    "\n",
    "print(\"Best Performing Strategies in Each Cluster:\")\n",
    "print(best_performing_strategies)\n"
   ]
  },
  {
   "cell_type": "code",
   "execution_count": null,
   "id": "6945feb8",
   "metadata": {
    "scrolled": true
   },
   "outputs": [],
   "source": [
    "\n",
    "#  function to display the strategies in the selected cluster\n",
    "def show_strategies_in_cluster(selected_cluster):\n",
    "    selected_strategies = normalized_hm[normalized_hm['Cluster'] == selected_cluster].index.tolist()\n",
    "    print(f\"\\nCluster {selected_cluster} Strategies:\")\n",
    "    print(selected_strategies)\n",
    "\n",
    "#  a dropdown widget for selecting different cluster numbers\n",
    "cluster_dropdown = widgets.Dropdown(\n",
    "    options=normalized_hm['Cluster'].unique(),\n",
    "    description='Select Cluster:',\n",
    "     # Default value is the total number of clusters\n",
    ")\n",
    "\n",
    "\n",
    "interact(show_strategies_in_cluster, selected_cluster=cluster_dropdown);"
   ]
  },
  {
   "cell_type": "markdown",
   "id": "0bbf8265",
   "metadata": {},
   "source": [
    "# Create Dendrogram"
   ]
  },
  {
   "cell_type": "code",
   "execution_count": null,
   "id": "bbd51f16",
   "metadata": {},
   "outputs": [],
   "source": [
    "\n",
    "# Create the dendrogram figure\n",
    "dendro_fig = ff.create_dendrogram(links, orientation='bottom')\n",
    "\n",
    "# Add custom hover text to the dendrogram\n",
    "dendro_fig.update_traces(hovertext=dendro_fig['data'][0]['text'])\n",
    "\n",
    "# Customize the layout\n",
    "dendro_fig.update_layout(width=800, height=700, title='Dendrogram')\n",
    "\n",
    "# Define a callback function for hover events\n",
    "def hover_callback(trace, points, state):\n",
    "    ind = points.point_inds[0]\n",
    "    cluster_num = clusters[ind]\n",
    "    strategies = normalized_hm[normalized_hm['Cluster'] == cluster_num].index.tolist()\n",
    "    tooltip = f\"Cluster {cluster_num} Strategies: <br>\" + \"\\n\".join(strategies)\n",
    "    trace.set_hovertext(tooltip)\n",
    "# Add the callback to the dendrogram\n",
    "dendro_fig.data[0].on_hover(hover_callback)\n",
    "\n",
    "# Set the x-axis labels to the names of the strategies\n",
    "layout = dendro_fig.layout\n",
    "layout.xaxis.ticktext = normalized_hm.index.tolist()\n",
    "\n",
    "\n",
    "# Show the dendrogram\n",
    "dendro_fig.show()"
   ]
  },
  {
   "cell_type": "markdown",
   "id": "90ea8057",
   "metadata": {},
   "source": [
    "## Find what strats are in each cluster\n",
    "find what strats rank highest in each cluster \n",
    "best in each metric\n",
    "best over all"
   ]
  },
  {
   "cell_type": "code",
   "execution_count": null,
   "id": "3e8a7f2d",
   "metadata": {},
   "outputs": [],
   "source": [
    "fig = plt.figure(figsize=(20, 10))\n",
    "plt.xticks(rotation=45)\n",
    "dend = shc.dendrogram(links)"
   ]
  },
  {
   "cell_type": "code",
   "execution_count": null,
   "id": "31e9a45e",
   "metadata": {},
   "outputs": [],
   "source": [
    "# Add a callback function to the dendrogram\n",
    "def on_click(event):\n",
    "    if event.mouseevent.button == 1:\n",
    "        ind = event.ind[0]\n",
    "        cluster_num = clusters[ind]\n",
    "        strategies = normalized_hm[normalized_hm['Cluster'] == cluster_num].index.tolist()\n",
    "        print(f\"Cluster {cluster_num} Strategies: {strategies}\")\n",
    "\n",
    "fig.canvas.mpl_connect('pick_event', on_click)\n",
    "plt.show()"
   ]
  },
  {
   "cell_type": "markdown",
   "id": "143fbfa3",
   "metadata": {},
   "source": [
    "## Dendrogram "
   ]
  },
  {
   "cell_type": "markdown",
   "id": "06133105",
   "metadata": {},
   "source": [
    "## Principal Component Analysis"
   ]
  },
  {
   "cell_type": "code",
   "execution_count": null,
   "id": "d5ed2a36",
   "metadata": {},
   "outputs": [],
   "source": [
    "pca = PCA(n_components = 2)\n",
    "X_principal = pca.fit_transform(normalized_hm)"
   ]
  },
  {
   "cell_type": "code",
   "execution_count": null,
   "id": "42d86131",
   "metadata": {},
   "outputs": [],
   "source": [
    "X_principal = pd.DataFrame(X_principal, index = normalized_hm.index)\n",
    "X_principal.columns = ['P1', 'P2']"
   ]
  },
  {
   "cell_type": "code",
   "execution_count": null,
   "id": "cab5ae76",
   "metadata": {
    "scrolled": true
   },
   "outputs": [],
   "source": [
    "X_principal"
   ]
  },
  {
   "cell_type": "markdown",
   "id": "307f7690",
   "metadata": {},
   "source": [
    "## Elbow Method"
   ]
  },
  {
   "cell_type": "code",
   "execution_count": null,
   "id": "69791cbe",
   "metadata": {},
   "outputs": [],
   "source": [
    "inertia = []\n",
    "K = range(1,6)\n",
    "for k in K:\n",
    "    kmeanModel = KMeans(n_clusters=k).fit(normalized_hm)\n",
    "    kmeanModel.fit(normalized_hm)\n",
    "    inertia.append(kmeanModel.inertia_)\n",
    "    \n",
    "    # Plot the elbow\n",
    "plt.plot(K, inertia, 'bx-')\n",
    "plt.xlabel('k')\n",
    "plt.ylabel('Inertia')\n",
    "plt.show()"
   ]
  },
  {
   "cell_type": "markdown",
   "id": "6a029c99",
   "metadata": {},
   "source": [
    "## Determine amount of clusters"
   ]
  },
  {
   "cell_type": "code",
   "execution_count": null,
   "id": "b5d80f7f",
   "metadata": {},
   "outputs": [],
   "source": [
    "# input clusters here\n",
    "ncluster = 3"
   ]
  },
  {
   "cell_type": "code",
   "execution_count": null,
   "id": "402b1fef",
   "metadata": {},
   "outputs": [],
   "source": [
    "ac2 = AgglomerativeClustering(n_clusters = ncluster, affinity = 'euclidean', linkage = 'ward')\n",
    "X_principal['Cluster'] = ac2.fit_predict(X_principal)\n",
    "X_principal2 = X_principal.copy()\n",
    "X_principal2['Strat'] = list(X_principal.index)\n",
    "X_principal2"
   ]
  },
  {
   "cell_type": "markdown",
   "id": "f70dd50b",
   "metadata": {},
   "source": [
    "## Agglomerative Clustering "
   ]
  },
  {
   "cell_type": "code",
   "execution_count": null,
   "id": "8dff4a51",
   "metadata": {},
   "outputs": [],
   "source": [
    "ac2 = AgglomerativeClustering(n_clusters = ncluster, affinity = 'euclidean', linkage = 'ward')\n",
    "fig = px.scatter(X_principal2, x= 'P1',y ='P2', \n",
    "                 color = ac2.fit_predict(X_principal), hover_data = ['Strat'])\n",
    "fig"
   ]
  },
  {
   "cell_type": "code",
   "execution_count": null,
   "id": "e739129f",
   "metadata": {},
   "outputs": [],
   "source": [
    "ac2 = AgglomerativeClustering(n_clusters = ncluster, affinity = 'euclidean', linkage = 'single')\n",
    "fig = px.scatter( x= X_principal['P1'],y =X_principal['P2'], color = ac2.fit_predict(X_principal))\n",
    "fig"
   ]
  },
  {
   "cell_type": "code",
   "execution_count": null,
   "id": "ce5c34b1",
   "metadata": {},
   "outputs": [],
   "source": [
    "ac2 = AgglomerativeClustering(n_clusters = ncluster, affinity = 'euclidean', linkage = 'complete')\n",
    "fig = px.scatter( x= X_principal['P1'],y =X_principal['P2'], color = ac2.fit_predict(X_principal))\n",
    "fig"
   ]
  },
  {
   "cell_type": "code",
   "execution_count": null,
   "id": "544d8365",
   "metadata": {},
   "outputs": [],
   "source": [
    "ac2 = AgglomerativeClustering(n_clusters = ncluster, affinity = 'euclidean', linkage = 'average')\n",
    "fig = px.scatter( x= X_principal['P1'],y =X_principal['P2'], color = ac2.fit_predict(X_principal))\n",
    "fig"
   ]
  },
  {
   "cell_type": "code",
   "execution_count": null,
   "id": "83626a54",
   "metadata": {},
   "outputs": [],
   "source": []
  }
 ],
 "metadata": {
  "kernelspec": {
   "display_name": "Python 3 (ipykernel)",
   "language": "python",
   "name": "python3"
  },
  "language_info": {
   "codemirror_mode": {
    "name": "ipython",
    "version": 3
   },
   "file_extension": ".py",
   "mimetype": "text/x-python",
   "name": "python",
   "nbconvert_exporter": "python",
   "pygments_lexer": "ipython3",
   "version": "3.9.7"
  }
 },
 "nbformat": 4,
 "nbformat_minor": 5
}
