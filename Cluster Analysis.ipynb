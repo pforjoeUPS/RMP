{
 "cells": [
  {
   "cell_type": "markdown",
   "id": "f4790af4",
   "metadata": {},
   "source": [
    "# QIS Cluster Analysis"
   ]
  },
  {
   "cell_type": "markdown",
   "id": "33032cbc",
   "metadata": {},
   "source": [
    "### Import Libraries"
   ]
  },
  {
   "cell_type": "code",
   "execution_count": 1,
   "id": "c590ab21",
   "metadata": {},
   "outputs": [],
   "source": [
    "import os\n",
    "from EquityHedging.datamanager import data_manager as dm\n",
    "from EquityHedging.reporting import formatter as fmt\n",
    "from ClusterAnalysis.datamanager import datamanager as cdm\n",
    "from EquityHedging.analytics import summary\n",
    "from sklearn.cluster import AgglomerativeClustering\n",
    "import scipy.cluster.hierarchy as shc\n",
    "from sklearn.decomposition import PCA\n",
    "import pandas as pd\n",
    "import numpy as np\n",
    "from sklearn.cluster import KMeans\n",
    "from scipy.cluster.hierarchy import dendrogram, linkage, fcluster \n",
    "from scipy.spatial.distance import pdist, squareform\n",
    "import matplotlib.pyplot as plt\n",
    "\n",
    "import ipywidgets as widgets\n",
    "from ipywidgets import interact\n",
    "import plotly.io as pio\n",
    "import plotly.express as px\n",
    "import plotly.offline as py\n",
    "\n",
    "from ipywidgets import interact, Dropdown"
   ]
  },
  {
   "cell_type": "markdown",
   "id": "7490addd",
   "metadata": {},
   "source": [
    "### Import Normalized Hedge Metrics"
   ]
  },
  {
   "cell_type": "code",
   "execution_count": 2,
   "id": "5a68c48b",
   "metadata": {},
   "outputs": [
    {
     "data": {
      "text/html": [
       "<div>\n",
       "<style scoped>\n",
       "    .dataframe tbody tr th:only-of-type {\n",
       "        vertical-align: middle;\n",
       "    }\n",
       "\n",
       "    .dataframe tbody tr th {\n",
       "        vertical-align: top;\n",
       "    }\n",
       "\n",
       "    .dataframe thead th {\n",
       "        text-align: right;\n",
       "    }\n",
       "</style>\n",
       "<table border=\"1\" class=\"dataframe\">\n",
       "  <thead>\n",
       "    <tr style=\"text-align: right;\">\n",
       "      <th></th>\n",
       "      <th>Downside Reliability</th>\n",
       "      <th>Convexity</th>\n",
       "      <th>Cost</th>\n",
       "      <th>Decay</th>\n",
       "      <th>Total</th>\n",
       "    </tr>\n",
       "  </thead>\n",
       "  <tbody>\n",
       "    <tr>\n",
       "      <th>AQPEECSN index</th>\n",
       "      <td>0.558949</td>\n",
       "      <td>0.030109</td>\n",
       "      <td>0.973866</td>\n",
       "      <td>0.583562</td>\n",
       "      <td>2.146486</td>\n",
       "    </tr>\n",
       "    <tr>\n",
       "      <th>CMCINT index</th>\n",
       "      <td>0.682372</td>\n",
       "      <td>0.133085</td>\n",
       "      <td>0.788605</td>\n",
       "      <td>0.509589</td>\n",
       "      <td>2.113650</td>\n",
       "    </tr>\n",
       "    <tr>\n",
       "      <th>COSXPLNE index</th>\n",
       "      <td>0.394656</td>\n",
       "      <td>0.103044</td>\n",
       "      <td>0.884440</td>\n",
       "      <td>0.630137</td>\n",
       "      <td>2.012277</td>\n",
       "    </tr>\n",
       "    <tr>\n",
       "      <th>UBCIPACC index</th>\n",
       "      <td>0.491558</td>\n",
       "      <td>0.040466</td>\n",
       "      <td>0.941593</td>\n",
       "      <td>0.071233</td>\n",
       "      <td>1.544850</td>\n",
       "    </tr>\n",
       "    <tr>\n",
       "      <th>UBCITCCC index</th>\n",
       "      <td>0.533352</td>\n",
       "      <td>0.036417</td>\n",
       "      <td>0.933747</td>\n",
       "      <td>0.153425</td>\n",
       "      <td>1.656941</td>\n",
       "    </tr>\n",
       "    <tr>\n",
       "      <th>UBSIXPLN index</th>\n",
       "      <td>0.504565</td>\n",
       "      <td>0.118130</td>\n",
       "      <td>0.896486</td>\n",
       "      <td>0.421918</td>\n",
       "      <td>1.941098</td>\n",
       "    </tr>\n",
       "    <tr>\n",
       "      <th>XUBSCTRE index</th>\n",
       "      <td>0.381204</td>\n",
       "      <td>0.053299</td>\n",
       "      <td>0.919619</td>\n",
       "      <td>0.090411</td>\n",
       "      <td>1.444533</td>\n",
       "    </tr>\n",
       "    <tr>\n",
       "      <th>XUBSECTE Index</th>\n",
       "      <td>0.363424</td>\n",
       "      <td>0.058883</td>\n",
       "      <td>0.918260</td>\n",
       "      <td>0.134247</td>\n",
       "      <td>1.474814</td>\n",
       "    </tr>\n",
       "    <tr>\n",
       "      <th>UBCIRSER index</th>\n",
       "      <td>0.432692</td>\n",
       "      <td>0.152881</td>\n",
       "      <td>0.808532</td>\n",
       "      <td>0.386301</td>\n",
       "      <td>1.780407</td>\n",
       "    </tr>\n",
       "    <tr>\n",
       "      <th>UCCIRSER index</th>\n",
       "      <td>0.449872</td>\n",
       "      <td>0.127747</td>\n",
       "      <td>0.831788</td>\n",
       "      <td>0.271233</td>\n",
       "      <td>1.680640</td>\n",
       "    </tr>\n",
       "    <tr>\n",
       "      <th>UBCCRSER index</th>\n",
       "      <td>0.415068</td>\n",
       "      <td>0.050868</td>\n",
       "      <td>0.959711</td>\n",
       "      <td>0.372603</td>\n",
       "      <td>1.798249</td>\n",
       "    </tr>\n",
       "    <tr>\n",
       "      <th>UBCCOTCO index</th>\n",
       "      <td>0.490744</td>\n",
       "      <td>0.043935</td>\n",
       "      <td>0.935047</td>\n",
       "      <td>0.301370</td>\n",
       "      <td>1.771096</td>\n",
       "    </tr>\n",
       "    <tr>\n",
       "      <th>UCCOTCOE index</th>\n",
       "      <td>0.466612</td>\n",
       "      <td>0.090369</td>\n",
       "      <td>0.861412</td>\n",
       "      <td>0.041096</td>\n",
       "      <td>1.459490</td>\n",
       "    </tr>\n",
       "    <tr>\n",
       "      <th>UBCOTCOE index</th>\n",
       "      <td>0.472143</td>\n",
       "      <td>0.104149</td>\n",
       "      <td>0.843006</td>\n",
       "      <td>0.041096</td>\n",
       "      <td>1.460394</td>\n",
       "    </tr>\n",
       "    <tr>\n",
       "      <th>UBCLPLNE index</th>\n",
       "      <td>0.493516</td>\n",
       "      <td>0.058365</td>\n",
       "      <td>0.977876</td>\n",
       "      <td>0.745205</td>\n",
       "      <td>2.274963</td>\n",
       "    </tr>\n",
       "    <tr>\n",
       "      <th>UBCLXLNE index</th>\n",
       "      <td>0.490974</td>\n",
       "      <td>0.077491</td>\n",
       "      <td>0.972651</td>\n",
       "      <td>0.695890</td>\n",
       "      <td>2.237006</td>\n",
       "    </tr>\n",
       "    <tr>\n",
       "      <th>XUBSDCCE Index</th>\n",
       "      <td>0.551816</td>\n",
       "      <td>0.058868</td>\n",
       "      <td>0.969597</td>\n",
       "      <td>0.301370</td>\n",
       "      <td>1.881651</td>\n",
       "    </tr>\n",
       "    <tr>\n",
       "      <th>XUBSBCRP index</th>\n",
       "      <td>0.420164</td>\n",
       "      <td>0.073239</td>\n",
       "      <td>0.923578</td>\n",
       "      <td>0.605479</td>\n",
       "      <td>2.022460</td>\n",
       "    </tr>\n",
       "    <tr>\n",
       "      <th>XUBSBCRV index</th>\n",
       "      <td>0.443333</td>\n",
       "      <td>0.051954</td>\n",
       "      <td>0.936776</td>\n",
       "      <td>0.273973</td>\n",
       "      <td>1.706035</td>\n",
       "    </tr>\n",
       "    <tr>\n",
       "      <th>XUBSCRP3 Index</th>\n",
       "      <td>0.425039</td>\n",
       "      <td>0.049289</td>\n",
       "      <td>0.949579</td>\n",
       "      <td>0.652055</td>\n",
       "      <td>2.075962</td>\n",
       "    </tr>\n",
       "  </tbody>\n",
       "</table>\n",
       "</div>"
      ],
      "text/plain": [
       "                Downside Reliability  Convexity      Cost     Decay     Total\n",
       "AQPEECSN index              0.558949   0.030109  0.973866  0.583562  2.146486\n",
       "CMCINT index                0.682372   0.133085  0.788605  0.509589  2.113650\n",
       "COSXPLNE index              0.394656   0.103044  0.884440  0.630137  2.012277\n",
       "UBCIPACC index              0.491558   0.040466  0.941593  0.071233  1.544850\n",
       "UBCITCCC index              0.533352   0.036417  0.933747  0.153425  1.656941\n",
       "UBSIXPLN index              0.504565   0.118130  0.896486  0.421918  1.941098\n",
       "XUBSCTRE index              0.381204   0.053299  0.919619  0.090411  1.444533\n",
       "XUBSECTE Index              0.363424   0.058883  0.918260  0.134247  1.474814\n",
       "UBCIRSER index              0.432692   0.152881  0.808532  0.386301  1.780407\n",
       "UCCIRSER index              0.449872   0.127747  0.831788  0.271233  1.680640\n",
       "UBCCRSER index              0.415068   0.050868  0.959711  0.372603  1.798249\n",
       "UBCCOTCO index              0.490744   0.043935  0.935047  0.301370  1.771096\n",
       "UCCOTCOE index              0.466612   0.090369  0.861412  0.041096  1.459490\n",
       "UBCOTCOE index              0.472143   0.104149  0.843006  0.041096  1.460394\n",
       "UBCLPLNE index              0.493516   0.058365  0.977876  0.745205  2.274963\n",
       "UBCLXLNE index              0.490974   0.077491  0.972651  0.695890  2.237006\n",
       "XUBSDCCE Index              0.551816   0.058868  0.969597  0.301370  1.881651\n",
       "XUBSBCRP index              0.420164   0.073239  0.923578  0.605479  2.022460\n",
       "XUBSBCRV index              0.443333   0.051954  0.936776  0.273973  1.706035\n",
       "XUBSCRP3 Index              0.425039   0.049289  0.949579  0.652055  2.075962"
      ]
     },
     "execution_count": 2,
     "metadata": {},
     "output_type": "execute_result"
    }
   ],
   "source": [
    "normalized_hm = cdm.get_normalized_hm()\n",
    "# Calculate the sum of features for each strategy (row-wise sum)\n",
    "normalized_hm['Total'] = normalized_hm.sum(axis=1)\n",
    "normalized_hm.head(20)"
   ]
  },
  {
   "cell_type": "markdown",
   "id": "99ac2bd3",
   "metadata": {},
   "source": [
    "### Import QIS Universe Returns"
   ]
  },
  {
   "cell_type": "code",
   "execution_count": 3,
   "id": "244703ed",
   "metadata": {},
   "outputs": [],
   "source": [
    "qis_uni = cdm.get_qis_uni_dict()\n",
    "banks = list(qis_uni.keys())\n",
    "#@interact\n",
    "#def display_returns(bankret = banks):\n",
    "#    return fmt.get_returns_styler(qis_uni[bankret])"
   ]
  },
  {
   "cell_type": "markdown",
   "id": "bdaa1a9b",
   "metadata": {},
   "source": [
    "### Select Number of Clusters"
   ]
  },
  {
   "cell_type": "code",
   "execution_count": 4,
   "id": "61e4f04a",
   "metadata": {},
   "outputs": [
    {
     "name": "stderr",
     "output_type": "stream",
     "text": [
      "C:\\Users\\RRQ1FYQ\\anaconda\\lib\\site-packages\\sklearn\\cluster\\_kmeans.py:881: UserWarning:\n",
      "\n",
      "KMeans is known to have a memory leak on Windows with MKL, when there are less chunks than available threads. You can avoid it by setting the environment variable OMP_NUM_THREADS=9.\n",
      "\n",
      "C:\\Users\\RRQ1FYQ\\anaconda\\lib\\site-packages\\sklearn\\cluster\\_kmeans.py:881: UserWarning:\n",
      "\n",
      "KMeans is known to have a memory leak on Windows with MKL, when there are less chunks than available threads. You can avoid it by setting the environment variable OMP_NUM_THREADS=9.\n",
      "\n"
     ]
    },
    {
     "data": {
      "image/png": "[encoded data removed]",
      "text/plain": [
       "<Figure size 432x288 with 1 Axes>"
      ]
     },
     "metadata": {
      "needs_background": "light"
     },
     "output_type": "display_data"
    }
   ],
   "source": [
    "pca = PCA(n_components = 2)\n",
    "X_principal = pca.fit_transform(normalized_hm[['Downside Reliability', 'Convexity','Cost','Decay']])\n",
    "X_principal = pd.DataFrame(X_principal, index = normalized_hm.index)\n",
    "X_principal.columns = ['P1', 'P2']\n",
    "inertia = []\n",
    "K = range(1,6)\n",
    "for k in K:\n",
    "    kmeanModel = KMeans(n_clusters=k).fit(normalized_hm)\n",
    "    kmeanModel.fit(normalized_hm)\n",
    "    inertia.append(kmeanModel.inertia_)\n",
    "    \n",
    "    # Plot the elbow\n",
    "plt.plot(K, inertia, 'bx-')\n",
    "plt.xlabel('k')\n",
    "plt.ylabel('Inertia')\n",
    "plt.show()"
   ]
  },
  {
   "cell_type": "code",
   "execution_count": 5,
   "id": "b909eb8c",
   "metadata": {},
   "outputs": [],
   "source": [
    "n_cluster = 3"
   ]
  },
  {
   "cell_type": "markdown",
   "id": "3bcfb9f9",
   "metadata": {},
   "source": [
    "### Run Hierarchical Agglomerative Clustering Analysis"
   ]
  },
  {
   "cell_type": "code",
   "execution_count": 6,
   "id": "a5e656e9",
   "metadata": {
    "scrolled": true
   },
   "outputs": [],
   "source": [
    "cluster_analysis = cdm.hierarchical_clustering_analysis(normalized_hm, n_cluster)\n",
    "cluster_list = list(range(1,n_cluster+1))\n",
    "\n",
    "#@interact\n",
    "#def display_cluster_strats(cluster = cluster_list):\n",
    "#    return list(cluster_analysis[cluster_analysis['Cluster'] == cluster].index)"
   ]
  },
  {
   "cell_type": "markdown",
   "id": "31abae6c",
   "metadata": {},
   "source": [
    "### Metrics Scatter Plot"
   ]
  },
  {
   "cell_type": "code",
   "execution_count": 7,
   "id": "26f867b2",
   "metadata": {},
   "outputs": [
    {
     "data": {
      "application/vnd.jupyter.widget-view+json": {
       "model_id": "ad3f991defe44486ad50f299793e0952",
       "version_major": 2,
       "version_minor": 0
      },
      "text/plain": [
       "interactive(children=(Dropdown(description='X-axis:', options=('Downside Reliability', 'Convexity', 'Cost', 'D…"
      ]
     },
     "metadata": {},
     "output_type": "display_data"
    },
    {
     "data": {
      "text/plain": [
       "<function __main__.update_plot(x_axis, y_axis)>"
      ]
     },
     "execution_count": 7,
     "metadata": {},
     "output_type": "execute_result"
    }
   ],
   "source": [
    "\n",
    "data= cluster_analysis.copy()\n",
    "\n",
    "# Get the unique column names for dropdowns\n",
    "feature_columns = data.columns[:-1]\n",
    "data['Hover'] = list(cluster_analysis.index)\n",
    "\n",
    "# Function to update the scatter plot\n",
    "def update_plot(x_axis, y_axis):\n",
    "    fig = px.scatter(\n",
    "        data,\n",
    "        x=x_axis,\n",
    "        y=y_axis,\n",
    "        color='Cluster',\n",
    "        hover_data=['Hover'],\n",
    "        labels={x_axis: x_axis, y_axis: y_axis},\n",
    "        title='Interactive Scatter Plot with Clusters'\n",
    "    )\n",
    "    fig.show()\n",
    "\n",
    "# Create interactive dropdowns\n",
    "x_dropdown = Dropdown(options=feature_columns, description='X-axis:')\n",
    "y_dropdown = Dropdown(options=feature_columns, description='Y-axis:')\n",
    "\n",
    "# Create the interactive plot\n",
    "interact(update_plot, x_axis=x_dropdown, y_axis=y_dropdown)\n",
    "\n"
   ]
  },
  {
   "cell_type": "markdown",
   "id": "ec44e306",
   "metadata": {},
   "source": [
    "### Find Strategies Ranked Best in Cluster"
   ]
  },
  {
   "cell_type": "code",
   "execution_count": 8,
   "id": "9c958335",
   "metadata": {
    "scrolled": true
   },
   "outputs": [
    {
     "data": {
      "text/plain": [
       "['BNPITI2U Index',\n",
       " 'BNPITIU1 Index',\n",
       " 'JCREOCI1 Index',\n",
       " 'SGMDLVCA Index',\n",
       " 'CVICCADN Index',\n",
       " 'VMAF2JF4 Index']"
      ]
     },
     "execution_count": 8,
     "metadata": {},
     "output_type": "execute_result"
    }
   ],
   "source": [
    "best_in_cluster = cdm.best_in_cluster(cluster_analysis, n_cluster)\n",
    "best_in_cluster_ret = cdm.get_best_returns_data(qis_uni, best_in_cluster)\n",
    "best_in_cluster"
   ]
  },
  {
   "cell_type": "code",
   "execution_count": 9,
   "id": "4adbc6e8",
   "metadata": {},
   "outputs": [],
   "source": [
    "def get_best_in_metric(normalized_hm_df, decay_factor = \"Total\"):\n",
    "    best_in_metric_strats= []\n",
    "   #loop through each metric and find top 2 strategies with the largest score for that metric\n",
    "    for i in list(normalized_hm_df.columns.drop([\"Total\",\"Cluster\"])):\n",
    "        if i == \"Decay\":\n",
    "            #gets all strategies that rank highes in decay (i.e. 1) \n",
    "            decay = normalized_hm_df[normalized_hm_df[\"Decay\"] ==1]\n",
    "            #then select top 2 strats based on total score\n",
    "            top2 = decay.nlargest(2,decay_factor)\n",
    "        else:\n",
    "             top2 = normalized_hm_df.nlargest(2,i)\n",
    "        #add strat names to list\n",
    "        top2.reset_index(inplace = True)\n",
    "        best_in_metric_strats = best_in_metric_strats + (top2[\"index\"].tolist())\n",
    "    \n",
    "    return best_in_metric_strats"
   ]
  },
  {
   "cell_type": "markdown",
   "id": "168c650d",
   "metadata": {},
   "source": [
    "### Find Strategies Ranked Best in Metric"
   ]
  },
  {
   "cell_type": "code",
   "execution_count": 10,
   "id": "2d40270c",
   "metadata": {},
   "outputs": [
    {
     "data": {
      "text/plain": [
       "['BNPIRRUS Index',\n",
       " 'BNPIECUS Index',\n",
       " 'BNPIESTV Index',\n",
       " 'BNPIV1UE Index',\n",
       " 'MQIS6RJP Index',\n",
       " 'MQIS6RGB Index',\n",
       " 'BNPITI2U Index',\n",
       " 'BNPITIU1 Index']"
      ]
     },
     "execution_count": 10,
     "metadata": {},
     "output_type": "execute_result"
    }
   ],
   "source": [
    "best_in_metric = get_best_in_metric(cluster_analysis, decay_factor = \"Total\")\n",
    "best_in_metric_ret = cdm.get_best_returns_data(qis_uni, best_in_metric)\n",
    "best_in_metric"
   ]
  },
  {
   "cell_type": "code",
   "execution_count": 11,
   "id": "5d28d5a5",
   "metadata": {},
   "outputs": [
    {
     "data": {
      "text/plain": [
       "['BNPIRRUS Index',\n",
       " 'BNPIECUS Index',\n",
       " 'BNPIESTV Index',\n",
       " 'BNPIV1UE Index',\n",
       " 'MQIS6RJP Index',\n",
       " 'MQIS6RGB Index',\n",
       " 'CICXK5CL Index',\n",
       " 'VMAC2CL2 Index']"
      ]
     },
     "execution_count": 11,
     "metadata": {},
     "output_type": "execute_result"
    }
   ],
   "source": [
    "best_in_metric2 = get_best_in_metric(cluster_analysis, decay_factor = \"Convexity\")\n",
    "best_in_metric_ret2 = cdm.get_best_returns_data(qis_uni, best_in_metric2)\n",
    "best_in_metric2"
   ]
  },
  {
   "cell_type": "markdown",
   "id": "b8cf0494",
   "metadata": {},
   "source": [
    "### Find Strategies Ranked Best in Universe"
   ]
  },
  {
   "cell_type": "code",
   "execution_count": 12,
   "id": "65bb0e28",
   "metadata": {},
   "outputs": [
    {
     "data": {
      "text/plain": [
       "['BNPITI2U Index',\n",
       " 'BNPITIU1 Index',\n",
       " 'BNPIRRUS Index',\n",
       " 'BNPXTIUP Index',\n",
       " 'BNPISPUS Index',\n",
       " 'BNPITI2M Index',\n",
       " 'BAEIPDAJ Index',\n",
       " 'BAEIUPDA Index']"
      ]
     },
     "execution_count": 12,
     "metadata": {},
     "output_type": "execute_result"
    }
   ],
   "source": [
    "best_in_uni =  cdm.best_in_universe(cluster_analysis)\n",
    "best_in_universe_ret = cdm.get_best_returns_data(qis_uni, best_in_uni)\n",
    "best_in_uni"
   ]
  },
  {
   "cell_type": "markdown",
   "id": "c5f1983a",
   "metadata": {},
   "source": [
    "### Get Best In Cluster Efficient Frontier"
   ]
  },
  {
   "cell_type": "code",
   "execution_count": 13,
   "id": "df5ceaac",
   "metadata": {},
   "outputs": [
    {
     "name": "stderr",
     "output_type": "stream",
     "text": [
      "C:\\Users\\RRQ1FYQ\\Documents\\RMP\\ClusterAnalysis\\datamanager\\datamanager.py:148: PerformanceWarning:\n",
      "\n",
      "DataFrame is highly fragmented.  This is usually the result of calling `frame.insert` many times, which has poor performance.  Consider joining all columns at once using pd.concat(axis=1) instead.  To get a de-fragmented frame, use `newframe = frame.copy()`\n",
      "\n",
      "C:\\Users\\RRQ1FYQ\\Documents\\RMP\\ClusterAnalysis\\datamanager\\datamanager.py:150: PerformanceWarning:\n",
      "\n",
      "DataFrame is highly fragmented.  This is usually the result of calling `frame.insert` many times, which has poor performance.  Consider joining all columns at once using pd.concat(axis=1) instead.  To get a de-fragmented frame, use `newframe = frame.copy()`\n",
      "\n"
     ]
    }
   ],
   "source": [
    "best_in_cluster_ef = cdm.get_efficient_frontier(best_in_cluster_ret)"
   ]
  },
  {
   "cell_type": "code",
   "execution_count": 14,
   "id": "031286ea",
   "metadata": {},
   "outputs": [
    {
     "data": {
      "application/vnd.jupyter.widget-view+json": {
       "model_id": "a8b5cbb23cbc4348933f618d1fc97326",
       "version_major": 2,
       "version_minor": 0
      },
      "text/plain": [
       "interactive(children=(Dropdown(description='results', options=('Weights', 'Return Stats', 'Weighted Portfolio …"
      ]
     },
     "metadata": {},
     "output_type": "display_data"
    }
   ],
   "source": [
    "ef_list = [\"Weights\",\"Return Stats\", \"Weighted Portfolio Ret Stats\",\"Weights for Portfolio\"]\n",
    "@interact\n",
    "def display_returns(results = ef_list):\n",
    "    return (best_in_cluster_ef[results])"
   ]
  },
  {
   "cell_type": "markdown",
   "id": "6c09b733",
   "metadata": {},
   "source": [
    "### Get Best In Metric Efficient Frontier"
   ]
  },
  {
   "cell_type": "code",
   "execution_count": 15,
   "id": "45a81dca",
   "metadata": {},
   "outputs": [
    {
     "name": "stderr",
     "output_type": "stream",
     "text": [
      "C:\\Users\\RRQ1FYQ\\Documents\\RMP\\ClusterAnalysis\\datamanager\\datamanager.py:148: PerformanceWarning:\n",
      "\n",
      "DataFrame is highly fragmented.  This is usually the result of calling `frame.insert` many times, which has poor performance.  Consider joining all columns at once using pd.concat(axis=1) instead.  To get a de-fragmented frame, use `newframe = frame.copy()`\n",
      "\n",
      "C:\\Users\\RRQ1FYQ\\Documents\\RMP\\ClusterAnalysis\\datamanager\\datamanager.py:150: PerformanceWarning:\n",
      "\n",
      "DataFrame is highly fragmented.  This is usually the result of calling `frame.insert` many times, which has poor performance.  Consider joining all columns at once using pd.concat(axis=1) instead.  To get a de-fragmented frame, use `newframe = frame.copy()`\n",
      "\n"
     ]
    }
   ],
   "source": [
    "best_in_metric_ef = cdm.get_efficient_frontier(best_in_metric_ret)"
   ]
  },
  {
   "cell_type": "code",
   "execution_count": 16,
   "id": "ee7dc493",
   "metadata": {
    "scrolled": false
   },
   "outputs": [
    {
     "data": {
      "application/vnd.jupyter.widget-view+json": {
       "model_id": "2afb55a695f141d19999e09f33bbd8e8",
       "version_major": 2,
       "version_minor": 0
      },
      "text/plain": [
       "interactive(children=(Dropdown(description='results', options=('Weights', 'Return Stats', 'Weighted Portfolio …"
      ]
     },
     "metadata": {},
     "output_type": "display_data"
    }
   ],
   "source": [
    "@interact\n",
    "def display_returns(results = ef_list):\n",
    "    return (best_in_metric_ef[results])"
   ]
  },
  {
   "cell_type": "code",
   "execution_count": 17,
   "id": "9718f8d5",
   "metadata": {},
   "outputs": [
    {
     "name": "stderr",
     "output_type": "stream",
     "text": [
      "C:\\Users\\RRQ1FYQ\\Documents\\RMP\\ClusterAnalysis\\datamanager\\datamanager.py:148: PerformanceWarning:\n",
      "\n",
      "DataFrame is highly fragmented.  This is usually the result of calling `frame.insert` many times, which has poor performance.  Consider joining all columns at once using pd.concat(axis=1) instead.  To get a de-fragmented frame, use `newframe = frame.copy()`\n",
      "\n",
      "C:\\Users\\RRQ1FYQ\\Documents\\RMP\\ClusterAnalysis\\datamanager\\datamanager.py:150: PerformanceWarning:\n",
      "\n",
      "DataFrame is highly fragmented.  This is usually the result of calling `frame.insert` many times, which has poor performance.  Consider joining all columns at once using pd.concat(axis=1) instead.  To get a de-fragmented frame, use `newframe = frame.copy()`\n",
      "\n"
     ]
    }
   ],
   "source": [
    "best_in_metric_ef2 = cdm.get_efficient_frontier(best_in_metric_ret2)"
   ]
  },
  {
   "cell_type": "code",
   "execution_count": 18,
   "id": "330de848",
   "metadata": {},
   "outputs": [
    {
     "data": {
      "application/vnd.jupyter.widget-view+json": {
       "model_id": "322e8893c72544ef96b61964e080c519",
       "version_major": 2,
       "version_minor": 0
      },
      "text/plain": [
       "interactive(children=(Dropdown(description='results', options=('Weights', 'Return Stats', 'Weighted Portfolio …"
      ]
     },
     "metadata": {},
     "output_type": "display_data"
    }
   ],
   "source": [
    "@interact\n",
    "def display_returns(results = ef_list):\n",
    "    return (best_in_metric_ef[results])"
   ]
  },
  {
   "cell_type": "markdown",
   "id": "23019d8b",
   "metadata": {},
   "source": [
    "### Get Best In Universe Efficient Frontier"
   ]
  },
  {
   "cell_type": "code",
   "execution_count": 19,
   "id": "2b5131b3",
   "metadata": {},
   "outputs": [
    {
     "name": "stderr",
     "output_type": "stream",
     "text": [
      "C:\\Users\\RRQ1FYQ\\Documents\\RMP\\ClusterAnalysis\\datamanager\\datamanager.py:148: PerformanceWarning:\n",
      "\n",
      "DataFrame is highly fragmented.  This is usually the result of calling `frame.insert` many times, which has poor performance.  Consider joining all columns at once using pd.concat(axis=1) instead.  To get a de-fragmented frame, use `newframe = frame.copy()`\n",
      "\n",
      "C:\\Users\\RRQ1FYQ\\Documents\\RMP\\ClusterAnalysis\\datamanager\\datamanager.py:150: PerformanceWarning:\n",
      "\n",
      "DataFrame is highly fragmented.  This is usually the result of calling `frame.insert` many times, which has poor performance.  Consider joining all columns at once using pd.concat(axis=1) instead.  To get a de-fragmented frame, use `newframe = frame.copy()`\n",
      "\n"
     ]
    }
   ],
   "source": [
    "best_in_universe_ef = cdm.get_efficient_frontier(best_in_universe_ret)\n"
   ]
  },
  {
   "cell_type": "code",
   "execution_count": 20,
   "id": "b3e8837e",
   "metadata": {},
   "outputs": [
    {
     "data": {
      "application/vnd.jupyter.widget-view+json": {
       "model_id": "f541291341a347b18509cb8d91495262",
       "version_major": 2,
       "version_minor": 0
      },
      "text/plain": [
       "interactive(children=(Dropdown(description='results', options=('Weights', 'Return Stats', 'Weighted Portfolio …"
      ]
     },
     "metadata": {},
     "output_type": "display_data"
    }
   ],
   "source": [
    "@interact\n",
    "def display_returns(results = ef_list):\n",
    "    return (best_in_universe_ef[results])"
   ]
  },
  {
   "cell_type": "markdown",
   "id": "71275b6b",
   "metadata": {},
   "source": [
    "## Get Data"
   ]
  },
  {
   "cell_type": "markdown",
   "id": "2d6dabea",
   "metadata": {},
   "source": [
    "### Get Benchmark Returns"
   ]
  },
  {
   "cell_type": "code",
   "execution_count": 21,
   "id": "66677a49",
   "metadata": {},
   "outputs": [],
   "source": [
    "sptr = qis_uni['SPTR']\n",
    "sptr_returns_dict= dm.get_data_dict(sptr, data_type = \"Returns\")"
   ]
  },
  {
   "cell_type": "markdown",
   "id": "08e213dd",
   "metadata": {},
   "source": [
    "### Get UPS Weighted Hedges"
   ]
  },
  {
   "cell_type": "code",
   "execution_count": 22,
   "id": "4a8027d5",
   "metadata": {},
   "outputs": [
    {
     "data": {
      "text/html": [
       "<div>\n",
       "<style scoped>\n",
       "    .dataframe tbody tr th:only-of-type {\n",
       "        vertical-align: middle;\n",
       "    }\n",
       "\n",
       "    .dataframe tbody tr th {\n",
       "        vertical-align: top;\n",
       "    }\n",
       "\n",
       "    .dataframe thead th {\n",
       "        text-align: right;\n",
       "    }\n",
       "</style>\n",
       "<table border=\"1\" class=\"dataframe\">\n",
       "  <thead>\n",
       "    <tr style=\"text-align: right;\">\n",
       "      <th></th>\n",
       "      <th>SPTR</th>\n",
       "      <th>Down Var</th>\n",
       "      <th>Dynamic Put Spread</th>\n",
       "      <th>BNPXVT3A Index</th>\n",
       "      <th>VRR Portfolio</th>\n",
       "      <th>GW Dispersion</th>\n",
       "      <th>Correlation Hedge</th>\n",
       "      <th>Def Var</th>\n",
       "      <th>Commodity Basket</th>\n",
       "      <th>ESPRSO</th>\n",
       "      <th>EVolCon</th>\n",
       "    </tr>\n",
       "  </thead>\n",
       "  <tbody>\n",
       "    <tr>\n",
       "      <th>2017-09-07</th>\n",
       "      <td>0.000050</td>\n",
       "      <td>-0.000697</td>\n",
       "      <td>-0.000194</td>\n",
       "      <td>-0.000018</td>\n",
       "      <td>0.000231</td>\n",
       "      <td>0.004681</td>\n",
       "      <td>-0.000362</td>\n",
       "      <td>0.000720</td>\n",
       "      <td>0.000719</td>\n",
       "      <td>0.000201</td>\n",
       "      <td>-0.000732</td>\n",
       "    </tr>\n",
       "    <tr>\n",
       "      <th>2017-09-08</th>\n",
       "      <td>-0.001446</td>\n",
       "      <td>0.001938</td>\n",
       "      <td>0.000388</td>\n",
       "      <td>0.000014</td>\n",
       "      <td>0.000422</td>\n",
       "      <td>-0.000970</td>\n",
       "      <td>-0.000093</td>\n",
       "      <td>0.000410</td>\n",
       "      <td>-0.000457</td>\n",
       "      <td>0.000402</td>\n",
       "      <td>0.000070</td>\n",
       "    </tr>\n",
       "    <tr>\n",
       "      <th>2017-09-11</th>\n",
       "      <td>0.010853</td>\n",
       "      <td>0.000534</td>\n",
       "      <td>-0.002760</td>\n",
       "      <td>-0.000102</td>\n",
       "      <td>-0.000758</td>\n",
       "      <td>0.000100</td>\n",
       "      <td>0.001032</td>\n",
       "      <td>-0.001367</td>\n",
       "      <td>0.001155</td>\n",
       "      <td>-0.002414</td>\n",
       "      <td>-0.000247</td>\n",
       "    </tr>\n",
       "    <tr>\n",
       "      <th>2017-09-12</th>\n",
       "      <td>0.003423</td>\n",
       "      <td>0.000503</td>\n",
       "      <td>-0.000704</td>\n",
       "      <td>-0.000008</td>\n",
       "      <td>-0.003151</td>\n",
       "      <td>-0.000025</td>\n",
       "      <td>-0.001012</td>\n",
       "      <td>-0.000084</td>\n",
       "      <td>0.000371</td>\n",
       "      <td>-0.000706</td>\n",
       "      <td>-0.000626</td>\n",
       "    </tr>\n",
       "    <tr>\n",
       "      <th>2017-09-13</th>\n",
       "      <td>0.000772</td>\n",
       "      <td>-0.002042</td>\n",
       "      <td>-0.000285</td>\n",
       "      <td>-0.000006</td>\n",
       "      <td>-0.002313</td>\n",
       "      <td>-0.001377</td>\n",
       "      <td>-0.000595</td>\n",
       "      <td>0.000358</td>\n",
       "      <td>-0.000659</td>\n",
       "      <td>0.000202</td>\n",
       "      <td>-0.000544</td>\n",
       "    </tr>\n",
       "    <tr>\n",
       "      <th>...</th>\n",
       "      <td>...</td>\n",
       "      <td>...</td>\n",
       "      <td>...</td>\n",
       "      <td>...</td>\n",
       "      <td>...</td>\n",
       "      <td>...</td>\n",
       "      <td>...</td>\n",
       "      <td>...</td>\n",
       "      <td>...</td>\n",
       "      <td>...</td>\n",
       "      <td>...</td>\n",
       "    </tr>\n",
       "    <tr>\n",
       "      <th>2023-05-24</th>\n",
       "      <td>-0.007300</td>\n",
       "      <td>-0.001545</td>\n",
       "      <td>0.001141</td>\n",
       "      <td>0.000288</td>\n",
       "      <td>-0.001988</td>\n",
       "      <td>-0.000405</td>\n",
       "      <td>-0.001660</td>\n",
       "      <td>0.000432</td>\n",
       "      <td>0.000302</td>\n",
       "      <td>0.002294</td>\n",
       "      <td>0.000385</td>\n",
       "    </tr>\n",
       "    <tr>\n",
       "      <th>2023-05-25</th>\n",
       "      <td>0.008790</td>\n",
       "      <td>0.001074</td>\n",
       "      <td>-0.001516</td>\n",
       "      <td>-0.000420</td>\n",
       "      <td>0.002137</td>\n",
       "      <td>0.009797</td>\n",
       "      <td>0.001363</td>\n",
       "      <td>-0.000456</td>\n",
       "      <td>-0.000758</td>\n",
       "      <td>-0.001949</td>\n",
       "      <td>-0.000076</td>\n",
       "    </tr>\n",
       "    <tr>\n",
       "      <th>2023-05-26</th>\n",
       "      <td>0.013120</td>\n",
       "      <td>0.003091</td>\n",
       "      <td>-0.002386</td>\n",
       "      <td>-0.000466</td>\n",
       "      <td>0.001707</td>\n",
       "      <td>0.001596</td>\n",
       "      <td>-0.001314</td>\n",
       "      <td>-0.000872</td>\n",
       "      <td>0.001208</td>\n",
       "      <td>-0.001189</td>\n",
       "      <td>-0.001285</td>\n",
       "    </tr>\n",
       "    <tr>\n",
       "      <th>2023-05-30</th>\n",
       "      <td>0.000083</td>\n",
       "      <td>-0.001908</td>\n",
       "      <td>0.000400</td>\n",
       "      <td>-0.000081</td>\n",
       "      <td>-0.002497</td>\n",
       "      <td>0.001291</td>\n",
       "      <td>-0.002394</td>\n",
       "      <td>0.003186</td>\n",
       "      <td>0.000390</td>\n",
       "      <td>0.001105</td>\n",
       "      <td>-0.000685</td>\n",
       "    </tr>\n",
       "    <tr>\n",
       "      <th>2023-05-31</th>\n",
       "      <td>-0.005901</td>\n",
       "      <td>-0.003103</td>\n",
       "      <td>0.001224</td>\n",
       "      <td>-0.000026</td>\n",
       "      <td>-0.005925</td>\n",
       "      <td>0.002401</td>\n",
       "      <td>0.001599</td>\n",
       "      <td>0.000712</td>\n",
       "      <td>-0.001304</td>\n",
       "      <td>0.001019</td>\n",
       "      <td>0.000074</td>\n",
       "    </tr>\n",
       "  </tbody>\n",
       "</table>\n",
       "<p>1466 rows × 11 columns</p>\n",
       "</div>"
      ],
      "text/plain": [
       "                SPTR  Down Var  Dynamic Put Spread  BNPXVT3A Index  \\\n",
       "2017-09-07  0.000050 -0.000697           -0.000194       -0.000018   \n",
       "2017-09-08 -0.001446  0.001938            0.000388        0.000014   \n",
       "2017-09-11  0.010853  0.000534           -0.002760       -0.000102   \n",
       "2017-09-12  0.003423  0.000503           -0.000704       -0.000008   \n",
       "2017-09-13  0.000772 -0.002042           -0.000285       -0.000006   \n",
       "...              ...       ...                 ...             ...   \n",
       "2023-05-24 -0.007300 -0.001545            0.001141        0.000288   \n",
       "2023-05-25  0.008790  0.001074           -0.001516       -0.000420   \n",
       "2023-05-26  0.013120  0.003091           -0.002386       -0.000466   \n",
       "2023-05-30  0.000083 -0.001908            0.000400       -0.000081   \n",
       "2023-05-31 -0.005901 -0.003103            0.001224       -0.000026   \n",
       "\n",
       "            VRR Portfolio  GW Dispersion  Correlation Hedge   Def Var  \\\n",
       "2017-09-07       0.000231       0.004681          -0.000362  0.000720   \n",
       "2017-09-08       0.000422      -0.000970          -0.000093  0.000410   \n",
       "2017-09-11      -0.000758       0.000100           0.001032 -0.001367   \n",
       "2017-09-12      -0.003151      -0.000025          -0.001012 -0.000084   \n",
       "2017-09-13      -0.002313      -0.001377          -0.000595  0.000358   \n",
       "...                   ...            ...                ...       ...   \n",
       "2023-05-24      -0.001988      -0.000405          -0.001660  0.000432   \n",
       "2023-05-25       0.002137       0.009797           0.001363 -0.000456   \n",
       "2023-05-26       0.001707       0.001596          -0.001314 -0.000872   \n",
       "2023-05-30      -0.002497       0.001291          -0.002394  0.003186   \n",
       "2023-05-31      -0.005925       0.002401           0.001599  0.000712   \n",
       "\n",
       "            Commodity Basket    ESPRSO   EVolCon  \n",
       "2017-09-07          0.000719  0.000201 -0.000732  \n",
       "2017-09-08         -0.000457  0.000402  0.000070  \n",
       "2017-09-11          0.001155 -0.002414 -0.000247  \n",
       "2017-09-12          0.000371 -0.000706 -0.000626  \n",
       "2017-09-13         -0.000659  0.000202 -0.000544  \n",
       "...                      ...       ...       ...  \n",
       "2023-05-24          0.000302  0.002294  0.000385  \n",
       "2023-05-25         -0.000758 -0.001949 -0.000076  \n",
       "2023-05-26          0.001208 -0.001189 -0.001285  \n",
       "2023-05-30          0.000390  0.001105 -0.000685  \n",
       "2023-05-31         -0.001304  0.001019  0.000074  \n",
       "\n",
       "[1466 rows x 11 columns]"
      ]
     },
     "execution_count": 22,
     "metadata": {},
     "output_type": "execute_result"
    }
   ],
   "source": [
    "ups_returns = pd.DataFrame(qis_uni[\"Weighted Hedges\"])\n",
    "ups_w_bmk = dm.merge_data_frames(sptr, ups_returns)\n",
    "ups_notional_weights = [11,1,1,1,1,1,.25,1,1,0.4,1]\n",
    "ups_returns_dict= dm.get_data_dict(ups_w_bmk, data_type = \"Returns\")\n",
    "ups_returns_dict['Daily']"
   ]
  },
  {
   "cell_type": "markdown",
   "id": "9548e381",
   "metadata": {},
   "source": [
    "### Get Best in Cluster Data Dict"
   ]
  },
  {
   "cell_type": "code",
   "execution_count": 23,
   "id": "82393d4b",
   "metadata": {},
   "outputs": [],
   "source": [
    "total_notional = 8.65"
   ]
  },
  {
   "cell_type": "code",
   "execution_count": 24,
   "id": "014ca5a7",
   "metadata": {},
   "outputs": [],
   "source": [
    "#best in cluster notional weights from efficient frontier\n",
    "best_in_cluster_notional_weights = cdm.get_notional_weights(best_in_cluster_ef[\"Weights for Portfolio\"],total_notional, 11)"
   ]
  },
  {
   "cell_type": "code",
   "execution_count": 25,
   "id": "1a0577ab",
   "metadata": {},
   "outputs": [],
   "source": [
    "#best in cluster returns dict\n",
    "best_in_cluster_w_bmk = dm.merge_data_frames(sptr,best_in_cluster_ret)\n",
    "returns_cluster_dict = dm.get_data_dict(best_in_cluster_w_bmk, data_type = \"Returns\")"
   ]
  },
  {
   "cell_type": "markdown",
   "id": "af1da95c",
   "metadata": {},
   "source": [
    "### Get Best in Metric Data Dict"
   ]
  },
  {
   "cell_type": "code",
   "execution_count": 26,
   "id": "89f0261b",
   "metadata": {},
   "outputs": [
    {
     "data": {
      "text/plain": [
       "[11,\n",
       " 1.9011618653373104,\n",
       " 2.017232947828801,\n",
       " 0.02919483368036275,\n",
       " 1.301139627998428,\n",
       " 0.6119310776557826,\n",
       " 2.4545095067745795,\n",
       " 0.007881636960695996,\n",
       " 0.3269485037640388]"
      ]
     },
     "execution_count": 26,
     "metadata": {},
     "output_type": "execute_result"
    }
   ],
   "source": [
    "#best in cluster notional weights from efficient frontier\n",
    "best_in_metric_notional_weights = cdm.get_notional_weights(best_in_metric_ef[\"Weights for Portfolio\"],total_notional, 11)\n",
    "best_in_metric_notional_weights"
   ]
  },
  {
   "cell_type": "code",
   "execution_count": 27,
   "id": "b855f980",
   "metadata": {},
   "outputs": [
    {
     "data": {
      "text/html": [
       "<div>\n",
       "<style scoped>\n",
       "    .dataframe tbody tr th:only-of-type {\n",
       "        vertical-align: middle;\n",
       "    }\n",
       "\n",
       "    .dataframe tbody tr th {\n",
       "        vertical-align: top;\n",
       "    }\n",
       "\n",
       "    .dataframe thead th {\n",
       "        text-align: right;\n",
       "    }\n",
       "</style>\n",
       "<table border=\"1\" class=\"dataframe\">\n",
       "  <thead>\n",
       "    <tr style=\"text-align: right;\">\n",
       "      <th></th>\n",
       "      <th>SPTR</th>\n",
       "      <th>BNPIRRUS Index</th>\n",
       "      <th>BNPIECUS Index</th>\n",
       "      <th>BNPIESTV Index</th>\n",
       "      <th>BNPIV1UE Index</th>\n",
       "      <th>MQIS6RJP Index</th>\n",
       "      <th>MQIS6RGB Index</th>\n",
       "      <th>BNPITI2U Index</th>\n",
       "      <th>BNPITIU1 Index</th>\n",
       "    </tr>\n",
       "  </thead>\n",
       "  <tbody>\n",
       "    <tr>\n",
       "      <th>2017-09-07</th>\n",
       "      <td>0.000050</td>\n",
       "      <td>-0.000015</td>\n",
       "      <td>0.000235</td>\n",
       "      <td>-0.001943</td>\n",
       "      <td>-0.001280</td>\n",
       "      <td>0.00000</td>\n",
       "      <td>0.000000</td>\n",
       "      <td>0.000161</td>\n",
       "      <td>0.000100</td>\n",
       "    </tr>\n",
       "    <tr>\n",
       "      <th>2017-09-08</th>\n",
       "      <td>-0.001446</td>\n",
       "      <td>-0.000820</td>\n",
       "      <td>-0.001588</td>\n",
       "      <td>0.020912</td>\n",
       "      <td>0.015128</td>\n",
       "      <td>0.00000</td>\n",
       "      <td>0.000000</td>\n",
       "      <td>-0.000310</td>\n",
       "      <td>-0.000148</td>\n",
       "    </tr>\n",
       "    <tr>\n",
       "      <th>2017-09-11</th>\n",
       "      <td>0.010853</td>\n",
       "      <td>0.006331</td>\n",
       "      <td>0.010390</td>\n",
       "      <td>-0.049012</td>\n",
       "      <td>-0.018286</td>\n",
       "      <td>0.00000</td>\n",
       "      <td>0.000000</td>\n",
       "      <td>0.001398</td>\n",
       "      <td>0.000782</td>\n",
       "    </tr>\n",
       "    <tr>\n",
       "      <th>2017-09-12</th>\n",
       "      <td>0.003423</td>\n",
       "      <td>0.002563</td>\n",
       "      <td>0.003354</td>\n",
       "      <td>-0.019402</td>\n",
       "      <td>-0.009256</td>\n",
       "      <td>0.00000</td>\n",
       "      <td>0.000000</td>\n",
       "      <td>0.000081</td>\n",
       "      <td>0.000058</td>\n",
       "    </tr>\n",
       "    <tr>\n",
       "      <th>2017-09-13</th>\n",
       "      <td>0.000772</td>\n",
       "      <td>0.000262</td>\n",
       "      <td>0.000505</td>\n",
       "      <td>-0.036414</td>\n",
       "      <td>-0.009241</td>\n",
       "      <td>0.00000</td>\n",
       "      <td>0.000000</td>\n",
       "      <td>0.000104</td>\n",
       "      <td>0.000070</td>\n",
       "    </tr>\n",
       "    <tr>\n",
       "      <th>...</th>\n",
       "      <td>...</td>\n",
       "      <td>...</td>\n",
       "      <td>...</td>\n",
       "      <td>...</td>\n",
       "      <td>...</td>\n",
       "      <td>...</td>\n",
       "      <td>...</td>\n",
       "      <td>...</td>\n",
       "      <td>...</td>\n",
       "    </tr>\n",
       "    <tr>\n",
       "      <th>2023-05-24</th>\n",
       "      <td>-0.007300</td>\n",
       "      <td>-0.004257</td>\n",
       "      <td>-0.006828</td>\n",
       "      <td>0.001289</td>\n",
       "      <td>0.008713</td>\n",
       "      <td>0.00000</td>\n",
       "      <td>0.000000</td>\n",
       "      <td>-0.001716</td>\n",
       "      <td>-0.000837</td>\n",
       "    </tr>\n",
       "    <tr>\n",
       "      <th>2023-05-25</th>\n",
       "      <td>0.008790</td>\n",
       "      <td>0.004680</td>\n",
       "      <td>0.007998</td>\n",
       "      <td>-0.013998</td>\n",
       "      <td>-0.016837</td>\n",
       "      <td>0.00000</td>\n",
       "      <td>0.000000</td>\n",
       "      <td>0.002499</td>\n",
       "      <td>0.001382</td>\n",
       "    </tr>\n",
       "    <tr>\n",
       "      <th>2023-05-26</th>\n",
       "      <td>0.013120</td>\n",
       "      <td>0.007776</td>\n",
       "      <td>0.011401</td>\n",
       "      <td>-0.033371</td>\n",
       "      <td>-0.013825</td>\n",
       "      <td>0.00000</td>\n",
       "      <td>0.000000</td>\n",
       "      <td>0.002362</td>\n",
       "      <td>0.001310</td>\n",
       "    </tr>\n",
       "    <tr>\n",
       "      <th>2023-05-30</th>\n",
       "      <td>0.000083</td>\n",
       "      <td>0.000079</td>\n",
       "      <td>0.001617</td>\n",
       "      <td>-0.011058</td>\n",
       "      <td>-0.007116</td>\n",
       "      <td>0.00000</td>\n",
       "      <td>0.000000</td>\n",
       "      <td>0.002025</td>\n",
       "      <td>0.001335</td>\n",
       "    </tr>\n",
       "    <tr>\n",
       "      <th>2023-05-31</th>\n",
       "      <td>-0.005901</td>\n",
       "      <td>-0.003884</td>\n",
       "      <td>-0.004206</td>\n",
       "      <td>-0.016900</td>\n",
       "      <td>0.002210</td>\n",
       "      <td>-0.00036</td>\n",
       "      <td>-0.001658</td>\n",
       "      <td>0.000060</td>\n",
       "      <td>0.000099</td>\n",
       "    </tr>\n",
       "  </tbody>\n",
       "</table>\n",
       "<p>1443 rows × 9 columns</p>\n",
       "</div>"
      ],
      "text/plain": [
       "                SPTR  BNPIRRUS Index  BNPIECUS Index  BNPIESTV Index  \\\n",
       "2017-09-07  0.000050       -0.000015        0.000235       -0.001943   \n",
       "2017-09-08 -0.001446       -0.000820       -0.001588        0.020912   \n",
       "2017-09-11  0.010853        0.006331        0.010390       -0.049012   \n",
       "2017-09-12  0.003423        0.002563        0.003354       -0.019402   \n",
       "2017-09-13  0.000772        0.000262        0.000505       -0.036414   \n",
       "...              ...             ...             ...             ...   \n",
       "2023-05-24 -0.007300       -0.004257       -0.006828        0.001289   \n",
       "2023-05-25  0.008790        0.004680        0.007998       -0.013998   \n",
       "2023-05-26  0.013120        0.007776        0.011401       -0.033371   \n",
       "2023-05-30  0.000083        0.000079        0.001617       -0.011058   \n",
       "2023-05-31 -0.005901       -0.003884       -0.004206       -0.016900   \n",
       "\n",
       "            BNPIV1UE Index  MQIS6RJP Index  MQIS6RGB Index  BNPITI2U Index  \\\n",
       "2017-09-07       -0.001280         0.00000        0.000000        0.000161   \n",
       "2017-09-08        0.015128         0.00000        0.000000       -0.000310   \n",
       "2017-09-11       -0.018286         0.00000        0.000000        0.001398   \n",
       "2017-09-12       -0.009256         0.00000        0.000000        0.000081   \n",
       "2017-09-13       -0.009241         0.00000        0.000000        0.000104   \n",
       "...                    ...             ...             ...             ...   \n",
       "2023-05-24        0.008713         0.00000        0.000000       -0.001716   \n",
       "2023-05-25       -0.016837         0.00000        0.000000        0.002499   \n",
       "2023-05-26       -0.013825         0.00000        0.000000        0.002362   \n",
       "2023-05-30       -0.007116         0.00000        0.000000        0.002025   \n",
       "2023-05-31        0.002210        -0.00036       -0.001658        0.000060   \n",
       "\n",
       "            BNPITIU1 Index  \n",
       "2017-09-07        0.000100  \n",
       "2017-09-08       -0.000148  \n",
       "2017-09-11        0.000782  \n",
       "2017-09-12        0.000058  \n",
       "2017-09-13        0.000070  \n",
       "...                    ...  \n",
       "2023-05-24       -0.000837  \n",
       "2023-05-25        0.001382  \n",
       "2023-05-26        0.001310  \n",
       "2023-05-30        0.001335  \n",
       "2023-05-31        0.000099  \n",
       "\n",
       "[1443 rows x 9 columns]"
      ]
     },
     "execution_count": 27,
     "metadata": {},
     "output_type": "execute_result"
    }
   ],
   "source": [
    "\n",
    "#best in cluster returns dict\n",
    "best_in_metric_w_bmk = dm.merge_data_frames(sptr,best_in_metric_ret)\n",
    "returns_metric_dict = dm.get_data_dict(best_in_metric_w_bmk, data_type = \"Returns\")\n",
    "returns_metric_dict['Daily']"
   ]
  },
  {
   "cell_type": "code",
   "execution_count": 28,
   "id": "7dcdbb5b",
   "metadata": {},
   "outputs": [],
   "source": [
    "#best in cluster notional weights from efficient frontier\n",
    "best_in_metric_notional_weights2 = cdm.get_notional_weights(best_in_metric_ef2[\"Weights for Portfolio\"],total_notional, 11)"
   ]
  },
  {
   "cell_type": "code",
   "execution_count": 29,
   "id": "1f0827e0",
   "metadata": {},
   "outputs": [],
   "source": [
    "\n",
    "#best in cluster returns dict\n",
    "best_in_metric_w_bmk2 = dm.merge_data_frames(sptr,best_in_metric_ret2)\n",
    "#get weighted hedges and strats\n",
    "returns_metric2_dict = dm.get_data_dict(best_in_metric_w_bmk2, data_type = \"Returns\")"
   ]
  },
  {
   "cell_type": "markdown",
   "id": "5c6cd81e",
   "metadata": {},
   "source": [
    "### Get Best in Universe Data Dict"
   ]
  },
  {
   "cell_type": "code",
   "execution_count": 30,
   "id": "810d73c7",
   "metadata": {},
   "outputs": [
    {
     "data": {
      "text/plain": [
       "[11,\n",
       " 0.07139047286487865,\n",
       " 1.5513351405683768,\n",
       " 2.532219405765162,\n",
       " 2.401493391382661,\n",
       " 1.2626616804098634,\n",
       " 0.6435644401147659,\n",
       " 0.04966043562916571,\n",
       " 0.13767503326512737]"
      ]
     },
     "execution_count": 30,
     "metadata": {},
     "output_type": "execute_result"
    }
   ],
   "source": [
    "#best in cluster notional weights from efficient frontier\n",
    "best_in_universe_notional_weights = cdm.get_notional_weights(best_in_universe_ef[\"Weights for Portfolio\"],total_notional, 11)\n",
    "best_in_universe_notional_weights"
   ]
  },
  {
   "cell_type": "code",
   "execution_count": 31,
   "id": "b6969487",
   "metadata": {},
   "outputs": [],
   "source": [
    "\n",
    "#best in cluster returns dict\n",
    "best_in_universe_w_bmk = dm.merge_data_frames(sptr,best_in_universe_ret)\n",
    "#get weighted hedges and strats\n",
    "returns_universe_dict = dm.get_data_dict(best_in_universe_w_bmk, data_type = \"Returns\")"
   ]
  },
  {
   "cell_type": "markdown",
   "id": "d2c8b15f",
   "metadata": {},
   "source": [
    "### Get Equity Hedging Reports"
   ]
  },
  {
   "cell_type": "code",
   "execution_count": null,
   "id": "1c4caef5",
   "metadata": {},
   "outputs": [],
   "source": [
    "from EquityHedging.reporting.excel import reports as rp"
   ]
  },
  {
   "cell_type": "code",
   "execution_count": null,
   "id": "731687fc",
   "metadata": {},
   "outputs": [],
   "source": [
    "include_fi = False\n",
    "strat_drop_list = []\n",
    "weighted = [True, False]\n",
    "new_strat = False"
   ]
  },
  {
   "cell_type": "code",
   "execution_count": null,
   "id": "5c8dad8a",
   "metadata": {},
   "outputs": [],
   "source": [
    "equity_hedge_report = 'equity_hedge_analysis_best_in_cluster'\n",
    "selloffs = True\n",
    "grouped = True\n",
    "rp.get_equity_hedge_report(equity_hedge_report, returns_cluster_dict, best_in_cluster_notional_weights, include_fi , new_strat, weighted[0], selloffs, grouped)"
   ]
  },
  {
   "cell_type": "code",
   "execution_count": null,
   "id": "ab12679f",
   "metadata": {},
   "outputs": [],
   "source": [
    "equity_hedge_report = 'equity_hedge_analysis_best_in_metric_total'\n",
    "selloffs = True\n",
    "grouped = True\n",
    "rp.get_equity_hedge_report(equity_hedge_report, returns_metric_dict, best_in_metric_notional_weights, include_fi , new_strat, weighted[0], selloffs, grouped)"
   ]
  },
  {
   "cell_type": "code",
   "execution_count": null,
   "id": "02b569ff",
   "metadata": {},
   "outputs": [],
   "source": [
    "equity_hedge_report = 'equity_hedge_analysis_best_in_metric_convexity'\n",
    "selloffs = True\n",
    "grouped = True\n",
    "rp.get_equity_hedge_report(equity_hedge_report, returns_metric2_dict, best_in_metric_notional_weights2, include_fi , new_strat, weighted[0], selloffs, grouped)"
   ]
  },
  {
   "cell_type": "code",
   "execution_count": null,
   "id": "0cf9e0e1",
   "metadata": {},
   "outputs": [],
   "source": [
    "equity_hedge_report = 'equity_hedge_analysis_best_in_universe'\n",
    "selloffs = True\n",
    "grouped = True\n",
    "rp.get_equity_hedge_report(equity_hedge_report, returns_universe_dict, best_in_universe_notional_weights, include_fi , new_strat, weighted[0], selloffs, grouped)"
   ]
  },
  {
   "cell_type": "code",
   "execution_count": null,
   "id": "19c17788",
   "metadata": {},
   "outputs": [],
   "source": [
    "equity_hedge_report = 'equity_hedge_analysis_UPS'\n",
    "selloffs = True\n",
    "grouped = True\n",
    "rp.get_equity_hedge_report(equity_hedge_report, ups_returns_dict, ups_notional_weights, include_fi , new_strat, weighted[0], selloffs, grouped)"
   ]
  },
  {
   "cell_type": "markdown",
   "id": "eff1b86c",
   "metadata": {},
   "source": [
    "### Get strat report"
   ]
  },
  {
   "cell_type": "code",
   "execution_count": null,
   "id": "bb407568",
   "metadata": {},
   "outputs": [],
   "source": [
    "returns_cluster = summary.get_weighted_data(best_in_cluster_w_bmk, best_in_cluster_notional_weights)\n",
    "returns_cluster.rename(columns = {'Weighted Hedges':'Weighted Hedges Cluster'}, inplace = True)\n",
    "wh_cluster_dict = dm.get_data_dict(pd.DataFrame(returns_cluster['Weighted Hedges Cluster']), data_type = \"Returns\")\n",
    "wh_cluster_dict['Daily']"
   ]
  },
  {
   "cell_type": "code",
   "execution_count": null,
   "id": "b4c11919",
   "metadata": {},
   "outputs": [],
   "source": [
    "returns_cluster = summary.get_weighted_data(best_in_cluster_w_bmk, best_in_cluster_notional_weights)\n",
    "returns_cluster"
   ]
  },
  {
   "cell_type": "code",
   "execution_count": null,
   "id": "dd8a65b5",
   "metadata": {},
   "outputs": [],
   "source": [
    "\n",
    "returns_metric = summary.get_weighted_data(best_in_metric_w_bmk, best_in_metric_notional_weights)\n",
    "returns_metric.rename(columns = {'Weighted Hedges':'Weighted Hedges Metric (Total)'}, inplace = True)\n",
    "wh_metric_dict = dm.get_data_dict(pd.DataFrame(returns_metric['Weighted Hedges Metric (Total)']), data_type = \"Returns\")\n",
    "\n",
    "returns_metric2 = summary.get_weighted_data(best_in_metric_w_bmk2, best_in_metric_notional_weights2)\n",
    "returns_metric2.rename(columns = {'Weighted Hedges':'Weighted Hedges Metric (Convexity)'}, inplace = True)\n",
    "wh_metric_dict2 = dm.get_data_dict(pd.DataFrame(returns_metric2['Weighted Hedges Metric (Convexity)']), data_type = \"Returns\")\n",
    "\n",
    "\n",
    "\n",
    "returns_universe = summary.get_weighted_data(best_in_universe_w_bmk, best_in_universe_notional_weights)\n",
    "returns_universe.rename(columns = {'Weighted Hedges':'Weighted Hedges Universe'}, inplace = True)\n",
    "wh_universe_dict = dm.get_data_dict(pd.DataFrame(returns_universe['Weighted Hedges Universe']), data_type = \"Returns\")\n",
    "\n",
    "ups_weighted_hedges = summary.get_weighted_data(ups_w_bmk, ups_notional_weights)\n",
    "ups_weighted_hedges.rename(columns = {'Weighted Hedges':'Weighted Hedges UPS'}, inplace = True)\n",
    "wh_ups_dict = dm.get_data_dict(pd.DataFrame(ups_weighted_hedges['Weighted Hedges UPS']), data_type = \"Returns\")\n"
   ]
  },
  {
   "cell_type": "code",
   "execution_count": null,
   "id": "9b4e8c17",
   "metadata": {},
   "outputs": [],
   "source": [
    "weighted_hedges_dict = dm.merge_dicts_list([sptr_returns_dict,wh_cluster_dict,wh_metric_dict,wh_metric_dict2,wh_universe_dict,wh_ups_dict])\n",
    "weighted_hedges_dict['Daily']"
   ]
  },
  {
   "cell_type": "code",
   "execution_count": null,
   "id": "761a2f6f",
   "metadata": {},
   "outputs": [],
   "source": [
    "strat_report = 'Cluster Analysis Weighted Hedges'\n",
    "selloffs = True\n",
    "rp.generate_strat_report(strat_report, weighted_hedges_dict, selloffs = True)\n"
   ]
  },
  {
   "cell_type": "code",
   "execution_count": null,
   "id": "a30063d8",
   "metadata": {},
   "outputs": [],
   "source": []
  }
 ],
 "metadata": {
  "kernelspec": {
   "display_name": "Python 3 (ipykernel)",
   "language": "python",
   "name": "python3"
  },
  "language_info": {
   "codemirror_mode": {
    "name": "ipython",
    "version": 3
   },
   "file_extension": ".py",
   "mimetype": "text/x-python",
   "name": "python",
   "nbconvert_exporter": "python",
   "pygments_lexer": "ipython3",
   "version": "3.9.7"
  }
 },
 "nbformat": 4,
 "nbformat_minor": 5
}
