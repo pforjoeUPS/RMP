{
 "cells": [
  {
   "cell_type": "markdown",
   "metadata": {},
   "source": [
    "# Equity Hedging Analysis Notebook\n",
    "\n",
    "This notebook runs analysis on the Strategy and Allocation Equity Hedge Portfolio"
   ]
  },
  {
   "cell_type": "markdown",
   "metadata": {},
   "source": [
    "## Import libraries"
   ]
  },
  {
   "cell_type": "code",
   "execution_count": 2,
   "metadata": {
    "scrolled": true
   },
   "outputs": [
    {
     "ename": "ModuleNotFoundError",
     "evalue": "No module named 'plotly'",
     "output_type": "error",
     "traceback": [
      "\u001b[1;31m---------------------------------------------------------------------------\u001b[0m",
      "\u001b[1;31mModuleNotFoundError\u001b[0m                       Traceback (most recent call last)",
      "Cell \u001b[1;32mIn[2], line 2\u001b[0m\n\u001b[0;32m      1\u001b[0m \u001b[38;5;28;01mimport\u001b[39;00m \u001b[38;5;21;01mpandas\u001b[39;00m \u001b[38;5;28;01mas\u001b[39;00m \u001b[38;5;21;01mpd\u001b[39;00m\n\u001b[1;32m----> 2\u001b[0m \u001b[38;5;28;01mimport\u001b[39;00m \u001b[38;5;21;01mplotly\u001b[39;00m\u001b[38;5;21;01m.\u001b[39;00m\u001b[38;5;21;01mexpress\u001b[39;00m \u001b[38;5;28;01mas\u001b[39;00m \u001b[38;5;21;01mpx\u001b[39;00m\n\u001b[0;32m      3\u001b[0m \u001b[38;5;28;01mfrom\u001b[39;00m \u001b[38;5;21;01mEquityHedging\u001b[39;00m\u001b[38;5;21;01m.\u001b[39;00m\u001b[38;5;21;01mdatamanager\u001b[39;00m \u001b[38;5;28;01mimport\u001b[39;00m data_manager \u001b[38;5;28;01mas\u001b[39;00m dm\n\u001b[0;32m      4\u001b[0m \u001b[38;5;28;01mfrom\u001b[39;00m \u001b[38;5;21;01mEquityHedging\u001b[39;00m\u001b[38;5;21;01m.\u001b[39;00m\u001b[38;5;21;01manalytics\u001b[39;00m\u001b[38;5;21;01m.\u001b[39;00m\u001b[38;5;21;01mutil\u001b[39;00m \u001b[38;5;28;01mimport\u001b[39;00m get_df_weights\n",
      "\u001b[1;31mModuleNotFoundError\u001b[0m: No module named 'plotly'"
     ]
    }
   ],
   "source": [
    "import pandas as pd\n",
    "import plotly.express as px\n",
    "from EquityHedging.datamanager import data_manager as dm\n",
    "from EquityHedging.analytics.util import get_df_weights\n",
    "from EquityHedging.analytics import summary\n",
    "from EquityHedging.reporting.excel import reports as rp\n",
    "from EquityHedging.reporting import formatter as fmt, plots\n",
    "from ipywidgets import interact, interact_manual\n",
    "\n",
    "new_strat = False\n",
    "notional_weights = []\n",
    "weighted = [True, False]"
   ]
  },
  {
   "cell_type": "markdown",
   "metadata": {},
   "source": [
    "\n",
    "## Import returns data\n",
    "\n",
    "### Imports Daily, Weekly, Monthly, Quarterly and Yearly returns data\n",
    "\n",
    "To import the returns data:\n",
    "* Select an Equity Benchmark (**equity_bmk**) - SPTR, M1WD, SX5T\n",
    "* Decide if you want a Fixed Income Benchmark (**include_fi**) - True, False\n",
    "* Select what equity hedging strategies to exclude (**strat_drop_list**). Below is the list of strategies:\n",
    "\n",
    "    * 99%/90% Put Spread, Down Var, Vortex, VOLA , Dynamic Put Spread, VRR, GW Dispersion, Corr Hedge"
   ]
  },
  {
   "cell_type": "code",
   "execution_count": 2,
   "metadata": {},
   "outputs": [],
   "source": [
    "equity_bmk = 'SPTR'\n",
    "include_fi = False\n",
    "strat_drop_list = ['Vortex','99%/90% Put Spread']\n",
    "returns = dm.get_equity_hedge_returns(equity_bmk, include_fi, strat_drop_list)"
   ]
  },
  {
   "cell_type": "markdown",
   "metadata": {},
   "source": [
    "## View Returns data\n",
    "\n",
    "Select frequency (Daily, Weekly, Monthly, Yearly) to view data"
   ]
  },
  {
   "cell_type": "code",
   "execution_count": null,
   "metadata": {
    "scrolled": true
   },
   "outputs": [],
   "source": [
    "freq_list = ['Daily', 'Weekly', 'Monthly','Quarterly', 'Yearly']\n",
    "@interact\n",
    "def display_returns(frequency = freq_list):\n",
    "    return fmt.get_returns_styler(returns[frequency])"
   ]
  },
  {
   "cell_type": "markdown",
   "metadata": {},
   "source": [
    "## Display Monthly Returns Table"
   ]
  },
  {
   "cell_type": "code",
   "execution_count": 4,
   "metadata": {},
   "outputs": [
    {
     "data": {
      "application/vnd.jupyter.widget-view+json": {
       "model_id": "fa9dc5c032f44ecd86844309b38d5630",
       "version_major": 2,
       "version_minor": 0
      },
      "text/plain": [
       "interactive(children=(Dropdown(description='strategy', options=('SPTR', 'Down Var', 'VOLA', 'Dynamic Put Sprea…"
      ]
     },
     "metadata": {},
     "output_type": "display_data"
    }
   ],
   "source": [
    "strat_list=['SPTR','Down Var','VOLA', 'Dynamic Put Spread', 'VRR', 'GW Dispersion','Corr Hedge','Def Var']\n",
    "@interact\n",
    "def display__monthly_ret_table(strategy = strat_list):\n",
    "    month_table= dm.month_ret_table(returns['Monthly'], strategy = strategy)\n",
    "    return fmt.get_monthly_ret_table_styler(month_table)"
   ]
  },
  {
   "cell_type": "markdown",
   "metadata": {},
   "source": [
    "## Add new strategy\n",
    "\n",
    "**Run this code if you want to add a new strategy**\n",
    "* Import the daily index/returns:\n",
    "    * Specify:\n",
    "        * strategy_list: list of strategies \n",
    "        * filename: name of excel file\n",
    "        * sheet_name: sheet name\n",
    "        * data_type: index or returns data\n",
    "* add it to the Equity hedge returns data"
   ]
  },
  {
   "cell_type": "code",
   "execution_count": null,
   "metadata": {},
   "outputs": [],
   "source": [
    "strategy_list = []\n",
    "filename = \n",
    "sheet_name = \n",
    "data_type = 'index'\n",
    "new_strategy = dm.get_new_strategy_returns_data(filename, sheet_name, strategy_list)\n",
    "new_strategy_dict = dm.get_data_dict(new_strategy, data_type)\n",
    "returns = dm.merge_dicts(returns_ups, new_strategy_dict)\n",
    "new_strat=True"
   ]
  },
  {
   "cell_type": "code",
   "execution_count": null,
   "metadata": {},
   "outputs": [],
   "source": [
    "full_data= pd.read_excel(dm.NEW_DATA+'early_roll_vix_profit_data.xlsx',\n",
    "                                           sheet_name = 'All', index_col=0)\n",
    "barclays = full_data[['2W + 85% Profit']]\n",
    "barclays_dict = dm.get_data_dict(barclays)\n",
    "returns = dm.merge_dicts(returns,barclays_dict)\n",
    "new_strat =True\n",
    "weighted = [True, False]"
   ]
  },
  {
   "cell_type": "markdown",
   "metadata": {},
   "source": [
    "## Get and display Notional Weights"
   ]
  },
  {
   "cell_type": "code",
   "execution_count": 3,
   "metadata": {},
   "outputs": [
    {
     "name": "stdout",
     "output_type": "stream",
     "text": [
      "notional value (Billions) for SPTR: 19\n",
      "notional value (Billions) for Down Var: 1\n",
      "notional value (Billions) for VOLA: 1\n",
      "notional value (Billions) for Dynamic Put Spread: 1\n",
      "notional value (Billions) for VRR: 1\n",
      "notional value (Billions) for GW Dispersion: 1\n",
      "notional value (Billions) for Corr Hedge: 1\n",
      "notional value (Billions) for Def Var: 1\n"
     ]
    },
    {
     "data": {
      "text/html": [
       "<style  type=\"text/css\" >\n",
       "</style><table id=\"T_a9ea7_\" ><thead>    <tr>        <th class=\"blank level0\" ></th>        <th class=\"col_heading level0 col0\" >SPTR</th>        <th class=\"col_heading level0 col1\" >Down Var</th>        <th class=\"col_heading level0 col2\" >VOLA</th>        <th class=\"col_heading level0 col3\" >Dynamic Put Spread</th>        <th class=\"col_heading level0 col4\" >VRR</th>        <th class=\"col_heading level0 col5\" >GW Dispersion</th>        <th class=\"col_heading level0 col6\" >Corr Hedge</th>        <th class=\"col_heading level0 col7\" >Def Var</th>    </tr></thead><tbody>\n",
       "                <tr>\n",
       "                        <th id=\"T_a9ea7_level0_row0\" class=\"row_heading level0 row0\" >Notional Weights (Billions)</th>\n",
       "                        <td id=\"T_a9ea7_row0_col0\" class=\"data row0 col0\" >$19.00</td>\n",
       "                        <td id=\"T_a9ea7_row0_col1\" class=\"data row0 col1\" >$1.00</td>\n",
       "                        <td id=\"T_a9ea7_row0_col2\" class=\"data row0 col2\" >$1.00</td>\n",
       "                        <td id=\"T_a9ea7_row0_col3\" class=\"data row0 col3\" >$1.00</td>\n",
       "                        <td id=\"T_a9ea7_row0_col4\" class=\"data row0 col4\" >$1.00</td>\n",
       "                        <td id=\"T_a9ea7_row0_col5\" class=\"data row0 col5\" >$1.00</td>\n",
       "                        <td id=\"T_a9ea7_row0_col6\" class=\"data row0 col6\" >$1.00</td>\n",
       "                        <td id=\"T_a9ea7_row0_col7\" class=\"data row0 col7\" >$1.00</td>\n",
       "            </tr>\n",
       "            <tr>\n",
       "                        <th id=\"T_a9ea7_level0_row1\" class=\"row_heading level0 row1\" >Percentage Weights</th>\n",
       "                        <td id=\"T_a9ea7_row1_col0\" class=\"data row1 col0\" >100.00%</td>\n",
       "                        <td id=\"T_a9ea7_row1_col1\" class=\"data row1 col1\" >5.26%</td>\n",
       "                        <td id=\"T_a9ea7_row1_col2\" class=\"data row1 col2\" >5.26%</td>\n",
       "                        <td id=\"T_a9ea7_row1_col3\" class=\"data row1 col3\" >5.26%</td>\n",
       "                        <td id=\"T_a9ea7_row1_col4\" class=\"data row1 col4\" >5.26%</td>\n",
       "                        <td id=\"T_a9ea7_row1_col5\" class=\"data row1 col5\" >5.26%</td>\n",
       "                        <td id=\"T_a9ea7_row1_col6\" class=\"data row1 col6\" >5.26%</td>\n",
       "                        <td id=\"T_a9ea7_row1_col7\" class=\"data row1 col7\" >5.26%</td>\n",
       "            </tr>\n",
       "            <tr>\n",
       "                        <th id=\"T_a9ea7_level0_row2\" class=\"row_heading level0 row2\" >Strategy Weights</th>\n",
       "                        <td id=\"T_a9ea7_row2_col0\" class=\"data row2 col0\" >0.00%</td>\n",
       "                        <td id=\"T_a9ea7_row2_col1\" class=\"data row2 col1\" >14.29%</td>\n",
       "                        <td id=\"T_a9ea7_row2_col2\" class=\"data row2 col2\" >14.29%</td>\n",
       "                        <td id=\"T_a9ea7_row2_col3\" class=\"data row2 col3\" >14.29%</td>\n",
       "                        <td id=\"T_a9ea7_row2_col4\" class=\"data row2 col4\" >14.29%</td>\n",
       "                        <td id=\"T_a9ea7_row2_col5\" class=\"data row2 col5\" >14.29%</td>\n",
       "                        <td id=\"T_a9ea7_row2_col6\" class=\"data row2 col6\" >14.29%</td>\n",
       "                        <td id=\"T_a9ea7_row2_col7\" class=\"data row2 col7\" >14.29%</td>\n",
       "            </tr>\n",
       "    </tbody></table>"
      ],
      "text/plain": [
       "<pandas.io.formats.style.Styler at 0x2942ed08700>"
      ]
     },
     "execution_count": 3,
     "metadata": {},
     "output_type": "execute_result"
    }
   ],
   "source": [
    "#get notional weights\n",
    "notional_weights = dm.get_notional_weights(returns['Monthly'])\n",
    "df_weights = get_df_weights(notional_weights, list(returns['Monthly'].columns), include_fi)\n",
    "fmt.get_notional_styler(df_weights)"
   ]
  },
  {
   "cell_type": "markdown",
   "metadata": {},
   "source": [
    "## Compute Correlations"
   ]
  },
  {
   "cell_type": "code",
   "execution_count": 4,
   "metadata": {},
   "outputs": [],
   "source": [
    "corr_freq_list = ['Daily', 'Weekly', 'Monthly']\n",
    "corr_dict = summary.get_corr_data(returns, corr_freq_list, weighted, notional_weights, include_fi)"
   ]
  },
  {
   "cell_type": "markdown",
   "metadata": {},
   "source": [
    "## Display Correlations\n",
    "\n",
    "Display Correlations of returns data by:\n",
    "* **frequency (Monthly or Weekly)** - Show correlations of Monthly or Weekly returns\n",
    "* **weighted (True or False)** - Show Weighted Hedges or not\n",
    "* **corr** - Show:\n",
    "    * **corr** - full history correaltions\n",
    "    * **corr_down** - risk seeking benchmark downside returns correlations or \n",
    "    * **corr_up** - risk seeking benchmark upside returns correlations\n",
    "* **plot_type (corrplot or heatmap)** - Show a map with magnitude or just heatmap"
   ]
  },
  {
   "cell_type": "code",
   "execution_count": 5,
   "metadata": {},
   "outputs": [
    {
     "data": {
      "application/vnd.jupyter.widget-view+json": {
       "model_id": "e7604b6d7db1457a9b31742ce0a774c3",
       "version_major": 2,
       "version_minor": 0
      },
      "text/plain": [
       "interactive(children=(Dropdown(description='frequency', options=('Daily', 'Weekly', 'Monthly'), value='Daily')…"
      ]
     },
     "metadata": {},
     "output_type": "display_data"
    }
   ],
   "source": [
    "@interact\n",
    "def display_correlations(frequency=corr_freq_list, weighted=weighted,\n",
    "                         corr=['full', 'equity_down', 'equity_up'], plot_type=['heatmap', 'corrplot']):\n",
    "    data = corr_dict[frequency]\n",
    "    corr_df = data[weighted][corr][0]\n",
    "    if plot_type == 'heatmap':\n",
    "        return plots.draw_heatmap(corr_df, half=False)\n",
    "    else:\n",
    "        return plots.draw_corrplot(corr_df)"
   ]
  },
  {
   "cell_type": "markdown",
   "metadata": {},
   "source": [
    "## Compute Return Stats and Hedge Metrics"
   ]
  },
  {
   "cell_type": "code",
   "execution_count": 6,
   "metadata": {},
   "outputs": [],
   "source": [
    "analytics_freq_list = ['Weekly', 'Monthly']\n",
    "analytics_dict = summary.get_analytics_data(returns,analytics_freq_list,weighted,notional_weights,include_fi,new_strat)"
   ]
  },
  {
   "cell_type": "markdown",
   "metadata": {},
   "source": [
    "## Display Return Stats and Hedge Metrics\n",
    "\n",
    "Display Returns Analytics data by:\n",
    "* **frequency (Monthly or Weekly)** - Show Monthly or Weekly returns\n",
    "* **weighted (True or False)** - Show Weighted Strats and Hedges or not\n",
    "* **stats (return_stats, hedge_metrics)** - Show:\n",
    "    * Return Statistics or \n",
    "    * Hedge Metrics"
   ]
  },
  {
   "cell_type": "code",
   "execution_count": 7,
   "metadata": {
    "scrolled": false
   },
   "outputs": [
    {
     "data": {
      "application/vnd.jupyter.widget-view+json": {
       "model_id": "59b67a64d7df4aaabeddf61394900233",
       "version_major": 2,
       "version_minor": 0
      },
      "text/plain": [
       "interactive(children=(Dropdown(description='frequency', options=('Weekly', 'Monthly'), value='Weekly'), Dropdo…"
      ]
     },
     "metadata": {},
     "output_type": "display_data"
    }
   ],
   "source": [
    "@interact\n",
    "def display_analytics(frequency=analytics_freq_list, weighted=weighted, stats=['return_stats', 'hedge_metrics']):\n",
    "    data = analytics_dict[frequency]\n",
    "    analytics = data[weighted]\n",
    "    if stats == 'return_stats':\n",
    "        return fmt.get_analytics_styler(analytics)\n",
    "    if stats == 'hedge_metrics':\n",
    "        if frequency == 'Weekly':\n",
    "            return fmt.get_analytics_styler(analytics, stats, '1W')\n",
    "        else:\n",
    "            return fmt.get_analytics_styler(analytics, stats)"
   ]
  },
  {
   "cell_type": "markdown",
   "metadata": {},
   "source": [
    "## Compute Historical Sell Offs"
   ]
  },
  {
   "cell_type": "code",
   "execution_count": 8,
   "metadata": {},
   "outputs": [],
   "source": [
    "hist_dict = summary.get_hist_data(returns,notional_weights=notional_weights, weighted=weighted)"
   ]
  },
  {
   "cell_type": "markdown",
   "metadata": {},
   "source": [
    "## Display Historical Sell Offs\n",
    "\n",
    "Display Hisorical Sell Offs data by:\n",
    "* **weighted (True or False)** - Show Weighted Hedges or not"
   ]
  },
  {
   "cell_type": "code",
   "execution_count": 9,
   "metadata": {},
   "outputs": [
    {
     "data": {
      "application/vnd.jupyter.widget-view+json": {
       "model_id": "27f267afe180469a93477d7611d379fd",
       "version_major": 2,
       "version_minor": 0
      },
      "text/plain": [
       "interactive(children=(Dropdown(description='weighted', options=(True, False), value=True), Output()), _dom_cla…"
      ]
     },
     "metadata": {},
     "output_type": "display_data"
    }
   ],
   "source": [
    "@interact\n",
    "def display_selloffs(weighted=weighted):\n",
    "    df_hist = hist_dict[weighted]\n",
    "    return fmt.get_hist_styler(df_hist)"
   ]
  },
  {
   "cell_type": "markdown",
   "metadata": {},
   "source": [
    "## Compute Quintile or Decile Analysis\n",
    "Display grouped data by:\n",
    "* **group (Quintile or Decile)** - Show returns data in quintiles or deciles"
   ]
  },
  {
   "cell_type": "code",
   "execution_count": 10,
   "metadata": {},
   "outputs": [
    {
     "data": {
      "application/vnd.jupyter.widget-view+json": {
       "model_id": "aef68021128745079b8876d34575ea05",
       "version_major": 2,
       "version_minor": 0
      },
      "text/plain": [
       "interactive(children=(Dropdown(description='group', options=('Quintile', 'Decile'), value='Quintile'), Output(…"
      ]
     },
     "metadata": {},
     "output_type": "display_data"
    }
   ],
   "source": [
    "group_list=['Quintile','Decile']\n",
    "@interact\n",
    "def display_returns(group = group_list):\n",
    "    quintile_df = summary.get_grouped_data(returns, group = group)\n",
    "    return(quintile_df.style.format(\"{:.2%}\"))"
   ]
  },
  {
   "cell_type": "markdown",
   "metadata": {},
   "source": [
    "## Display Quintile or Decile Analysis\n",
    "Display Quintile Analysis Bar Chart:\n",
    "* **group (Quintile or Decile)** - Show returns data in quintiles or deciles\n",
    "* **strat** - Show quintile or decile for selected strategy"
   ]
  },
  {
   "cell_type": "code",
   "execution_count": 11,
   "metadata": {},
   "outputs": [
    {
     "data": {
      "application/vnd.jupyter.widget-view+json": {
       "model_id": "e678209efb034349bc494bfec6ebe362",
       "version_major": 2,
       "version_minor": 0
      },
      "text/plain": [
       "interactive(children=(Dropdown(description='group', options=('Quintile', 'Decile'), value='Quintile'), Dropdow…"
      ]
     },
     "metadata": {},
     "output_type": "display_data"
    }
   ],
   "source": [
    "group_list=['Quintile','Decile']\n",
    "@interact\n",
    "\n",
    "def display_quintile_analysis(group = group_list, strat=list(returns['Monthly'].select_dtypes('float').columns)[1:]):    \n",
    "    df = summary.get_grouped_data(returns, group = group)\n",
    "    \n",
    "    for col in df.columns:\n",
    "        df[col] *= 100\n",
    "        if not (col == equity_bmk or col ==strat):\n",
    "            df.drop([col], axis=1, inplace=True)\n",
    "    if group == \"Quintile\":\n",
    "        title ='Quintile Analysis'\n",
    "    else:\n",
    "        title = 'Decile Analysis'\n",
    "        \n",
    "    fig = px.bar(df,barmode='group',title = title)\n",
    "    fig.update_layout(\n",
    "        title = {'text':\"<b>{}</b>\".format(title),'y':0.95,'x':0.5,'xanchor': 'center','yanchor': 'top'},\n",
    "        title_font_family = \"Calibri\",\n",
    "        titlefont = {\"size\":24},\n",
    "        xaxis = dict(tickfont = dict(size=12)),\n",
    "        yaxis = dict(ticksuffix=\"%\"),\n",
    "        legend_title=\"Strategies\",\n",
    "        plot_bgcolor='White'\n",
    "    )\n",
    "    fig.update_xaxes(title_font_family = \"Calibri\",title_text = \"<b>SPTR Monthly Returns Ranking</b>\",\n",
    "        title_font = {\"size\": 20},showline=True,linewidth=2,linecolor='black',mirror=False)\n",
    "    fig.update_yaxes(title_font_family = \"Calibri\",title_text = \"<b></b>\",title_font = {\"size\": 20},\n",
    "        showline=True,linewidth=2,linecolor='black',mirror=False)\n",
    "    fig.show()"
   ]
  },
  {
   "cell_type": "markdown",
   "metadata": {},
   "source": [
    "## Compute Annual Dollar Returns"
   ]
  },
  {
   "cell_type": "code",
   "execution_count": 12,
   "metadata": {
    "scrolled": false
   },
   "outputs": [
    {
     "data": {
      "text/html": [
       "<style  type=\"text/css\" >\n",
       "#T_b2e76_row0_col0,#T_b2e76_row0_col1,#T_b2e76_row0_col2,#T_b2e76_row0_col4,#T_b2e76_row0_col6,#T_b2e76_row0_col7,#T_b2e76_row1_col0,#T_b2e76_row1_col5,#T_b2e76_row1_col6,#T_b2e76_row2_col0,#T_b2e76_row2_col4,#T_b2e76_row2_col5,#T_b2e76_row2_col6,#T_b2e76_row2_col7,#T_b2e76_row3_col0,#T_b2e76_row3_col1,#T_b2e76_row3_col2,#T_b2e76_row3_col3,#T_b2e76_row3_col4,#T_b2e76_row3_col6,#T_b2e76_row3_col7,#T_b2e76_row4_col0,#T_b2e76_row4_col4,#T_b2e76_row4_col5,#T_b2e76_row4_col6,#T_b2e76_row4_col7,#T_b2e76_row5_col0,#T_b2e76_row5_col4,#T_b2e76_row5_col7,#T_b2e76_row6_col0,#T_b2e76_row6_col1,#T_b2e76_row6_col5,#T_b2e76_row6_col7,#T_b2e76_row7_col0,#T_b2e76_row7_col3,#T_b2e76_row7_col4,#T_b2e76_row7_col5,#T_b2e76_row7_col7,#T_b2e76_row8_col0,#T_b2e76_row8_col4,#T_b2e76_row8_col5,#T_b2e76_row8_col6,#T_b2e76_row8_col7,#T_b2e76_row9_col7,#T_b2e76_row10_col0,#T_b2e76_row10_col3,#T_b2e76_row10_col4,#T_b2e76_row10_col5,#T_b2e76_row10_col6,#T_b2e76_row10_col7,#T_b2e76_row11_col6,#T_b2e76_row11_col7,#T_b2e76_row12_col0,#T_b2e76_row12_col4,#T_b2e76_row12_col5,#T_b2e76_row12_col7,#T_b2e76_row13_col1,#T_b2e76_row13_col4,#T_b2e76_row13_col6{\n",
       "            color:  green;\n",
       "        }#T_b2e76_row0_col3,#T_b2e76_row0_col5,#T_b2e76_row1_col4,#T_b2e76_row1_col7,#T_b2e76_row12_col1,#T_b2e76_row12_col2,#T_b2e76_row12_col6{\n",
       "            color:  green;\n",
       "            background-color:  yellow;\n",
       "        }#T_b2e76_row1_col1,#T_b2e76_row1_col2,#T_b2e76_row1_col3,#T_b2e76_row2_col1,#T_b2e76_row2_col2,#T_b2e76_row2_col3,#T_b2e76_row3_col5,#T_b2e76_row4_col1,#T_b2e76_row4_col2,#T_b2e76_row4_col3,#T_b2e76_row5_col1,#T_b2e76_row5_col2,#T_b2e76_row5_col3,#T_b2e76_row5_col5,#T_b2e76_row5_col6,#T_b2e76_row6_col2,#T_b2e76_row6_col3,#T_b2e76_row6_col4,#T_b2e76_row6_col6,#T_b2e76_row7_col1,#T_b2e76_row7_col2,#T_b2e76_row7_col6,#T_b2e76_row8_col1,#T_b2e76_row8_col2,#T_b2e76_row8_col3,#T_b2e76_row9_col0,#T_b2e76_row9_col1,#T_b2e76_row9_col2,#T_b2e76_row9_col3,#T_b2e76_row9_col4,#T_b2e76_row9_col5,#T_b2e76_row9_col6,#T_b2e76_row10_col1,#T_b2e76_row10_col2,#T_b2e76_row11_col0,#T_b2e76_row11_col1,#T_b2e76_row11_col2,#T_b2e76_row11_col3,#T_b2e76_row11_col4,#T_b2e76_row11_col5,#T_b2e76_row12_col3,#T_b2e76_row13_col0,#T_b2e76_row13_col2,#T_b2e76_row13_col3,#T_b2e76_row13_col5,#T_b2e76_row13_col7{\n",
       "            color:  red;\n",
       "        }</style><table id=\"T_b2e76_\" ><thead>    <tr>        <th class=\"blank level0\" ></th>        <th class=\"col_heading level0 col0\" >Tail Risk Program</th>        <th class=\"col_heading level0 col1\" >Down Var</th>        <th class=\"col_heading level0 col2\" >VOLA</th>        <th class=\"col_heading level0 col3\" >Dynamic Put Spread</th>        <th class=\"col_heading level0 col4\" >VRR</th>        <th class=\"col_heading level0 col5\" >GW Dispersion</th>        <th class=\"col_heading level0 col6\" >Corr Hedge</th>        <th class=\"col_heading level0 col7\" >Def Var</th>    </tr>    <tr>        <th class=\"index_name level0\" >Year</th>        <th class=\"blank\" ></th>        <th class=\"blank\" ></th>        <th class=\"blank\" ></th>        <th class=\"blank\" ></th>        <th class=\"blank\" ></th>        <th class=\"blank\" ></th>        <th class=\"blank\" ></th>        <th class=\"blank\" ></th>    </tr></thead><tbody>\n",
       "                <tr>\n",
       "                        <th id=\"T_b2e76_level0_row0\" class=\"row_heading level0 row0\" >2008</th>\n",
       "                        <td id=\"T_b2e76_row0_col0\" class=\"data row0 col0\" >$1,217,604,109</td>\n",
       "                        <td id=\"T_b2e76_row0_col1\" class=\"data row0 col1\" >$220,902,861</td>\n",
       "                        <td id=\"T_b2e76_row0_col2\" class=\"data row0 col2\" >$331,619,197</td>\n",
       "                        <td id=\"T_b2e76_row0_col3\" class=\"data row0 col3\" >$158,996,811</td>\n",
       "                        <td id=\"T_b2e76_row0_col4\" class=\"data row0 col4\" >$2,397,820</td>\n",
       "                        <td id=\"T_b2e76_row0_col5\" class=\"data row0 col5\" >$216,223,907</td>\n",
       "                        <td id=\"T_b2e76_row0_col6\" class=\"data row0 col6\" >$230,144,908</td>\n",
       "                        <td id=\"T_b2e76_row0_col7\" class=\"data row0 col7\" >$57,318,605</td>\n",
       "            </tr>\n",
       "            <tr>\n",
       "                        <th id=\"T_b2e76_level0_row1\" class=\"row_heading level0 row1\" >2009</th>\n",
       "                        <td id=\"T_b2e76_row1_col0\" class=\"data row1 col0\" >$525,117,867</td>\n",
       "                        <td id=\"T_b2e76_row1_col1\" class=\"data row1 col1\" >$-101,318,299</td>\n",
       "                        <td id=\"T_b2e76_row1_col2\" class=\"data row1 col2\" >$-53,132,852</td>\n",
       "                        <td id=\"T_b2e76_row1_col3\" class=\"data row1 col3\" >$-192,224</td>\n",
       "                        <td id=\"T_b2e76_row1_col4\" class=\"data row1 col4\" >$365,279,593</td>\n",
       "                        <td id=\"T_b2e76_row1_col5\" class=\"data row1 col5\" >$5,607,242</td>\n",
       "                        <td id=\"T_b2e76_row1_col6\" class=\"data row1 col6\" >$121,413,580</td>\n",
       "                        <td id=\"T_b2e76_row1_col7\" class=\"data row1 col7\" >$187,460,827</td>\n",
       "            </tr>\n",
       "            <tr>\n",
       "                        <th id=\"T_b2e76_level0_row2\" class=\"row_heading level0 row2\" >2010</th>\n",
       "                        <td id=\"T_b2e76_row2_col0\" class=\"data row2 col0\" >$169,007,474</td>\n",
       "                        <td id=\"T_b2e76_row2_col1\" class=\"data row2 col1\" >$-42,147,675</td>\n",
       "                        <td id=\"T_b2e76_row2_col2\" class=\"data row2 col2\" >$-16,157,268</td>\n",
       "                        <td id=\"T_b2e76_row2_col3\" class=\"data row2 col3\" >$-14,553,713</td>\n",
       "                        <td id=\"T_b2e76_row2_col4\" class=\"data row2 col4\" >$82,181,405</td>\n",
       "                        <td id=\"T_b2e76_row2_col5\" class=\"data row2 col5\" >$1,554,822</td>\n",
       "                        <td id=\"T_b2e76_row2_col6\" class=\"data row2 col6\" >$9,360,618</td>\n",
       "                        <td id=\"T_b2e76_row2_col7\" class=\"data row2 col7\" >$148,769,286</td>\n",
       "            </tr>\n",
       "            <tr>\n",
       "                        <th id=\"T_b2e76_level0_row3\" class=\"row_heading level0 row3\" >2011</th>\n",
       "                        <td id=\"T_b2e76_row3_col0\" class=\"data row3 col0\" >$383,349,732</td>\n",
       "                        <td id=\"T_b2e76_row3_col1\" class=\"data row3 col1\" >$44,785,973</td>\n",
       "                        <td id=\"T_b2e76_row3_col2\" class=\"data row3 col2\" >$62,989,040</td>\n",
       "                        <td id=\"T_b2e76_row3_col3\" class=\"data row3 col3\" >$4,546,112</td>\n",
       "                        <td id=\"T_b2e76_row3_col4\" class=\"data row3 col4\" >$33,287,425</td>\n",
       "                        <td id=\"T_b2e76_row3_col5\" class=\"data row3 col5\" >$-30,629,718</td>\n",
       "                        <td id=\"T_b2e76_row3_col6\" class=\"data row3 col6\" >$111,265,068</td>\n",
       "                        <td id=\"T_b2e76_row3_col7\" class=\"data row3 col7\" >$157,105,832</td>\n",
       "            </tr>\n",
       "            <tr>\n",
       "                        <th id=\"T_b2e76_level0_row4\" class=\"row_heading level0 row4\" >2012</th>\n",
       "                        <td id=\"T_b2e76_row4_col0\" class=\"data row4 col0\" >$101,494,643</td>\n",
       "                        <td id=\"T_b2e76_row4_col1\" class=\"data row4 col1\" >$-91,818,204</td>\n",
       "                        <td id=\"T_b2e76_row4_col2\" class=\"data row4 col2\" >$-16,055,342</td>\n",
       "                        <td id=\"T_b2e76_row4_col3\" class=\"data row4 col3\" >$-17,716,725</td>\n",
       "                        <td id=\"T_b2e76_row4_col4\" class=\"data row4 col4\" >$9,931,927</td>\n",
       "                        <td id=\"T_b2e76_row4_col5\" class=\"data row4 col5\" >$38,266,182</td>\n",
       "                        <td id=\"T_b2e76_row4_col6\" class=\"data row4 col6\" >$26,188,105</td>\n",
       "                        <td id=\"T_b2e76_row4_col7\" class=\"data row4 col7\" >$152,698,701</td>\n",
       "            </tr>\n",
       "            <tr>\n",
       "                        <th id=\"T_b2e76_level0_row5\" class=\"row_heading level0 row5\" >2013</th>\n",
       "                        <td id=\"T_b2e76_row5_col0\" class=\"data row5 col0\" >$89,493,939</td>\n",
       "                        <td id=\"T_b2e76_row5_col1\" class=\"data row5 col1\" >$-5,798,544</td>\n",
       "                        <td id=\"T_b2e76_row5_col2\" class=\"data row5 col2\" >$-19,211,484</td>\n",
       "                        <td id=\"T_b2e76_row5_col3\" class=\"data row5 col3\" >$-53,020,344</td>\n",
       "                        <td id=\"T_b2e76_row5_col4\" class=\"data row5 col4\" >$100,897,815</td>\n",
       "                        <td id=\"T_b2e76_row5_col5\" class=\"data row5 col5\" >$-4,772,694</td>\n",
       "                        <td id=\"T_b2e76_row5_col6\" class=\"data row5 col6\" >$-21,291,793</td>\n",
       "                        <td id=\"T_b2e76_row5_col7\" class=\"data row5 col7\" >$92,690,984</td>\n",
       "            </tr>\n",
       "            <tr>\n",
       "                        <th id=\"T_b2e76_level0_row6\" class=\"row_heading level0 row6\" >2014</th>\n",
       "                        <td id=\"T_b2e76_row6_col0\" class=\"data row6 col0\" >$51,528,581</td>\n",
       "                        <td id=\"T_b2e76_row6_col1\" class=\"data row6 col1\" >$14,421,810</td>\n",
       "                        <td id=\"T_b2e76_row6_col2\" class=\"data row6 col2\" >$-30,386,840</td>\n",
       "                        <td id=\"T_b2e76_row6_col3\" class=\"data row6 col3\" >$-22,056,692</td>\n",
       "                        <td id=\"T_b2e76_row6_col4\" class=\"data row6 col4\" >$-12,967,206</td>\n",
       "                        <td id=\"T_b2e76_row6_col5\" class=\"data row6 col5\" >$13,795,480</td>\n",
       "                        <td id=\"T_b2e76_row6_col6\" class=\"data row6 col6\" >$-22,292,647</td>\n",
       "                        <td id=\"T_b2e76_row6_col7\" class=\"data row6 col7\" >$111,014,677</td>\n",
       "            </tr>\n",
       "            <tr>\n",
       "                        <th id=\"T_b2e76_level0_row7\" class=\"row_heading level0 row7\" >2015</th>\n",
       "                        <td id=\"T_b2e76_row7_col0\" class=\"data row7 col0\" >$43,384,849</td>\n",
       "                        <td id=\"T_b2e76_row7_col1\" class=\"data row7 col1\" >$-29,181,060</td>\n",
       "                        <td id=\"T_b2e76_row7_col2\" class=\"data row7 col2\" >$-10,097,580</td>\n",
       "                        <td id=\"T_b2e76_row7_col3\" class=\"data row7 col3\" >$5,888,322</td>\n",
       "                        <td id=\"T_b2e76_row7_col4\" class=\"data row7 col4\" >$11,805,380</td>\n",
       "                        <td id=\"T_b2e76_row7_col5\" class=\"data row7 col5\" >$23,107,166</td>\n",
       "                        <td id=\"T_b2e76_row7_col6\" class=\"data row7 col6\" >$-2,286,914</td>\n",
       "                        <td id=\"T_b2e76_row7_col7\" class=\"data row7 col7\" >$44,149,535</td>\n",
       "            </tr>\n",
       "            <tr>\n",
       "                        <th id=\"T_b2e76_level0_row8\" class=\"row_heading level0 row8\" >2016</th>\n",
       "                        <td id=\"T_b2e76_row8_col0\" class=\"data row8 col0\" >$50,550,376</td>\n",
       "                        <td id=\"T_b2e76_row8_col1\" class=\"data row8 col1\" >$-47,262,880</td>\n",
       "                        <td id=\"T_b2e76_row8_col2\" class=\"data row8 col2\" >$-38,489,569</td>\n",
       "                        <td id=\"T_b2e76_row8_col3\" class=\"data row8 col3\" >$-17,039,328</td>\n",
       "                        <td id=\"T_b2e76_row8_col4\" class=\"data row8 col4\" >$2,660,377</td>\n",
       "                        <td id=\"T_b2e76_row8_col5\" class=\"data row8 col5\" >$31,495,209</td>\n",
       "                        <td id=\"T_b2e76_row8_col6\" class=\"data row8 col6\" >$30,523,810</td>\n",
       "                        <td id=\"T_b2e76_row8_col7\" class=\"data row8 col7\" >$88,662,756</td>\n",
       "            </tr>\n",
       "            <tr>\n",
       "                        <th id=\"T_b2e76_level0_row9\" class=\"row_heading level0 row9\" >2017</th>\n",
       "                        <td id=\"T_b2e76_row9_col0\" class=\"data row9 col0\" >$-103,101,567</td>\n",
       "                        <td id=\"T_b2e76_row9_col1\" class=\"data row9 col1\" >$-34,988,941</td>\n",
       "                        <td id=\"T_b2e76_row9_col2\" class=\"data row9 col2\" >$-10,559,407</td>\n",
       "                        <td id=\"T_b2e76_row9_col3\" class=\"data row9 col3\" >$-55,453,782</td>\n",
       "                        <td id=\"T_b2e76_row9_col4\" class=\"data row9 col4\" >$-10,767,711</td>\n",
       "                        <td id=\"T_b2e76_row9_col5\" class=\"data row9 col5\" >$-31,123,574</td>\n",
       "                        <td id=\"T_b2e76_row9_col6\" class=\"data row9 col6\" >$-11,430,902</td>\n",
       "                        <td id=\"T_b2e76_row9_col7\" class=\"data row9 col7\" >$51,222,750</td>\n",
       "            </tr>\n",
       "            <tr>\n",
       "                        <th id=\"T_b2e76_level0_row10\" class=\"row_heading level0 row10\" >2018</th>\n",
       "                        <td id=\"T_b2e76_row10_col0\" class=\"data row10 col0\" >$117,214,408</td>\n",
       "                        <td id=\"T_b2e76_row10_col1\" class=\"data row10 col1\" >$-40,803,774</td>\n",
       "                        <td id=\"T_b2e76_row10_col2\" class=\"data row10 col2\" >$-55,960,579</td>\n",
       "                        <td id=\"T_b2e76_row10_col3\" class=\"data row10 col3\" >$23,024,391</td>\n",
       "                        <td id=\"T_b2e76_row10_col4\" class=\"data row10 col4\" >$34,706,537</td>\n",
       "                        <td id=\"T_b2e76_row10_col5\" class=\"data row10 col5\" >$43,494,146</td>\n",
       "                        <td id=\"T_b2e76_row10_col6\" class=\"data row10 col6\" >$95,198,902</td>\n",
       "                        <td id=\"T_b2e76_row10_col7\" class=\"data row10 col7\" >$17,554,785</td>\n",
       "            </tr>\n",
       "            <tr>\n",
       "                        <th id=\"T_b2e76_level0_row11\" class=\"row_heading level0 row11\" >2019</th>\n",
       "                        <td id=\"T_b2e76_row11_col0\" class=\"data row11 col0\" >$-102,801,481</td>\n",
       "                        <td id=\"T_b2e76_row11_col1\" class=\"data row11 col1\" >$-12,159,604</td>\n",
       "                        <td id=\"T_b2e76_row11_col2\" class=\"data row11 col2\" >$-41,031,799</td>\n",
       "                        <td id=\"T_b2e76_row11_col3\" class=\"data row11 col3\" >$-47,340,773</td>\n",
       "                        <td id=\"T_b2e76_row11_col4\" class=\"data row11 col4\" >$-21,074,183</td>\n",
       "                        <td id=\"T_b2e76_row11_col5\" class=\"data row11 col5\" >$-28,123,816</td>\n",
       "                        <td id=\"T_b2e76_row11_col6\" class=\"data row11 col6\" >$31,952,918</td>\n",
       "                        <td id=\"T_b2e76_row11_col7\" class=\"data row11 col7\" >$14,975,776</td>\n",
       "            </tr>\n",
       "            <tr>\n",
       "                        <th id=\"T_b2e76_level0_row12\" class=\"row_heading level0 row12\" >2020</th>\n",
       "                        <td id=\"T_b2e76_row12_col0\" class=\"data row12 col0\" >$1,685,157,547</td>\n",
       "                        <td id=\"T_b2e76_row12_col1\" class=\"data row12 col1\" >$498,758,900</td>\n",
       "                        <td id=\"T_b2e76_row12_col2\" class=\"data row12 col2\" >$397,377,599</td>\n",
       "                        <td id=\"T_b2e76_row12_col3\" class=\"data row12 col3\" >$-37,233,695</td>\n",
       "                        <td id=\"T_b2e76_row12_col4\" class=\"data row12 col4\" >$5,572,220</td>\n",
       "                        <td id=\"T_b2e76_row12_col5\" class=\"data row12 col5\" >$93,828,506</td>\n",
       "                        <td id=\"T_b2e76_row12_col6\" class=\"data row12 col6\" >$656,412,313</td>\n",
       "                        <td id=\"T_b2e76_row12_col7\" class=\"data row12 col7\" >$70,441,704</td>\n",
       "            </tr>\n",
       "            <tr>\n",
       "                        <th id=\"T_b2e76_level0_row13\" class=\"row_heading level0 row13\" >2021</th>\n",
       "                        <td id=\"T_b2e76_row13_col0\" class=\"data row13 col0\" >$-13,020,499</td>\n",
       "                        <td id=\"T_b2e76_row13_col1\" class=\"data row13 col1\" >$14,454,508</td>\n",
       "                        <td id=\"T_b2e76_row13_col2\" class=\"data row13 col2\" >$-77,943,395</td>\n",
       "                        <td id=\"T_b2e76_row13_col3\" class=\"data row13 col3\" >$-44,850,536</td>\n",
       "                        <td id=\"T_b2e76_row13_col4\" class=\"data row13 col4\" >$129,297,218</td>\n",
       "                        <td id=\"T_b2e76_row13_col5\" class=\"data row13 col5\" >$-29,611,131</td>\n",
       "                        <td id=\"T_b2e76_row13_col6\" class=\"data row13 col6\" >$4,198,789</td>\n",
       "                        <td id=\"T_b2e76_row13_col7\" class=\"data row13 col7\" >$-8,565,951</td>\n",
       "            </tr>\n",
       "    </tbody></table>"
      ],
      "text/plain": [
       "<pandas.io.formats.style.Styler at 0x2943492b880>"
      ]
     },
     "execution_count": 12,
     "metadata": {},
     "output_type": "execute_result"
    }
   ],
   "source": [
    "annual_dollar_returns = summary.get_annual_dollar_returns(returns, notional_weights)\n",
    "fmt.get_dollar_ret_styler(annual_dollar_returns)"
   ]
  },
  {
   "cell_type": "markdown",
   "metadata": {},
   "source": [
    "## Display Annual Dollar Returns"
   ]
  },
  {
   "cell_type": "code",
   "execution_count": 13,
   "metadata": {},
   "outputs": [
    {
     "data": {
      "application/vnd.jupyter.widget-view+json": {
       "model_id": "f463cdbfecdd43c1a6d05bde5a0d7275",
       "version_major": 2,
       "version_minor": 0
      },
      "text/plain": [
       "interactive(children=(Dropdown(description='strat_1', options=('Tail Risk Program', 'Down Var', 'VOLA', 'Dynam…"
      ]
     },
     "metadata": {},
     "output_type": "display_data"
    }
   ],
   "source": [
    "@interact\n",
    "def display_annual_dollar_returns(strat_1=list(annual_dollar_returns.select_dtypes('float').columns)\n",
    "      ,strat_2=list(annual_dollar_returns.select_dtypes('float').columns)[1:]):\n",
    "    df = annual_dollar_returns.copy()\n",
    "    for col in df.columns:\n",
    "        if not (col == strat_1 or col ==strat_2):\n",
    "            df.drop([col], axis=1, inplace=True)\n",
    "    fig = px.bar(df,barmode='group')\n",
    "    fig.update_layout(\n",
    "        title = {'text':\"<b>Annual $ Returns</b>\",'y':0.95,'x':0.5,'xanchor': 'center','yanchor': 'top'},\n",
    "        title_font_family = \"Calibri\",\n",
    "        titlefont = {\"size\":24},\n",
    "        xaxis = dict(tickfont = dict(size=12)),\n",
    "        legend_title=\"Strategies\"\n",
    "    )\n",
    "    fig.update_xaxes(title_font_family = \"Calibri\",title_text = \"<b>Year</b>\",\n",
    "        title_font = {\"size\": 20})\n",
    "    fig.update_yaxes(title_font_family = \"Calibri\",title_text = \"<b>Dollars</b>\",title_font = {\"size\": 20})\n",
    "    fig.show()"
   ]
  },
  {
   "cell_type": "markdown",
   "metadata": {},
   "source": [
    "## Create Report\n",
    "\n",
    "Run this code below to export analysis into excel spreadsheet\n",
    "* **equity_hedge_report (string)**: provide a name for the excel file\n",
    "* **selloffs (boolean)**:\n",
    "    * **True**: if you want historical selloff data in the spreadsheet\n",
    "    * **False**: if you do not want historical selloff data in the spreadsheet"
   ]
  },
  {
   "cell_type": "code",
   "execution_count": 15,
   "metadata": {},
   "outputs": [
    {
     "name": "stdout",
     "output_type": "stream",
     "text": [
      "Computing Monthly Analytics...\n",
      "Computing Weekly Analytics...\n",
      "Computing Historical SellOffs...\n",
      "Strategy for the Monthly Returns Table : Down Var\n",
      "\"equity_hedge_analysis_2021q2.xlsx\" report generated in \"C:\\Users\\maddi\\Documents\\RMP\\EquityHedging\\reports\\\" folder\n"
     ]
    }
   ],
   "source": [
    "equity_hedge_report = 'equity_hedge_analysis_2021q2'\n",
    "selloffs = True\n",
    "grouped = False\n",
    "monthly_ret_table = True\n",
    "rp.get_equity_hedge_report(equity_hedge_report, returns, notional_weights, \n",
    "                           include_fi, new_strat, weighted[0], selloffs, grouped, monthly_ret_table)"
   ]
  },
  {
   "cell_type": "markdown",
   "metadata": {},
   "source": [
    "## End"
   ]
  }
 ],
 "metadata": {
  "kernelspec": {
   "display_name": "Python 3 (ipykernel)",
   "language": "python",
   "name": "python3"
  },
  "language_info": {
   "codemirror_mode": {
    "name": "ipython",
    "version": 3
   },
   "file_extension": ".py",
   "mimetype": "text/x-python",
   "name": "python",
   "nbconvert_exporter": "python",
   "pygments_lexer": "ipython3",
   "version": "3.10.9"
  },
  "varInspector": {
   "cols": {
    "lenName": 16,
    "lenType": 16,
    "lenVar": 40
   },
   "kernels_config": {
    "python": {
     "delete_cmd_postfix": "",
     "delete_cmd_prefix": "del ",
     "library": "var_list.py",
     "varRefreshCmd": "print(var_dic_list())"
    },
    "r": {
     "delete_cmd_postfix": ") ",
     "delete_cmd_prefix": "rm(",
     "library": "var_list.r",
     "varRefreshCmd": "cat(var_dic_list()) "
    }
   },
   "types_to_exclude": [
    "module",
    "function",
    "builtin_function_or_method",
    "instance",
    "_Feature"
   ],
   "window_display": false
  }
 },
 "nbformat": 4,
 "nbformat_minor": 2
}
