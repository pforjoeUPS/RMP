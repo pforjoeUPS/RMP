{
 "cells": [
  {
   "cell_type": "markdown",
   "metadata": {},
   "source": [
    "# Equity Hedging Analysis Notebook\n",
    "\n",
    "This notebook runs analysis on the Strategy and Allocation Equity Hedge Portfolio"
   ]
  },
  {
   "cell_type": "markdown",
   "metadata": {},
   "source": [
    "## Import libraries"
   ]
  },
  {
   "cell_type": "code",
   "execution_count": 1,
   "metadata": {
    "scrolled": true
   },
   "outputs": [],
   "source": [
    "import pandas as pd\n",
    "import plotly.express as px\n",
    "from EquityHedging.datamanager import data_manager as dm\n",
    "from EquityHedging.analytics.util import get_df_weights\n",
    "from EquityHedging.analytics import summary\n",
    "from EquityHedging.reporting.excel import reports as rp\n",
    "#from EquityHedging.reporting import formatter as fmt, plots\n",
    "from EquityHedging.reporting import formatter as fmt\n",
    "from ipywidgets import interact, interact_manual\n",
    "\n",
    "new_strat = False\n",
    "notional_weights = []\n",
    "weighted = [True, False]"
   ]
  },
  {
   "cell_type": "markdown",
   "metadata": {},
   "source": [
    "1# ## Import returns data\n",
    "\n",
    "### Imports Daily, Weekly, Monthly, Quarterly and Yearly returns data\n",
    "\n",
    "To import the returns data:\n",
    "* Select an Equity Benchmark (**equity_bmk**) - SPTR, M1WD, SX5T\n",
    "* Decide if you want a Fixed Income Benchmark (**include_fi**) - True, False\n",
    "* Select what equity hedging strategies to exclude (**strat_drop_list**). Below is the list of strategies:\n",
    "\n",
    "    * 99%/90% Put Spread, Down Var, Vortex, VOLA , Dynamic Put Spread, VRR, GW Dispersion, Corr Hedge"
   ]
  },
  {
   "cell_type": "code",
   "execution_count": 2,
   "metadata": {},
   "outputs": [],
   "source": [
    "equity_bmk = 'SPTR'\n",
    "include_fi = False\n",
    "strat_drop_list = ['Vortex','99%/90% Put Spread']\n",
    "returns = dm.get_equity_hedge_returns(equity_bmk, include_fi, strat_drop_list)"
   ]
  },
  {
   "cell_type": "code",
   "execution_count": 3,
   "metadata": {},
   "outputs": [
    {
     "data": {
      "text/html": [
       "<div>\n",
       "<style scoped>\n",
       "    .dataframe tbody tr th:only-of-type {\n",
       "        vertical-align: middle;\n",
       "    }\n",
       "\n",
       "    .dataframe tbody tr th {\n",
       "        vertical-align: top;\n",
       "    }\n",
       "\n",
       "    .dataframe thead th {\n",
       "        text-align: right;\n",
       "    }\n",
       "</style>\n",
       "<table border=\"1\" class=\"dataframe\">\n",
       "  <thead>\n",
       "    <tr style=\"text-align: right;\">\n",
       "      <th></th>\n",
       "      <th>SPTR</th>\n",
       "      <th>Down Var</th>\n",
       "      <th>VOLA 3</th>\n",
       "      <th>Dynamic Put Spread</th>\n",
       "      <th>VRR 2</th>\n",
       "      <th>VRR Trend</th>\n",
       "      <th>GW Dispersion</th>\n",
       "      <th>Corr Hedge</th>\n",
       "      <th>Def Var</th>\n",
       "      <th>Commodity Basket</th>\n",
       "    </tr>\n",
       "    <tr>\n",
       "      <th>Date</th>\n",
       "      <th></th>\n",
       "      <th></th>\n",
       "      <th></th>\n",
       "      <th></th>\n",
       "      <th></th>\n",
       "      <th></th>\n",
       "      <th></th>\n",
       "      <th></th>\n",
       "      <th></th>\n",
       "      <th></th>\n",
       "    </tr>\n",
       "  </thead>\n",
       "  <tbody>\n",
       "    <tr>\n",
       "      <th>2008-01-02</th>\n",
       "      <td>-0.014234</td>\n",
       "      <td>0.001222</td>\n",
       "      <td>0.000405</td>\n",
       "      <td>0.007035</td>\n",
       "      <td>0.038563</td>\n",
       "      <td>0.092654</td>\n",
       "      <td>0.004445</td>\n",
       "      <td>-0.000645</td>\n",
       "      <td>0.000060</td>\n",
       "      <td>0.000000</td>\n",
       "    </tr>\n",
       "    <tr>\n",
       "      <th>2008-01-03</th>\n",
       "      <td>0.000004</td>\n",
       "      <td>-0.007951</td>\n",
       "      <td>-0.000404</td>\n",
       "      <td>0.000902</td>\n",
       "      <td>-0.000481</td>\n",
       "      <td>-0.005330</td>\n",
       "      <td>0.000557</td>\n",
       "      <td>0.000706</td>\n",
       "      <td>0.002847</td>\n",
       "      <td>0.000000</td>\n",
       "    </tr>\n",
       "    <tr>\n",
       "      <th>2008-01-04</th>\n",
       "      <td>-0.024554</td>\n",
       "      <td>-0.002920</td>\n",
       "      <td>0.000757</td>\n",
       "      <td>0.010221</td>\n",
       "      <td>0.000104</td>\n",
       "      <td>0.014632</td>\n",
       "      <td>0.004150</td>\n",
       "      <td>0.001413</td>\n",
       "      <td>0.001678</td>\n",
       "      <td>0.000000</td>\n",
       "    </tr>\n",
       "    <tr>\n",
       "      <th>2008-01-07</th>\n",
       "      <td>0.003233</td>\n",
       "      <td>-0.011995</td>\n",
       "      <td>-0.000090</td>\n",
       "      <td>-0.000405</td>\n",
       "      <td>-0.000506</td>\n",
       "      <td>-0.003820</td>\n",
       "      <td>0.001705</td>\n",
       "      <td>0.003480</td>\n",
       "      <td>0.002363</td>\n",
       "      <td>0.000000</td>\n",
       "    </tr>\n",
       "    <tr>\n",
       "      <th>2008-01-08</th>\n",
       "      <td>-0.018022</td>\n",
       "      <td>0.007908</td>\n",
       "      <td>-0.001076</td>\n",
       "      <td>0.006206</td>\n",
       "      <td>-0.033850</td>\n",
       "      <td>-0.031475</td>\n",
       "      <td>0.005055</td>\n",
       "      <td>0.001406</td>\n",
       "      <td>-0.001676</td>\n",
       "      <td>0.000000</td>\n",
       "    </tr>\n",
       "    <tr>\n",
       "      <th>...</th>\n",
       "      <td>...</td>\n",
       "      <td>...</td>\n",
       "      <td>...</td>\n",
       "      <td>...</td>\n",
       "      <td>...</td>\n",
       "      <td>...</td>\n",
       "      <td>...</td>\n",
       "      <td>...</td>\n",
       "      <td>...</td>\n",
       "      <td>...</td>\n",
       "    </tr>\n",
       "    <tr>\n",
       "      <th>2023-05-24</th>\n",
       "      <td>-0.007300</td>\n",
       "      <td>-0.001545</td>\n",
       "      <td>0.000288</td>\n",
       "      <td>0.001141</td>\n",
       "      <td>-0.000438</td>\n",
       "      <td>-0.008191</td>\n",
       "      <td>-0.000405</td>\n",
       "      <td>-0.001660</td>\n",
       "      <td>0.000432</td>\n",
       "      <td>0.000302</td>\n",
       "    </tr>\n",
       "    <tr>\n",
       "      <th>2023-05-25</th>\n",
       "      <td>0.008790</td>\n",
       "      <td>0.001074</td>\n",
       "      <td>-0.000420</td>\n",
       "      <td>-0.001516</td>\n",
       "      <td>0.000819</td>\n",
       "      <td>0.007407</td>\n",
       "      <td>0.009797</td>\n",
       "      <td>0.001363</td>\n",
       "      <td>-0.000456</td>\n",
       "      <td>-0.000758</td>\n",
       "    </tr>\n",
       "    <tr>\n",
       "      <th>2023-05-26</th>\n",
       "      <td>0.013120</td>\n",
       "      <td>0.003091</td>\n",
       "      <td>-0.000466</td>\n",
       "      <td>-0.002386</td>\n",
       "      <td>0.001520</td>\n",
       "      <td>0.002458</td>\n",
       "      <td>0.001596</td>\n",
       "      <td>-0.001314</td>\n",
       "      <td>-0.000872</td>\n",
       "      <td>0.001208</td>\n",
       "    </tr>\n",
       "    <tr>\n",
       "      <th>2023-05-30</th>\n",
       "      <td>0.000083</td>\n",
       "      <td>-0.001908</td>\n",
       "      <td>-0.000081</td>\n",
       "      <td>0.000400</td>\n",
       "      <td>0.000732</td>\n",
       "      <td>-0.015411</td>\n",
       "      <td>0.001291</td>\n",
       "      <td>-0.002394</td>\n",
       "      <td>0.003186</td>\n",
       "      <td>0.000390</td>\n",
       "    </tr>\n",
       "    <tr>\n",
       "      <th>2023-05-31</th>\n",
       "      <td>-0.005901</td>\n",
       "      <td>-0.003103</td>\n",
       "      <td>-0.000026</td>\n",
       "      <td>0.001224</td>\n",
       "      <td>-0.004250</td>\n",
       "      <td>-0.012626</td>\n",
       "      <td>0.002401</td>\n",
       "      <td>0.001599</td>\n",
       "      <td>0.000712</td>\n",
       "      <td>-0.001304</td>\n",
       "    </tr>\n",
       "  </tbody>\n",
       "</table>\n",
       "<p>3876 rows × 10 columns</p>\n",
       "</div>"
      ],
      "text/plain": [
       "                SPTR  Down Var    VOLA 3  Dynamic Put Spread     VRR 2  \\\n",
       "Date                                                                     \n",
       "2008-01-02 -0.014234  0.001222  0.000405            0.007035  0.038563   \n",
       "2008-01-03  0.000004 -0.007951 -0.000404            0.000902 -0.000481   \n",
       "2008-01-04 -0.024554 -0.002920  0.000757            0.010221  0.000104   \n",
       "2008-01-07  0.003233 -0.011995 -0.000090           -0.000405 -0.000506   \n",
       "2008-01-08 -0.018022  0.007908 -0.001076            0.006206 -0.033850   \n",
       "...              ...       ...       ...                 ...       ...   \n",
       "2023-05-24 -0.007300 -0.001545  0.000288            0.001141 -0.000438   \n",
       "2023-05-25  0.008790  0.001074 -0.000420           -0.001516  0.000819   \n",
       "2023-05-26  0.013120  0.003091 -0.000466           -0.002386  0.001520   \n",
       "2023-05-30  0.000083 -0.001908 -0.000081            0.000400  0.000732   \n",
       "2023-05-31 -0.005901 -0.003103 -0.000026            0.001224 -0.004250   \n",
       "\n",
       "            VRR Trend  GW Dispersion  Corr Hedge   Def Var  Commodity Basket  \n",
       "Date                                                                          \n",
       "2008-01-02   0.092654       0.004445   -0.000645  0.000060          0.000000  \n",
       "2008-01-03  -0.005330       0.000557    0.000706  0.002847          0.000000  \n",
       "2008-01-04   0.014632       0.004150    0.001413  0.001678          0.000000  \n",
       "2008-01-07  -0.003820       0.001705    0.003480  0.002363          0.000000  \n",
       "2008-01-08  -0.031475       0.005055    0.001406 -0.001676          0.000000  \n",
       "...               ...            ...         ...       ...               ...  \n",
       "2023-05-24  -0.008191      -0.000405   -0.001660  0.000432          0.000302  \n",
       "2023-05-25   0.007407       0.009797    0.001363 -0.000456         -0.000758  \n",
       "2023-05-26   0.002458       0.001596   -0.001314 -0.000872          0.001208  \n",
       "2023-05-30  -0.015411       0.001291   -0.002394  0.003186          0.000390  \n",
       "2023-05-31  -0.012626       0.002401    0.001599  0.000712         -0.001304  \n",
       "\n",
       "[3876 rows x 10 columns]"
      ]
     },
     "execution_count": 3,
     "metadata": {},
     "output_type": "execute_result"
    }
   ],
   "source": [
    "returns['Daily']\n"
   ]
  },
  {
   "cell_type": "markdown",
   "metadata": {},
   "source": [
    "## View Returns data\n",
    "\n",
    "Select frequency (Daily, Weekly, Monthly, Yearly) to view data"
   ]
  },
  {
   "cell_type": "code",
   "execution_count": 4,
   "metadata": {
    "scrolled": false
   },
   "outputs": [
    {
     "data": {
      "application/vnd.jupyter.widget-view+json": {
       "model_id": "abed9771eba340ecb2a08e3c2c9cda3e",
       "version_major": 2,
       "version_minor": 0
      },
      "text/plain": [
       "interactive(children=(Dropdown(description='frequency', options=('Daily', 'Weekly', 'Monthly', 'Quarterly', 'Y…"
      ]
     },
     "metadata": {},
     "output_type": "display_data"
    }
   ],
   "source": [
    "freq_list = ['Daily', 'Weekly', 'Monthly','Quarterly', 'Yearly']\n",
    "@interact\n",
    "def display_returns(frequency = freq_list):\n",
    "    return fmt.get_returns_styler(returns[frequency])"
   ]
  },
  {
   "cell_type": "markdown",
   "metadata": {},
   "source": [
    "## Add new strategy\n",
    "\n",
    "**Run this code if you want to add a new strategy**\n",
    "* Import the daily index/returns:\n",
    "    * Specify:\n",
    "        * strategy_list: list of strategies \n",
    "        * filename: name of excel file\n",
    "        * sheet_name: sheet name\n",
    "        * data_type: index or returns data\n",
    "* add it to the Equity hedge returns data"
   ]
  },
  {
   "cell_type": "code",
   "execution_count": null,
   "metadata": {},
   "outputs": [],
   "source": [
    "strategy_list = ['Esprso']\n",
    "filename = 'esprso.xlsx'\n",
    "sheet_name = 'Sheet1'\n",
    "data_type = 'index'\n",
    "new_strategy = dm.get_new_strategy_returns_data(filename, sheet_name, strategy_list)\n",
    "new_strategy_dict = dm.get_data_dict(new_strategy, data_type)\n",
    "returns = dm.merge_dicts(returns, new_strategy_dict)\n",
    "new_strat=True"
   ]
  },
  {
   "cell_type": "markdown",
   "metadata": {},
   "source": [
    "## Get and display Notional Weights"
   ]
  },
  {
   "cell_type": "code",
   "execution_count": 5,
   "metadata": {},
   "outputs": [
    {
     "name": "stdout",
     "output_type": "stream",
     "text": [
      "notional value (Billions) for SPTR: 11\n",
      "notional value (Billions) for Down Var: 1\n",
      "notional value (Billions) for VOLA 3: 1\n",
      "notional value (Billions) for Dynamic Put Spread: 1\n",
      "notional value (Billions) for VRR 2: 1\n",
      "notional value (Billions) for VRR Trend: 1\n",
      "notional value (Billions) for GW Dispersion: 1\n",
      "notional value (Billions) for Corr Hedge: 1\n",
      "notional value (Billions) for Def Var: 1\n",
      "notional value (Billions) for Commodity Basket: 1\n"
     ]
    },
    {
     "data": {
      "text/html": [
       "<style type=\"text/css\">\n",
       "</style>\n",
       "<table id=\"T_a4a5f\">\n",
       "  <thead>\n",
       "    <tr>\n",
       "      <th class=\"blank level0\" >&nbsp;</th>\n",
       "      <th id=\"T_a4a5f_level0_col0\" class=\"col_heading level0 col0\" >SPTR</th>\n",
       "      <th id=\"T_a4a5f_level0_col1\" class=\"col_heading level0 col1\" >Down Var</th>\n",
       "      <th id=\"T_a4a5f_level0_col2\" class=\"col_heading level0 col2\" >VOLA 3</th>\n",
       "      <th id=\"T_a4a5f_level0_col3\" class=\"col_heading level0 col3\" >Dynamic Put Spread</th>\n",
       "      <th id=\"T_a4a5f_level0_col4\" class=\"col_heading level0 col4\" >VRR Portfolio</th>\n",
       "      <th id=\"T_a4a5f_level0_col5\" class=\"col_heading level0 col5\" >GW Dispersion</th>\n",
       "      <th id=\"T_a4a5f_level0_col6\" class=\"col_heading level0 col6\" >Corr Hedge</th>\n",
       "      <th id=\"T_a4a5f_level0_col7\" class=\"col_heading level0 col7\" >Def Var</th>\n",
       "      <th id=\"T_a4a5f_level0_col8\" class=\"col_heading level0 col8\" >Commodity Basket</th>\n",
       "    </tr>\n",
       "  </thead>\n",
       "  <tbody>\n",
       "    <tr>\n",
       "      <th id=\"T_a4a5f_level0_row0\" class=\"row_heading level0 row0\" >Notional Weights (Billions)</th>\n",
       "      <td id=\"T_a4a5f_row0_col0\" class=\"data row0 col0\" >$11.00</td>\n",
       "      <td id=\"T_a4a5f_row0_col1\" class=\"data row0 col1\" >$1.00</td>\n",
       "      <td id=\"T_a4a5f_row0_col2\" class=\"data row0 col2\" >$1.00</td>\n",
       "      <td id=\"T_a4a5f_row0_col3\" class=\"data row0 col3\" >$1.00</td>\n",
       "      <td id=\"T_a4a5f_row0_col4\" class=\"data row0 col4\" >$2.00</td>\n",
       "      <td id=\"T_a4a5f_row0_col5\" class=\"data row0 col5\" >$1.00</td>\n",
       "      <td id=\"T_a4a5f_row0_col6\" class=\"data row0 col6\" >$1.00</td>\n",
       "      <td id=\"T_a4a5f_row0_col7\" class=\"data row0 col7\" >$1.00</td>\n",
       "      <td id=\"T_a4a5f_row0_col8\" class=\"data row0 col8\" >$1.00</td>\n",
       "    </tr>\n",
       "    <tr>\n",
       "      <th id=\"T_a4a5f_level0_row1\" class=\"row_heading level0 row1\" >Percentage Weights</th>\n",
       "      <td id=\"T_a4a5f_row1_col0\" class=\"data row1 col0\" >100.00%</td>\n",
       "      <td id=\"T_a4a5f_row1_col1\" class=\"data row1 col1\" >9.09%</td>\n",
       "      <td id=\"T_a4a5f_row1_col2\" class=\"data row1 col2\" >9.09%</td>\n",
       "      <td id=\"T_a4a5f_row1_col3\" class=\"data row1 col3\" >9.09%</td>\n",
       "      <td id=\"T_a4a5f_row1_col4\" class=\"data row1 col4\" >18.18%</td>\n",
       "      <td id=\"T_a4a5f_row1_col5\" class=\"data row1 col5\" >9.09%</td>\n",
       "      <td id=\"T_a4a5f_row1_col6\" class=\"data row1 col6\" >9.09%</td>\n",
       "      <td id=\"T_a4a5f_row1_col7\" class=\"data row1 col7\" >9.09%</td>\n",
       "      <td id=\"T_a4a5f_row1_col8\" class=\"data row1 col8\" >9.09%</td>\n",
       "    </tr>\n",
       "    <tr>\n",
       "      <th id=\"T_a4a5f_level0_row2\" class=\"row_heading level0 row2\" >Strategy Weights</th>\n",
       "      <td id=\"T_a4a5f_row2_col0\" class=\"data row2 col0\" >0.00%</td>\n",
       "      <td id=\"T_a4a5f_row2_col1\" class=\"data row2 col1\" >11.11%</td>\n",
       "      <td id=\"T_a4a5f_row2_col2\" class=\"data row2 col2\" >11.11%</td>\n",
       "      <td id=\"T_a4a5f_row2_col3\" class=\"data row2 col3\" >11.11%</td>\n",
       "      <td id=\"T_a4a5f_row2_col4\" class=\"data row2 col4\" >22.22%</td>\n",
       "      <td id=\"T_a4a5f_row2_col5\" class=\"data row2 col5\" >11.11%</td>\n",
       "      <td id=\"T_a4a5f_row2_col6\" class=\"data row2 col6\" >11.11%</td>\n",
       "      <td id=\"T_a4a5f_row2_col7\" class=\"data row2 col7\" >11.11%</td>\n",
       "      <td id=\"T_a4a5f_row2_col8\" class=\"data row2 col8\" >11.11%</td>\n",
       "    </tr>\n",
       "  </tbody>\n",
       "</table>\n"
      ],
      "text/plain": [
       "<pandas.io.formats.style.Styler at 0x254a2fd3f40>"
      ]
     },
     "execution_count": 5,
     "metadata": {},
     "output_type": "execute_result"
    }
   ],
   "source": [
    "#get notional weights\n",
    "notional_weights = dm.get_notional_weights(returns['Monthly'])\n",
    "\n",
    "returns = dm.create_vrr_portfolio(returns,notional_weights)\n",
    "notional_weights[4:6] = [notional_weights[4] + notional_weights[5]]\n",
    "\n",
    "df_weights = get_df_weights(notional_weights, list(returns['Monthly'].columns), include_fi)\n",
    "\n",
    "fmt.get_notional_styler(df_weights)\n"
   ]
  },
  {
   "cell_type": "markdown",
   "metadata": {},
   "source": [
    "## Compute Correlations"
   ]
  },
  {
   "cell_type": "code",
   "execution_count": 7,
   "metadata": {},
   "outputs": [],
   "source": [
    "corr_freq_list = ['Daily', 'Weekly', 'Monthly']\n",
    "corr_dict = summary.get_corr_data(returns, corr_freq_list, weighted, notional_weights, include_fi)"
   ]
  },
  {
   "cell_type": "markdown",
   "metadata": {},
   "source": [
    "## Display Correlations\n",
    "\n",
    "Display Correlations of returns data by:\n",
    "* **frequency (Monthly or Weekly)** - Show correlations of Monthly or Weekly returns\n",
    "* **weighted (True or False)** - Show Weighted Hedges or not\n",
    "* **corr** - Show:\n",
    "    * **corr** - full history correaltions\n",
    "    * **corr_down** - risk seeking benchmark downside returns correlations or \n",
    "    * **corr_up** - risk seeking benchmark upside returns correlations\n",
    "* **plot_type (corrplot or heatmap)** - Show a map with magnitude or just heatmap"
   ]
  },
  {
   "cell_type": "markdown",
   "metadata": {},
   "source": [
    "Corr doesnt work due to heatmapz not being able to be downloaded"
   ]
  },
  {
   "cell_type": "markdown",
   "metadata": {},
   "source": [
    "@interact\n",
    "def display_correlations(frequency=corr_freq_list, weighted=weighted,\n",
    "                         corr=['full', 'equity_down', 'equity_up'], plot_type=['heatmap', 'corrplot']):\n",
    "    data = corr_dict[frequency]\n",
    "    corr_df = data[weighted][corr][0]\n",
    "    if plot_type == 'heatmap':\n",
    "        return plots.draw_heatmap(corr_df, half=False)\n",
    "    else:\n",
    "        return plots.draw_corrplot(corr_df)"
   ]
  },
  {
   "cell_type": "markdown",
   "metadata": {},
   "source": [
    "## Compute Return Stats and Hedge Metrics"
   ]
  },
  {
   "cell_type": "code",
   "execution_count": null,
   "metadata": {},
   "outputs": [],
   "source": [
    "analytics_freq_list = ['Weekly', 'Monthly']\n",
    "analytics_dict = summary.get_analytics_data(returns,analytics_freq_list,weighted,notional_weights,include_fi,new_strat)"
   ]
  },
  {
   "cell_type": "markdown",
   "metadata": {},
   "source": [
    "## Display Return Stats and Hedge Metrics\n",
    "\n",
    "Display Returns Analytics data by:\n",
    "* **frequency (Monthly or Weekly)** - Show Monthly or Weekly returns\n",
    "* **weighted (True or False)** - Show Weighted Strats and Hedges or not\n",
    "* **stats (return_stats, hedge_metrics)** - Show:\n",
    "    * Return Statistics or \n",
    "    * Hedge Metrics"
   ]
  },
  {
   "cell_type": "code",
   "execution_count": null,
   "metadata": {
    "scrolled": false
   },
   "outputs": [],
   "source": [
    "@interact\n",
    "def display_analytics(frequency=analytics_freq_list, weighted=weighted, stats=['return_stats', 'hedge_metrics']):\n",
    "    data = analytics_dict[frequency]\n",
    "    analytics = data[weighted]\n",
    "    if stats == 'return_stats':\n",
    "        return fmt.get_analytics_styler(analytics)\n",
    "    if stats == 'hedge_metrics':\n",
    "        if frequency == 'Weekly':\n",
    "            return fmt.get_analytics_styler(analytics, stats, '1W')\n",
    "        else:\n",
    "            return fmt.get_analytics_styler(analytics, stats)"
   ]
  },
  {
   "cell_type": "markdown",
   "metadata": {},
   "source": [
    "## Compute Historical Sell Offs"
   ]
  },
  {
   "cell_type": "code",
   "execution_count": null,
   "metadata": {},
   "outputs": [],
   "source": [
    "hist_dict = summary.get_hist_data(returns,notional_weights=notional_weights, weighted=weighted)"
   ]
  },
  {
   "cell_type": "markdown",
   "metadata": {},
   "source": [
    "## Display Historical Sell Offs\n",
    "\n",
    "Display Hisorical Sell Offs data by:\n",
    "* **weighted (True or False)** - Show Weighted Hedges or not"
   ]
  },
  {
   "cell_type": "code",
   "execution_count": null,
   "metadata": {},
   "outputs": [],
   "source": [
    "@interact\n",
    "def display_selloffs(weighted=weighted):\n",
    "    df_hist = hist_dict[weighted]\n",
    "    return fmt.get_hist_styler(df_hist)"
   ]
  },
  {
   "cell_type": "markdown",
   "metadata": {},
   "source": [
    "## Compute Quintile or Decile Analysis\n",
    "Display grouped data by:\n",
    "* **group (Quintile or Decile)** - Show returns data in quintiles or deciles"
   ]
  },
  {
   "cell_type": "code",
   "execution_count": null,
   "metadata": {},
   "outputs": [],
   "source": [
    "group_list=['Quintile','Decile']\n",
    "@interact\n",
    "def display_returns(group = group_list):\n",
    "    quintile_df = summary.get_grouped_data(returns, group = group)\n",
    "    return(quintile_df.style.format(\"{:.2%}\"))"
   ]
  },
  {
   "cell_type": "markdown",
   "metadata": {},
   "source": [
    "## Display Quintile or Decile Analysis\n",
    "Display Quintile Analysis Bar Chart:\n",
    "* **group (Quintile or Decile)** - Show returns data in quintiles or deciles\n",
    "* **strat** - Show quintile or decile for selected strategy"
   ]
  },
  {
   "cell_type": "code",
   "execution_count": null,
   "metadata": {},
   "outputs": [],
   "source": [
    "group_list=['Quintile','Decile']\n",
    "@interact\n",
    "\n",
    "def display_quintile_analysis(group = group_list, strat=list(returns['Monthly'].select_dtypes('float').columns)[1:]):    \n",
    "    df = summary.get_grouped_data(returns, group = group)\n",
    "    \n",
    "    for col in df.columns:\n",
    "        df[col] *= 100\n",
    "        if not (col == equity_bmk or col ==strat):\n",
    "            df.drop([col], axis=1, inplace=True)\n",
    "    if group == \"Quintile\":\n",
    "        title ='Quintile Analysis'\n",
    "    else:\n",
    "        title = 'Decile Analysis'\n",
    "        \n",
    "    fig = px.bar(df,barmode='group',title = title)\n",
    "    fig.update_layout(\n",
    "        title = {'text':\"<b>{}</b>\".format(title),'y':0.95,'x':0.5,'xanchor': 'center','yanchor': 'top'},\n",
    "        title_font_family = \"Calibri\",\n",
    "        titlefont = {\"size\":24},\n",
    "        xaxis = dict(tickfont = dict(size=12)),\n",
    "        yaxis = dict(ticksuffix=\"%\"),\n",
    "        legend_title=\"Strategies\",\n",
    "        plot_bgcolor='White'\n",
    "    )\n",
    "    fig.update_xaxes(title_font_family = \"Calibri\",title_text = \"<b>SPTR Monthly Returns Ranking</b>\",\n",
    "        title_font = {\"size\": 20},showline=True,linewidth=2,linecolor='black',mirror=False)\n",
    "    fig.update_yaxes(title_font_family = \"Calibri\",title_text = \"<b></b>\",title_font = {\"size\": 20},\n",
    "        showline=True,linewidth=2,linecolor='black',mirror=False)\n",
    "    fig.show()"
   ]
  },
  {
   "cell_type": "markdown",
   "metadata": {},
   "source": [
    "## Compute Annual Dollar Returns"
   ]
  },
  {
   "cell_type": "code",
   "execution_count": null,
   "metadata": {
    "scrolled": true
   },
   "outputs": [],
   "source": [
    "annual_dollar_returns = summary.get_annual_dollar_returns(returns, notional_weights)\n",
    "fmt.get_dollar_ret_styler(annual_dollar_returns)"
   ]
  },
  {
   "cell_type": "markdown",
   "metadata": {},
   "source": [
    "## Display Annual Dollar Returns"
   ]
  },
  {
   "cell_type": "code",
   "execution_count": null,
   "metadata": {},
   "outputs": [],
   "source": [
    "@interact\n",
    "def display_annual_dollar_returns(strat_1=list(annual_dollar_returns.select_dtypes('float').columns)\n",
    "      ,strat_2=list(annual_dollar_returns.select_dtypes('float').columns)[1:]):\n",
    "    df = annual_dollar_returns.copy()\n",
    "    for col in df.columns:\n",
    "        if not (col == strat_1 or col ==strat_2):\n",
    "            df.drop([col], axis=1, inplace=True)\n",
    "    fig = px.bar(df,barmode='group')\n",
    "    fig.update_layout(\n",
    "        title = {'text':\"<b>Annual $ Returns</b>\",'y':0.95,'x':0.5,'xanchor': 'center','yanchor': 'top'},\n",
    "        title_font_family = \"Calibri\",\n",
    "        titlefont = {\"size\":24},\n",
    "        xaxis = dict(tickfont = dict(size=12)),\n",
    "        legend_title=\"Strategies\"\n",
    "    )\n",
    "    fig.update_xaxes(title_font_family = \"Calibri\",title_text = \"<b>Year</b>\",\n",
    "        title_font = {\"size\": 20})\n",
    "    fig.update_yaxes(title_font_family = \"Calibri\",title_text = \"<b>Dollars</b>\",title_font = {\"size\": 20})\n",
    "    fig.show()"
   ]
  },
  {
   "cell_type": "markdown",
   "metadata": {},
   "source": [
    "## Display Monthly  Returns Table"
   ]
  },
  {
   "cell_type": "code",
   "execution_count": null,
   "metadata": {
    "scrolled": false
   },
   "outputs": [],
   "source": [
    "month_ret_table= dm.all_strat_month_ret_table(returns[\"Monthly\"], notional_weights = notional_weights, weighted = True)\n",
    "strat_list = list(month_ret_table.keys())\n",
    "@interact\n",
    "def display__monthly_ret_table(strategy = strat_list):\n",
    "    return fmt.get_monthly_ret_table_styler(month_ret_table[strategy])"
   ]
  },
  {
   "cell_type": "markdown",
   "metadata": {},
   "source": [
    "# Create Report\n",
    "\n",
    "Run this code below to export analysis into excel spreadsheet\n",
    "* **equity_hedge_report (string)**: provide a name for the excel file\n",
    "* **selloffs (boolean)**:\n",
    "    * **True**: if you want historical selloff data in the spreadsheet\n",
    "    * **False**: if you do not want historical selloff data in the spreadsheet"
   ]
  },
  {
   "cell_type": "code",
   "execution_count": null,
   "metadata": {},
   "outputs": [],
   "source": [
    "equity_hedge_report = 'equity_hedge_analysis_2021q2'\n",
    "selloffs = True\n",
    "grouped = False\n",
    "rp.get_equity_hedge_report(equity_hedge_report, returns, notional_weights, include_fi, new_strat, weighted[0], selloffs, grouped)"
   ]
  },
  {
   "cell_type": "markdown",
   "metadata": {},
   "source": [
    "## End"
   ]
  }
 ],
 "metadata": {
  "kernelspec": {
   "display_name": "Python 3 (ipykernel)",
   "language": "python",
   "name": "python3"
  },
  "language_info": {
   "codemirror_mode": {
    "name": "ipython",
    "version": 3
   },
   "file_extension": ".py",
   "mimetype": "text/x-python",
   "name": "python",
   "nbconvert_exporter": "python",
   "pygments_lexer": "ipython3",
   "version": "3.10.9"
  },
  "varInspector": {
   "cols": {
    "lenName": 16,
    "lenType": 16,
    "lenVar": 40
   },
   "kernels_config": {
    "python": {
     "delete_cmd_postfix": "",
     "delete_cmd_prefix": "del ",
     "library": "var_list.py",
     "varRefreshCmd": "print(var_dic_list())"
    },
    "r": {
     "delete_cmd_postfix": ") ",
     "delete_cmd_prefix": "rm(",
     "library": "var_list.r",
     "varRefreshCmd": "cat(var_dic_list()) "
    }
   },
   "types_to_exclude": [
    "module",
    "function",
    "builtin_function_or_method",
    "instance",
    "_Feature"
   ],
   "window_display": false
  }
 },
 "nbformat": 4,
 "nbformat_minor": 2
}
