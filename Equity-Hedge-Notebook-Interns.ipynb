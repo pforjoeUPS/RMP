{
 "cells": [
  {
   "cell_type": "markdown",
   "metadata": {},
   "source": [
    "# Equity Hedging Analysis Notebook\n",
    "\n",
    "This notebook runs analysis on the Strategy and Allocation Equity Hedge Portfolio"
   ]
  },
  {
   "cell_type": "markdown",
   "metadata": {},
   "source": [
    "## Import libraries"
   ]
  },
  {
   "cell_type": "code",
   "execution_count": 1,
   "metadata": {
    "scrolled": true
   },
   "outputs": [],
   "source": [
    "import pandas as pd\n",
    "import plotly.express as px\n",
    "from EquityHedging.datamanager import data_manager as dm\n",
    "from EquityHedging.analytics.util import get_df_weights\n",
    "from EquityHedging.analytics import summary\n",
    "from EquityHedging.reporting.excel import reports as rp\n",
    "#from EquityHedging.reporting import formatter as fmt, plots\n",
    "from EquityHedging.reporting import formatter as fmt\n",
    "from ipywidgets import interact, interact_manual\n",
    "from EquityHedging.reporting import plots as plt2\n",
    "\n",
    "new_strat = False\n",
    "notional_weights = []\n",
    "weighted = [True, False]"
   ]
  },
  {
   "cell_type": "markdown",
   "metadata": {},
   "source": [
    "1# ## Import returns data\n",
    "\n",
    "### Imports Daily, Weekly, Monthly, Quarterly and Yearly returns data\n",
    "\n",
    "To import the returns data:\n",
    "* Select an Equity Benchmark (**equity_bmk**) - SPTR, M1WD, SX5T\n",
    "* Decide if you want a Fixed Income Benchmark (**include_fi**) - True, False\n",
    "* Select what equity hedging strategies to exclude (**strat_drop_list**). Below is the list of strategies:\n",
    "\n",
    "    * 99%/90% Put Spread, Down Var, Vortex, VOLA , Dynamic Put Spread, VRR, GW Dispersion, Corr Hedge"
   ]
  },
  {
   "cell_type": "code",
   "execution_count": null,
   "metadata": {},
   "outputs": [],
   "source": [
    "equity_bmk = 'SPTR'\n",
    "include_fi = False\n",
    "strat_drop_list = ['Vortex','99%/90% Put Spread']\n",
    "returns = dm.get_equity_hedge_returns(equity_bmk, include_fi, strat_drop_list)"
   ]
  },
  {
   "cell_type": "code",
   "execution_count": null,
   "metadata": {},
   "outputs": [],
   "source": [
    "returns['Daily']\n"
   ]
  },
  {
   "cell_type": "markdown",
   "metadata": {},
   "source": [
    "## View Returns data\n",
    "\n",
    "Select frequency (Daily, Weekly, Monthly, Yearly) to view data"
   ]
  },
  {
   "cell_type": "code",
   "execution_count": null,
   "metadata": {
    "scrolled": false
   },
   "outputs": [],
   "source": [
    "freq_list = ['Daily', 'Weekly', 'Monthly','Quarterly', 'Yearly']\n",
    "@interact\n",
    "def display_returns(frequency = freq_list):\n",
    "    return fmt.get_returns_styler(returns[frequency])"
   ]
  },
  {
   "cell_type": "markdown",
   "metadata": {},
   "source": [
    "## Add new strategy\n",
    "\n",
    "**Run this code if you want to add a new strategy**\n",
    "* Import the daily index/returns:\n",
    "    * Specify:\n",
    "        * strategy_list: list of strategies \n",
    "        * filename: name of excel file\n",
    "        * sheet_name: sheet name\n",
    "        * data_type: index or returns data\n",
    "* add it to the Equity hedge returns data"
   ]
  },
  {
   "cell_type": "code",
   "execution_count": null,
   "metadata": {},
   "outputs": [],
   "source": [
    "strategy_list = ['Esprso']\n",
    "filename = 'esprso.xlsx'\n",
    "sheet_name = 'Sheet1'\n",
    "data_type = 'index'\n",
    "new_strategy = dm.get_new_strategy_returns_data(filename, sheet_name, strategy_list)\n",
    "new_strategy_dict = dm.get_data_dict(new_strategy, data_type)\n",
    "returns = dm.merge_dicts(returns, new_strategy_dict)\n",
    "new_strat=True"
   ]
  },
  {
   "cell_type": "markdown",
   "metadata": {},
   "source": [
    "## Get and display Notional Weights"
   ]
  },
  {
   "cell_type": "code",
   "execution_count": null,
   "metadata": {},
   "outputs": [],
   "source": [
    "#get notional weights\n",
    "notional_weights = dm.get_notional_weights(returns['Monthly'])\n",
    "\n",
    "returns = dm.create_vrr_portfolio(returns,notional_weights)\n",
    "notional_weights[4:6] = [notional_weights[4] + notional_weights[5]]\n",
    "\n",
    "df_weights = get_df_weights(notional_weights, list(returns['Monthly'].columns), include_fi)\n",
    "\n",
    "fmt.get_notional_styler(df_weights)\n"
   ]
  },
  {
   "cell_type": "markdown",
   "metadata": {},
   "source": [
    "## Compute Correlations"
   ]
  },
  {
   "cell_type": "code",
   "execution_count": null,
   "metadata": {},
   "outputs": [],
   "source": [
    "corr_freq_list = ['Daily', 'Weekly', 'Monthly']\n",
    "corr_dict = summary.get_corr_data(returns, corr_freq_list, weighted, notional_weights, include_fi)"
   ]
  },
  {
   "cell_type": "markdown",
   "metadata": {},
   "source": [
    "## Display Correlations\n",
    "\n",
    "Display Correlations of returns data by:\n",
    "* **frequency (Monthly or Weekly)** - Show correlations of Monthly or Weekly returns\n",
    "* **weighted (True or False)** - Show Weighted Hedges or not\n",
    "* **corr** - Show:\n",
    "    * **corr** - full history correaltions\n",
    "    * **corr_down** - risk seeking benchmark downside returns correlations or \n",
    "    * **corr_up** - risk seeking benchmark upside returns correlations\n",
    "* **plot_type (corrplot or heatmap)** - Show a map with magnitude or just heatmap"
   ]
  },
  {
   "cell_type": "markdown",
   "metadata": {},
   "source": [
    "Corr doesnt work due to heatmapz not being able to be downloaded"
   ]
  },
  {
   "cell_type": "markdown",
   "metadata": {},
   "source": [
    "@interact\n",
    "def display_correlations(frequency=corr_freq_list, weighted=weighted,\n",
    "                         corr=['full', 'equity_down', 'equity_up'], plot_type=['heatmap', 'corrplot']):\n",
    "    data = corr_dict[frequency]\n",
    "    corr_df = data[weighted][corr][0]\n",
    "    if plot_type == 'heatmap':\n",
    "        return plots.draw_heatmap(corr_df, half=False)\n",
    "    else:\n",
    "        return plots.draw_corrplot(corr_df)"
   ]
  },
  {
   "cell_type": "markdown",
   "metadata": {},
   "source": [
    "## Compute Return Stats and Hedge Metrics"
   ]
  },
  {
   "cell_type": "code",
   "execution_count": null,
   "metadata": {},
   "outputs": [],
   "source": [
    "analytics_freq_list = ['Weekly', 'Monthly']\n",
    "analytics_dict = summary.get_analytics_data(returns,analytics_freq_list,weighted,notional_weights,include_fi,new_strat)"
   ]
  },
  {
   "cell_type": "markdown",
   "metadata": {},
   "source": [
    "## Display Return Stats and Hedge Metrics\n",
    "\n",
    "Display Returns Analytics data by:\n",
    "* **frequency (Monthly or Weekly)** - Show Monthly or Weekly returns\n",
    "* **weighted (True or False)** - Show Weighted Strats and Hedges or not\n",
    "* **stats (return_stats, hedge_metrics)** - Show:\n",
    "    * Return Statistics or \n",
    "    * Hedge Metrics"
   ]
  },
  {
   "cell_type": "code",
   "execution_count": null,
   "metadata": {
    "scrolled": false
   },
   "outputs": [],
   "source": [
    "@interact\n",
    "def display_analytics(frequency=analytics_freq_list, weighted=weighted, stats=['return_stats', 'hedge_metrics']):\n",
    "    data = analytics_dict[frequency]\n",
    "    analytics = data[weighted]\n",
    "    if stats == 'return_stats':\n",
    "        return fmt.get_analytics_styler(analytics)\n",
    "    if stats == 'hedge_metrics':\n",
    "        if frequency == 'Weekly':\n",
    "            return fmt.get_analytics_styler(analytics, stats, '1W')\n",
    "        else:\n",
    "            return fmt.get_analytics_styler(analytics, stats)"
   ]
  },
  {
   "cell_type": "markdown",
   "metadata": {},
   "source": [
    "## Compute Historical Sell Offs"
   ]
  },
  {
   "cell_type": "code",
   "execution_count": null,
   "metadata": {},
   "outputs": [],
   "source": [
    "hist_dict = summary.get_hist_data(returns,notional_weights=notional_weights, weighted=weighted)"
   ]
  },
  {
   "cell_type": "markdown",
   "metadata": {},
   "source": [
    "## Display Historical Sell Offs\n",
    "\n",
    "Display Hisorical Sell Offs data by:\n",
    "* **weighted (True or False)** - Show Weighted Hedges or not"
   ]
  },
  {
   "cell_type": "code",
   "execution_count": null,
   "metadata": {},
   "outputs": [],
   "source": [
    "@interact\n",
    "def display_selloffs(weighted=weighted):\n",
    "    df_hist = hist_dict[weighted]\n",
    "    return fmt.get_hist_styler(df_hist)"
   ]
  },
  {
   "cell_type": "markdown",
   "metadata": {},
   "source": [
    "## Compute Quintile or Decile Analysis\n",
    "Display grouped data by:\n",
    "* **group (Quintile or Decile)** - Show returns data in quintiles or deciles"
   ]
  },
  {
   "cell_type": "code",
   "execution_count": null,
   "metadata": {},
   "outputs": [],
   "source": [
    "group_list=['Quintile','Decile']\n",
    "@interact\n",
    "def display_returns(group = group_list):\n",
    "    quintile_df = summary.get_grouped_data(returns, group = group)\n",
    "    return(quintile_df.style.format(\"{:.2%}\"))"
   ]
  },
  {
   "cell_type": "markdown",
   "metadata": {},
   "source": [
    "## Display Quintile or Decile Analysis\n",
    "Display Quintile Analysis Bar Chart:\n",
    "* **group (Quintile or Decile)** - Show returns data in quintiles or deciles\n",
    "* **strat** - Show quintile or decile for selected strategy"
   ]
  },
  {
   "cell_type": "code",
   "execution_count": null,
   "metadata": {},
   "outputs": [],
   "source": [
    "group_list=['Quintile','Decile']\n",
    "@interact\n",
    "\n",
    "def display_quintile_analysis(group = group_list, strat=list(returns['Monthly'].select_dtypes('float').columns)[1:]):    \n",
    "    df = summary.get_grouped_data(returns, group = group)\n",
    "    \n",
    "    for col in df.columns:\n",
    "        df[col] *= 100\n",
    "        if not (col == equity_bmk or col ==strat):\n",
    "            df.drop([col], axis=1, inplace=True)\n",
    "    if group == \"Quintile\":\n",
    "        title ='Quintile Analysis'\n",
    "    else:\n",
    "        title = 'Decile Analysis'\n",
    "        \n",
    "    fig = px.bar(df,barmode='group',title = title)\n",
    "    fig.update_layout(\n",
    "        title = {'text':\"<b>{}</b>\".format(title),'y':0.95,'x':0.5,'xanchor': 'center','yanchor': 'top'},\n",
    "        title_font_family = \"Calibri\",\n",
    "        titlefont = {\"size\":24},\n",
    "        xaxis = dict(tickfont = dict(size=12)),\n",
    "        yaxis = dict(ticksuffix=\"%\"),\n",
    "        legend_title=\"Strategies\",\n",
    "        plot_bgcolor='White'\n",
    "    )\n",
    "    fig.update_xaxes(title_font_family = \"Calibri\",title_text = \"<b>SPTR Monthly Returns Ranking</b>\",\n",
    "        title_font = {\"size\": 20},showline=True,linewidth=2,linecolor='black',mirror=False)\n",
    "    fig.update_yaxes(title_font_family = \"Calibri\",title_text = \"<b></b>\",title_font = {\"size\": 20},\n",
    "        showline=True,linewidth=2,linecolor='black',mirror=False)\n",
    "    fig.show()"
   ]
  },
  {
   "cell_type": "markdown",
   "metadata": {},
   "source": [
    "## Compute Annual Dollar Returns"
   ]
  },
  {
   "cell_type": "code",
   "execution_count": null,
   "metadata": {
    "scrolled": true
   },
   "outputs": [],
   "source": [
    "annual_dollar_returns = summary.get_annual_dollar_returns(returns, notional_weights)\n",
    "fmt.get_dollar_ret_styler(annual_dollar_returns)"
   ]
  },
  {
   "cell_type": "markdown",
   "metadata": {},
   "source": [
    "## Display Annual Dollar Returns"
   ]
  },
  {
   "cell_type": "code",
   "execution_count": null,
   "metadata": {},
   "outputs": [],
   "source": [
    "@interact\n",
    "def display_annual_dollar_returns(strat_1=list(annual_dollar_returns.select_dtypes('float').columns)\n",
    "      ,strat_2=list(annual_dollar_returns.select_dtypes('float').columns)[1:]):\n",
    "    df = annual_dollar_returns.copy()\n",
    "    for col in df.columns:\n",
    "        if not (col == strat_1 or col ==strat_2):\n",
    "            df.drop([col], axis=1, inplace=True)\n",
    "    fig = px.bar(df,barmode='group')\n",
    "    fig.update_layout(\n",
    "        title = {'text':\"<b>Annual $ Returns</b>\",'y':0.95,'x':0.5,'xanchor': 'center','yanchor': 'top'},\n",
    "        title_font_family = \"Calibri\",\n",
    "        titlefont = {\"size\":24},\n",
    "        xaxis = dict(tickfont = dict(size=12)),\n",
    "        legend_title=\"Strategies\"\n",
    "    )\n",
    "    fig.update_xaxes(title_font_family = \"Calibri\",title_text = \"<b>Year</b>\",\n",
    "        title_font = {\"size\": 20})\n",
    "    fig.update_yaxes(title_font_family = \"Calibri\",title_text = \"<b>Dollars</b>\",title_font = {\"size\": 20})\n",
    "    fig.show()"
   ]
  },
  {
   "cell_type": "markdown",
   "metadata": {},
   "source": [
    "## Display Monthly  Returns Table"
   ]
  },
  {
   "cell_type": "code",
   "execution_count": null,
   "metadata": {
    "scrolled": false
   },
   "outputs": [],
   "source": [
    "month_ret_table= dm.all_strat_month_ret_table(returns[\"Monthly\"], notional_weights = notional_weights, weighted = True)\n",
    "strat_list = list(month_ret_table.keys())\n",
    "@interact\n",
    "def display__monthly_ret_table(strategy = strat_list):\n",
    "    return fmt.get_monthly_ret_table_styler(month_ret_table[strategy])"
   ]
  },
  {
   "cell_type": "markdown",
   "metadata": {},
   "source": [
    "# Create Report\n",
    "\n",
    "Run this code below to export analysis into excel spreadsheet\n",
    "* **equity_hedge_report (string)**: provide a name for the excel file\n",
    "* **selloffs (boolean)**:\n",
    "    * **True**: if you want historical selloff data in the spreadsheet\n",
    "    * **False**: if you do not want historical selloff data in the spreadsheet"
   ]
  },
  {
   "cell_type": "code",
   "execution_count": null,
   "metadata": {},
   "outputs": [],
   "source": [
    "equity_hedge_report = 'equity_hedge_analysis_2021q2'\n",
    "selloffs = True\n",
    "grouped = False\n",
    "rp.get_equity_hedge_report(equity_hedge_report, returns, notional_weights, include_fi, new_strat, weighted[0], selloffs, grouped)"
   ]
  },
  {
   "cell_type": "code",
   "execution_count": 2,
   "metadata": {
    "scrolled": false
   },
   "outputs": [
    {
     "data": {
      "application/vnd.jupyter.widget-view+json": {
       "model_id": "bd01e88ea2014adb880a483ded9536f2",
       "version_major": 2,
       "version_minor": 0
      },
      "text/plain": [
       "interactive(children=(Dropdown(description='frequency', options=('Daily', 'Weekly', 'Monthly', 'Quarterly', 'Y…"
      ]
     },
     "metadata": {},
     "output_type": "display_data"
    }
   ],
   "source": [
    "equity_bmk_list = ['SPTR','SX5T','M1WD','VIX','UX3']\n",
    "strategy_list = ['Down Var',\n",
    " 'Vortex', 'VOLA I', 'VOLA II','Dynamic VOLA','Dynamic Put Spread',\n",
    "                    'GW Dispersion', 'Corr Hedge','Def Var (Mon)', 'Def Var (Fri)', 'Def Var (Wed)', \n",
    "                    'Commodity Basket']\n",
    "freq_list = ['Daily', 'Weekly', 'Monthly','Quarterly', 'Yearly']\n",
    "@interact\n",
    "def view_regression_plot(frequency = freq_list, strategy = strategy_list, equity_bmk = equity_bmk_list):\n",
    "    strat_drop_list = ['Vortex','99%/90% Put Spread']\n",
    "    returns = dm.get_equity_hedge_returns(equity_bmk, False, strat_drop_list, False, all_data = True)\n",
    "    return plt2.get_regression_plot(frequency, strategy, equity_bmk)"
   ]
  },
  {
   "cell_type": "markdown",
   "metadata": {},
   "source": [
    "## End"
   ]
  }
 ],
 "metadata": {
  "kernelspec": {
   "display_name": "Python 3 (ipykernel)",
   "language": "python",
   "name": "python3"
  },
  "language_info": {
   "codemirror_mode": {
    "name": "ipython",
    "version": 3
   },
   "file_extension": ".py",
   "mimetype": "text/x-python",
   "name": "python",
   "nbconvert_exporter": "python",
   "pygments_lexer": "ipython3",
   "version": "3.10.9"
  },
  "varInspector": {
   "cols": {
    "lenName": 16,
    "lenType": 16,
    "lenVar": 40
   },
   "kernels_config": {
    "python": {
     "delete_cmd_postfix": "",
     "delete_cmd_prefix": "del ",
     "library": "var_list.py",
     "varRefreshCmd": "print(var_dic_list())"
    },
    "r": {
     "delete_cmd_postfix": ") ",
     "delete_cmd_prefix": "rm(",
     "library": "var_list.r",
     "varRefreshCmd": "cat(var_dic_list()) "
    }
   },
   "types_to_exclude": [
    "module",
    "function",
    "builtin_function_or_method",
    "instance",
    "_Feature"
   ],
   "window_display": false
  }
 },
 "nbformat": 4,
 "nbformat_minor": 2
}
