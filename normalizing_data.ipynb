{
 "cells": [
  {
   "cell_type": "markdown",
   "id": "b8dc8f15",
   "metadata": {},
   "source": [
    "# Ranking Strategies Notebook\n",
    "This notebook normalized cumulative, reliability, and decay metrics and ranks strategies highest to lowest based on these metrics."
   ]
  },
  {
   "cell_type": "markdown",
   "id": "af89cb02",
   "metadata": {},
   "source": [
    "## Import Libraries"
   ]
  },
  {
   "cell_type": "code",
   "execution_count": null,
   "id": "6c69c8b6",
   "metadata": {},
   "outputs": [],
   "source": [
    "from ipywidgets import interact, interact_manual\n",
    "from EquityHedging.datamanager import data_manager as dm\n",
    "from EquityHedging.analytics import  util\n",
    "from EquityHedging.analytics import summary \n",
    "from EquityHedging.reporting.excel import reports as rp\n",
    "from EquityHedging.reporting import formatter as fmt, plots\n",
    "from EquityHedging.analytics import hedge_metrics as hm\n",
    "import pandas as pd\n",
    "import plotly.graph_objects as go\n"
   ]
  },
  {
   "cell_type": "markdown",
   "id": "70cecfef",
   "metadata": {},
   "source": [
    "## Import returns data\n",
    "\n",
    "### Imports Daily, Weekly, Monthly, Quarterly and Yearly returns data\n",
    "\n",
    "To import the returns data:\n",
    "* Select an Equity Benchmark (**equity_bmk**) - SPTR, M1WD, SX5T\n",
    "* Decide if you want a Fixed Income Benchmark (**include_fi**) - True, False\n",
    "* Select what equity hedging strategies to exclude (**strat_drop_list**). Below is the list of strategies:\n",
    "\n",
    "    * 99%/90% Put Spread, Down Var, Vortex, VOLA , Dynamic Put Spread, VRR, GW Dispersion, Corr Hedge, Def Var"
   ]
  },
  {
   "cell_type": "code",
   "execution_count": null,
   "id": "7ed2423e",
   "metadata": {},
   "outputs": [],
   "source": [
    "equity_bmk = 'SPTR'\n",
    "strat_drop_list = ['99%/90% Put Spread', 'Vortex']\n",
    "returns = dm.get_equity_hedge_returns(equity_bmk, strat_drop_list = strat_drop_list)\n",
    "weekly_ret=returns['Weekly'].copy()"
   ]
  },
  {
   "cell_type": "markdown",
   "id": "638c2d47",
   "metadata": {},
   "source": [
    "##  Get Notional Weights "
   ]
  },
  {
   "cell_type": "code",
   "execution_count": null,
   "id": "d42dedb7",
   "metadata": {},
   "outputs": [],
   "source": [
    "#notional_weights = dm.get_notional_weights(returns['Weekly'])\n",
    "notional_weights = [19.0, 1.0, 1.25, 1.0, 0.75, 0.25, 1.0, 0.25, 1.0, 1.0]\n",
    "df_weights = util.get_df_weights(notional_weights, list(returns['Weekly'].columns))\n",
    "fmt.get_notional_styler(df_weights)"
   ]
  },
  {
   "cell_type": "markdown",
   "id": "c73520b6",
   "metadata": {},
   "source": [
    "## Get Raw Scores and Normalized Hedge Metrics"
   ]
  },
  {
   "cell_type": "code",
   "execution_count": null,
   "id": "d6f97f19",
   "metadata": {},
   "outputs": [],
   "source": [
    "hm_dict = summary.get_norm_hedge_metrics(weekly_ret, notional_weights, weighted=True,more_metrics=False)"
   ]
  },
  {
   "cell_type": "markdown",
   "id": "2d4131d5",
   "metadata": {},
   "source": [
    "\n",
    "## Display Data\n",
    "To display data:\n",
    "* Select which statistics you want to view **(stats)** -  Hedge Metrics or Normalized Data"
   ]
  },
  {
   "cell_type": "code",
   "execution_count": null,
   "id": "19ef00d9",
   "metadata": {},
   "outputs": [],
   "source": [
    "@interact\n",
    "def display_hedge_metrics_or_normal( stats = ['Hedge Metrics','Normalized Data']):\n",
    "    if stats == 'Hedge Metrics':\n",
    "        return fmt.format_hm_to_normalize(hm_dict[stats])    \n",
    "    else:\n",
    "        return fmt.format_normalized_data(hm_dict[stats])\n"
   ]
  },
  {
   "cell_type": "markdown",
   "id": "cab09808",
   "metadata": {},
   "source": [
    "## Display Ranked Strategies vs Normalized Data"
   ]
  },
  {
   "cell_type": "code",
   "execution_count": null,
   "id": "38630367",
   "metadata": {},
   "outputs": [],
   "source": [
    "df_norm = hm_dict['Normalized Data']\n",
    "df_normal = df_norm.transpose()\n",
    "\n",
    "#assign each strategy a symbol\n",
    "symbols = plots.get_symbols(df_normal, unique=True)\n",
    "color = plots.get_colors(df_normal, grey=False)\n",
    "\n",
    "index = list(df_normal.index)\n",
    "fig = go.Figure()\n",
    "#loops through eaach column and plots each metric for the given strategy\n",
    "for col in df_normal.columns:\n",
    "    fig.add_trace(go.Scatter(\n",
    "        x=index,\n",
    "        y=df_normal[col],\n",
    "        marker=dict(size = 20, color = color[col]),\n",
    "        marker_symbol = symbols[col],\n",
    "        mode= \"markers\",\n",
    "        name=col\n",
    "        ))\n",
    "fig.update_layout(title=\"\",\n",
    "                xaxis_title=\"Hedge Metric\",\n",
    "                yaxis_title=\"Higher the Better\",\n",
    "                  plot_bgcolor='White')\n",
    "fig.update_xaxes(showline=True, linewidth=2, linecolor='black', mirror=False)\n",
    "fig.update_yaxes(showline=True, linewidth=2, linecolor='black', mirror=False)\n",
    "fig.show()"
   ]
  },
  {
   "cell_type": "markdown",
   "id": "921e83c9",
   "metadata": {},
   "source": [
    "# Ranked Stratagies with Defensive Universe"
   ]
  },
  {
   "cell_type": "markdown",
   "id": "35897f1e",
   "metadata": {},
   "source": [
    "## Import Defensive Universe Returns Data"
   ]
  },
  {
   "cell_type": "code",
   "execution_count": null,
   "id": "396e3282",
   "metadata": {},
   "outputs": [],
   "source": [
    "def_uni = pd.read_excel(dm.EQUITY_HEDGE_DATA+'def_uni.xlsx',sheet_name='Weekly', index_col=0)\n",
    "def_uni.drop(\"VIX Calls\", inplace = True, axis = 1)\n",
    "df_weighted_hedges = util.get_weighted_hedges(weekly_ret, notional_weights)\n",
    "def_data = dm.merge_data_frames(def_uni, df_weighted_hedges)"
   ]
  },
  {
   "cell_type": "markdown",
   "id": "280e2940",
   "metadata": {},
   "source": [
    "## Get Defensive Universe Raw Scores and Normalized Hedge Metrics "
   ]
  },
  {
   "cell_type": "code",
   "execution_count": null,
   "id": "014b706f",
   "metadata": {},
   "outputs": [],
   "source": [
    "#def_dict = summary.get_norm_hedge_metrics(def_data)\n",
    "def_dict = {}\n",
    "for key in hm_dict:\n",
    "    def_dict[key] = pd.read_excel(dm.EQUITY_HEDGE_DATA+'def_uni_hedge_metrics.xlsx', sheet_name=key, index_col=0)"
   ]
  },
  {
   "cell_type": "markdown",
   "id": "7f5af7f8",
   "metadata": {},
   "source": [
    "## Compute Defensive Universe Quintiles"
   ]
  },
  {
   "cell_type": "code",
   "execution_count": null,
   "id": "553d067d",
   "metadata": {},
   "outputs": [],
   "source": [
    "#create quartile_df\n",
    "quartile_df = def_dict['Normalized Data'].quantile([0,.25,.5,.75,1], axis=0)\n",
    "quartile_df\n",
    "strats_list=[]"
   ]
  },
  {
   "cell_type": "markdown",
   "id": "678cb4d0",
   "metadata": {},
   "source": [
    "## Find Defensive Universe Quintile Strategies"
   ]
  },
  {
   "cell_type": "code",
   "execution_count": null,
   "id": "5c15460d",
   "metadata": {},
   "outputs": [],
   "source": [
    "col_names=list(quartile_df.columns)\n",
    "\n",
    "for col in col_names:\n",
    "    \n",
    "    #get sorted series of column in normalized df\n",
    "    col_series = def_dict['Normalized Data'][col]\n",
    "    col_series = col_series.sort_values(ascending=True)\n",
    "    \n",
    "    #get list of column inter quartile data\n",
    "    col_iqr_list = quartile_df[col].tolist()\n",
    "    \n",
    "    #loop through list to get find strategies\n",
    "    for quartile in col_iqr_list:\n",
    "        strat = col_series.index[col_series >= quartile][0]\n",
    "        if strat not in strats_list:\n",
    "            strats_list.append(strat)"
   ]
  },
  {
   "cell_type": "markdown",
   "id": "1a1d959b",
   "metadata": {},
   "source": [
    "## Get Defensive Universe Quintile and Current Strategies Data"
   ]
  },
  {
   "cell_type": "code",
   "execution_count": null,
   "id": "03e8d1e3",
   "metadata": {},
   "outputs": [],
   "source": [
    "current_strat_list = list(df_weighted_hedges.columns)\n",
    "current_strat_list.remove('SPTR')\n",
    "i=0\n",
    "for i in list(range(len(strats_list))):\n",
    "    if strats_list[i]  in current_strat_list:\n",
    "        strats_list.remove(strats_list[i])\n",
    "        \n",
    "new_list = current_strat_list +strats_list\n",
    "\n",
    "def_hm = def_dict['Hedge Metrics'].copy()\n",
    "def_n = def_dict['Normalized Data'].copy()\n",
    "\n",
    "def_hm = def_hm.loc[new_list,:]\n",
    "def_n = def_n.loc[new_list,:]"
   ]
  },
  {
   "cell_type": "markdown",
   "id": "26ca3fe1",
   "metadata": {},
   "source": [
    "## Display Data"
   ]
  },
  {
   "cell_type": "code",
   "execution_count": null,
   "id": "5b6fb2f4",
   "metadata": {},
   "outputs": [],
   "source": [
    "@interact\n",
    "def display_hedge_metrics_or_normal( stats = ['Hedge Metrics','Normalized Data']):\n",
    "    if stats == 'Hedge Metrics':\n",
    "        return fmt.format_hm_to_normalize(def_hm)    \n",
    "    else:\n",
    "        return fmt.format_normalized_data(def_n)"
   ]
  },
  {
   "cell_type": "markdown",
   "id": "0e273aa3",
   "metadata": {},
   "source": [
    "## Display Ranked Strategies vs Normalized Data"
   ]
  },
  {
   "cell_type": "code",
   "execution_count": null,
   "id": "90b9956d",
   "metadata": {},
   "outputs": [],
   "source": [
    "#get normalized data\n",
    "def_norm = def_n.transpose()\n",
    "\n",
    "#rearrange columns so thatdefensive universe columns are before our strategies\n",
    "def_universe_only = def_norm[strats_list]\n",
    "strategies_only = def_norm[current_strat_list]\n",
    "def_normal=dm.merge_data_frames(def_universe_only, strategies_only)\n",
    "\n",
    "#get symbols for defensive universe\n",
    "def_symbols = plots.get_symbols(def_universe_only, unique=False)\n",
    "\n",
    "#merge defensive universe symbols with strategy symbols from above\n",
    "new_symbols= dm.merge_data_frames( def_symbols, symbols)\n",
    "\n",
    "#get colors for defensive universe as grey\n",
    "def_color = plots.get_colors(def_universe_only, grey=True)\n",
    "\n",
    "#merge defensive universe colors with strategy colors\n",
    "new_color= dm.merge_data_frames( def_color, color)\n",
    "\n",
    "\n",
    "index = list(def_normal.index)\n",
    "fig = go.Figure()\n",
    "#loops through eaach column and plots each metric for the given strategy\n",
    "for col in def_normal.columns:\n",
    "    fig.add_trace(go.Scatter(\n",
    "        x=index,\n",
    "        y=def_normal[col],\n",
    "        marker=dict(size = 20, color = new_color[col]),\n",
    "        marker_symbol = new_symbols[col],\n",
    "        mode= \"markers\",\n",
    "        name=col\n",
    "        ))\n",
    "fig.update_layout(title=\"\",\n",
    "                xaxis_title=\"Hedge Metric\",\n",
    "                yaxis_title=\"Higher the Better\")\n",
    "                  #plot_bgcolor='')\n",
    "fig.update_xaxes(showline=True, linewidth=2, linecolor='black', mirror=False)\n",
    "fig.update_yaxes(showline=True, linewidth=2, linecolor='black', mirror=False)\n",
    "fig.show()"
   ]
  },
  {
   "cell_type": "code",
   "execution_count": null,
   "id": "1e4480b5",
   "metadata": {},
   "outputs": [],
   "source": [
    "def_symbols = plots.get_symbols(def_universe_only, unique=False)\n",
    "for i in def_symbols.columns:\n",
    "    if def_symbols[i]== 201:\n",
    "        def_symbols[i] = 41\n",
    "de"
   ]
  },
  {
   "cell_type": "code",
   "execution_count": null,
   "id": "459802ee",
   "metadata": {},
   "outputs": [],
   "source": []
  }
 ],
 "metadata": {
  "kernelspec": {
   "display_name": "Python 3 (ipykernel)",
   "language": "python",
   "name": "python3"
  },
  "language_info": {
   "codemirror_mode": {
    "name": "ipython",
    "version": 3
   },
   "file_extension": ".py",
   "mimetype": "text/x-python",
   "name": "python",
   "nbconvert_exporter": "python",
   "pygments_lexer": "ipython3",
   "version": "3.9.12"
  },
  "varInspector": {
   "cols": {
    "lenName": 16,
    "lenType": 16,
    "lenVar": 40
   },
   "kernels_config": {
    "python": {
     "delete_cmd_postfix": "",
     "delete_cmd_prefix": "del ",
     "library": "var_list.py",
     "varRefreshCmd": "print(var_dic_list())"
    },
    "r": {
     "delete_cmd_postfix": ") ",
     "delete_cmd_prefix": "rm(",
     "library": "var_list.r",
     "varRefreshCmd": "cat(var_dic_list()) "
    }
   },
   "types_to_exclude": [
    "module",
    "function",
    "builtin_function_or_method",
    "instance",
    "_Feature"
   ],
   "window_display": false
  }
 },
 "nbformat": 4,
 "nbformat_minor": 5
}
