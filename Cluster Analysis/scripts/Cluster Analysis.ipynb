{
 "cells": [
  {
   "cell_type": "markdown",
   "id": "f4790af4",
   "metadata": {},
   "source": [
    "# QIS Cluster Analysis"
   ]
  },
  {
   "cell_type": "markdown",
   "id": "33032cbc",
   "metadata": {},
   "source": [
    "## Import Libraries"
   ]
  },
  {
   "cell_type": "code",
   "execution_count": 1,
   "id": "da61de4f",
   "metadata": {},
   "outputs": [],
   "source": [
    "import os\n",
    "os.getcwd()\n",
    "os.chdir('C:\\\\Users\\\\RRQ1FYQ\\\\Documents\\\\RMP')"
   ]
  },
  {
   "cell_type": "code",
   "execution_count": 5,
   "id": "c590ab21",
   "metadata": {},
   "outputs": [],
   "source": [
    "from EquityHedging.datamanager import data_manager as dm\n",
    "from sklearn.cluster import AgglomerativeClustering\n",
    "import scipy.cluster.hierarchy as shc\n",
    "from sklearn.decomposition import PCA\n",
    "import pandas as pd\n",
    "import numpy as np\n",
    "import plotly.io as pio\n",
    "import plotly.express as px\n",
    "import plotly.offline as py\n",
    "import matplotlib.pyplot as plt\n",
    "from sklearn.cluster import KMeans\n",
    "from scipy.cluster.hierarchy import dendrogram, linkage, fcluster "
   ]
  },
  {
   "cell_type": "markdown",
   "id": "7490addd",
   "metadata": {},
   "source": [
    "## Import Normalized Hedge Metrics"
   ]
  },
  {
   "cell_type": "code",
   "execution_count": 3,
   "id": "5a68c48b",
   "metadata": {},
   "outputs": [
    {
     "data": {
      "text/html": [
       "<div>\n",
       "<style scoped>\n",
       "    .dataframe tbody tr th:only-of-type {\n",
       "        vertical-align: middle;\n",
       "    }\n",
       "\n",
       "    .dataframe tbody tr th {\n",
       "        vertical-align: top;\n",
       "    }\n",
       "\n",
       "    .dataframe thead th {\n",
       "        text-align: right;\n",
       "    }\n",
       "</style>\n",
       "<table border=\"1\" class=\"dataframe\">\n",
       "  <thead>\n",
       "    <tr style=\"text-align: right;\">\n",
       "      <th></th>\n",
       "      <th>Downside Reliability</th>\n",
       "      <th>Upside Reliability</th>\n",
       "      <th>Convexity</th>\n",
       "      <th>Cost</th>\n",
       "      <th>Decay</th>\n",
       "    </tr>\n",
       "  </thead>\n",
       "  <tbody>\n",
       "    <tr>\n",
       "      <th>99%/90% Put Spread</th>\n",
       "      <td>-0.582879</td>\n",
       "      <td>-0.644474</td>\n",
       "      <td>0.393155</td>\n",
       "      <td>-1.675492</td>\n",
       "      <td>35</td>\n",
       "    </tr>\n",
       "    <tr>\n",
       "      <th>Down Var</th>\n",
       "      <td>-0.302584</td>\n",
       "      <td>0.291293</td>\n",
       "      <td>0.950600</td>\n",
       "      <td>-2.004666</td>\n",
       "      <td>277</td>\n",
       "    </tr>\n",
       "    <tr>\n",
       "      <th>Vortex</th>\n",
       "      <td>-0.132168</td>\n",
       "      <td>0.230881</td>\n",
       "      <td>1.006886</td>\n",
       "      <td>-1.670196</td>\n",
       "      <td>157</td>\n",
       "    </tr>\n",
       "    <tr>\n",
       "      <th>VOLA</th>\n",
       "      <td>-0.721153</td>\n",
       "      <td>-0.369929</td>\n",
       "      <td>1.246549</td>\n",
       "      <td>-1.581479</td>\n",
       "      <td>322</td>\n",
       "    </tr>\n",
       "    <tr>\n",
       "      <th>Dynamic Put Spread</th>\n",
       "      <td>-0.714723</td>\n",
       "      <td>-0.718250</td>\n",
       "      <td>0.255372</td>\n",
       "      <td>-1.249904</td>\n",
       "      <td>116</td>\n",
       "    </tr>\n",
       "    <tr>\n",
       "      <th>VRR</th>\n",
       "      <td>-0.061645</td>\n",
       "      <td>0.004125</td>\n",
       "      <td>0.541243</td>\n",
       "      <td>-2.192224</td>\n",
       "      <td>140</td>\n",
       "    </tr>\n",
       "    <tr>\n",
       "      <th>GW Dispersion</th>\n",
       "      <td>-0.500056</td>\n",
       "      <td>0.063793</td>\n",
       "      <td>0.345939</td>\n",
       "      <td>-1.046722</td>\n",
       "      <td>365</td>\n",
       "    </tr>\n",
       "    <tr>\n",
       "      <th>Corr Hedge</th>\n",
       "      <td>-0.213739</td>\n",
       "      <td>0.136868</td>\n",
       "      <td>1.087390</td>\n",
       "      <td>-1.197076</td>\n",
       "      <td>365</td>\n",
       "    </tr>\n",
       "    <tr>\n",
       "      <th>Def Var</th>\n",
       "      <td>0.017510</td>\n",
       "      <td>-0.039077</td>\n",
       "      <td>0.223392</td>\n",
       "      <td>-0.470096</td>\n",
       "      <td>308</td>\n",
       "    </tr>\n",
       "    <tr>\n",
       "      <th>Weighted Hedges</th>\n",
       "      <td>-0.640437</td>\n",
       "      <td>-0.074506</td>\n",
       "      <td>0.413746</td>\n",
       "      <td>-0.595126</td>\n",
       "      <td>365</td>\n",
       "    </tr>\n",
       "    <tr>\n",
       "      <th>SPX ATM PUT</th>\n",
       "      <td>-0.897614</td>\n",
       "      <td>-0.801097</td>\n",
       "      <td>0.922790</td>\n",
       "      <td>-3.964933</td>\n",
       "      <td>38</td>\n",
       "    </tr>\n",
       "    <tr>\n",
       "      <th>20+ Yr Rates</th>\n",
       "      <td>-0.141168</td>\n",
       "      <td>-0.137731</td>\n",
       "      <td>0.931190</td>\n",
       "      <td>-4.922532</td>\n",
       "      <td>152</td>\n",
       "    </tr>\n",
       "    <tr>\n",
       "      <th>10+ Yr Rates</th>\n",
       "      <td>-0.127936</td>\n",
       "      <td>-0.135863</td>\n",
       "      <td>0.357812</td>\n",
       "      <td>-2.155413</td>\n",
       "      <td>238</td>\n",
       "    </tr>\n",
       "    <tr>\n",
       "      <th>Gold</th>\n",
       "      <td>-0.049463</td>\n",
       "      <td>0.130125</td>\n",
       "      <td>1.038184</td>\n",
       "      <td>-5.604376</td>\n",
       "      <td>42</td>\n",
       "    </tr>\n",
       "    <tr>\n",
       "      <th>Barclays Intraday Momentum I</th>\n",
       "      <td>-0.442703</td>\n",
       "      <td>0.474428</td>\n",
       "      <td>0.376606</td>\n",
       "      <td>-0.508492</td>\n",
       "      <td>365</td>\n",
       "    </tr>\n",
       "    <tr>\n",
       "      <th>Barclays Intraday Momentum II</th>\n",
       "      <td>-0.415949</td>\n",
       "      <td>0.462203</td>\n",
       "      <td>0.357511</td>\n",
       "      <td>-0.247144</td>\n",
       "      <td>365</td>\n",
       "    </tr>\n",
       "    <tr>\n",
       "      <th>Barclays Dynamic Convexity</th>\n",
       "      <td>-0.437733</td>\n",
       "      <td>0.065030</td>\n",
       "      <td>1.151875</td>\n",
       "      <td>-0.788148</td>\n",
       "      <td>365</td>\n",
       "    </tr>\n",
       "    <tr>\n",
       "      <th>Barclays US Rates Gamma Neutral I</th>\n",
       "      <td>-0.263492</td>\n",
       "      <td>-0.093951</td>\n",
       "      <td>0.502730</td>\n",
       "      <td>-1.443265</td>\n",
       "      <td>255</td>\n",
       "    </tr>\n",
       "    <tr>\n",
       "      <th>Barclays US Rates Gamma Neutral II</th>\n",
       "      <td>-0.201902</td>\n",
       "      <td>-0.077898</td>\n",
       "      <td>0.680296</td>\n",
       "      <td>-2.002821</td>\n",
       "      <td>220</td>\n",
       "    </tr>\n",
       "    <tr>\n",
       "      <th>Barclays US Rates Equal Notional</th>\n",
       "      <td>-0.149252</td>\n",
       "      <td>-0.042322</td>\n",
       "      <td>0.453474</td>\n",
       "      <td>-1.668634</td>\n",
       "      <td>353</td>\n",
       "    </tr>\n",
       "  </tbody>\n",
       "</table>\n",
       "</div>"
      ],
      "text/plain": [
       "                                    Downside Reliability  Upside Reliability  \\\n",
       "99%/90% Put Spread                             -0.582879           -0.644474   \n",
       "Down Var                                       -0.302584            0.291293   \n",
       "Vortex                                         -0.132168            0.230881   \n",
       "VOLA                                           -0.721153           -0.369929   \n",
       "Dynamic Put Spread                             -0.714723           -0.718250   \n",
       "VRR                                            -0.061645            0.004125   \n",
       "GW Dispersion                                  -0.500056            0.063793   \n",
       "Corr Hedge                                     -0.213739            0.136868   \n",
       "Def Var                                         0.017510           -0.039077   \n",
       "Weighted Hedges                                -0.640437           -0.074506   \n",
       "SPX ATM PUT                                    -0.897614           -0.801097   \n",
       "20+ Yr Rates                                   -0.141168           -0.137731   \n",
       "10+ Yr Rates                                   -0.127936           -0.135863   \n",
       "Gold                                           -0.049463            0.130125   \n",
       "Barclays Intraday Momentum I                   -0.442703            0.474428   \n",
       "Barclays Intraday Momentum II                  -0.415949            0.462203   \n",
       "Barclays Dynamic Convexity                     -0.437733            0.065030   \n",
       "Barclays US Rates Gamma Neutral I              -0.263492           -0.093951   \n",
       "Barclays US Rates Gamma Neutral II             -0.201902           -0.077898   \n",
       "Barclays US Rates Equal Notional               -0.149252           -0.042322   \n",
       "\n",
       "                                    Convexity      Cost  Decay  \n",
       "99%/90% Put Spread                   0.393155 -1.675492     35  \n",
       "Down Var                             0.950600 -2.004666    277  \n",
       "Vortex                               1.006886 -1.670196    157  \n",
       "VOLA                                 1.246549 -1.581479    322  \n",
       "Dynamic Put Spread                   0.255372 -1.249904    116  \n",
       "VRR                                  0.541243 -2.192224    140  \n",
       "GW Dispersion                        0.345939 -1.046722    365  \n",
       "Corr Hedge                           1.087390 -1.197076    365  \n",
       "Def Var                              0.223392 -0.470096    308  \n",
       "Weighted Hedges                      0.413746 -0.595126    365  \n",
       "SPX ATM PUT                          0.922790 -3.964933     38  \n",
       "20+ Yr Rates                         0.931190 -4.922532    152  \n",
       "10+ Yr Rates                         0.357812 -2.155413    238  \n",
       "Gold                                 1.038184 -5.604376     42  \n",
       "Barclays Intraday Momentum I         0.376606 -0.508492    365  \n",
       "Barclays Intraday Momentum II        0.357511 -0.247144    365  \n",
       "Barclays Dynamic Convexity           1.151875 -0.788148    365  \n",
       "Barclays US Rates Gamma Neutral I    0.502730 -1.443265    255  \n",
       "Barclays US Rates Gamma Neutral II   0.680296 -2.002821    220  \n",
       "Barclays US Rates Equal Notional     0.453474 -1.668634    353  "
      ]
     },
     "execution_count": 3,
     "metadata": {},
     "output_type": "execute_result"
    }
   ],
   "source": [
    "file_path = dm.EQUITY_HEDGE_DATA+'def_uni_hedge_metrics_more.xlsx'\n",
    "normalized_hm = pd.read_excel(dm.EQUITY_HEDGE_DATA+'def_uni_hedge_metrics_more.xlsx', index_col=(0))\n",
    "features = ['Downside Reliability', 'Upside Reliability', 'Convexity', 'Cost', 'Decay']\n",
    "normalized_hm = normalized_hm[features]\n",
    "normalized_hm.head(20)"
   ]
  },
  {
   "cell_type": "code",
   "execution_count": 4,
   "id": "a89677d8",
   "metadata": {},
   "outputs": [],
   "source": [
    "\n",
    "# Assume you have your data stored in a numpy array called 'data'\n",
    "# Perform hierarchical clustering\n",
    "#Z = linkage(data, method='ward')\n",
    "links = shc.linkage(normalized_hm, method = 'ward')\n",
    "# Set a threshold to determine the number of clusters \n",
    "threshold = 2.5  \n",
    "# You can adjust this value based on your data and requirements\n",
    "\n",
    "# Retrieve cluster labels for each data point \n",
    "clusters = fcluster(links, threshold, criterion='distance')\n"
   ]
  },
  {
   "cell_type": "code",
   "execution_count": 7,
   "id": "9ac1c42d",
   "metadata": {
    "scrolled": false
   },
   "outputs": [],
   "source": [
    "normalized_hm['Cluster'] = list(clusters)"
   ]
  },
  {
   "cell_type": "code",
   "execution_count": 8,
   "id": "f2ba736d",
   "metadata": {},
   "outputs": [
    {
     "data": {
      "text/html": [
       "<div>\n",
       "<style scoped>\n",
       "    .dataframe tbody tr th:only-of-type {\n",
       "        vertical-align: middle;\n",
       "    }\n",
       "\n",
       "    .dataframe tbody tr th {\n",
       "        vertical-align: top;\n",
       "    }\n",
       "\n",
       "    .dataframe thead th {\n",
       "        text-align: right;\n",
       "    }\n",
       "</style>\n",
       "<table border=\"1\" class=\"dataframe\">\n",
       "  <thead>\n",
       "    <tr style=\"text-align: right;\">\n",
       "      <th></th>\n",
       "      <th>Downside Reliability</th>\n",
       "      <th>Upside Reliability</th>\n",
       "      <th>Convexity</th>\n",
       "      <th>Cost</th>\n",
       "      <th>Decay</th>\n",
       "      <th>Cluster</th>\n",
       "    </tr>\n",
       "  </thead>\n",
       "  <tbody>\n",
       "    <tr>\n",
       "      <th>99%/90% Put Spread</th>\n",
       "      <td>-0.582879</td>\n",
       "      <td>-0.644474</td>\n",
       "      <td>0.393155</td>\n",
       "      <td>-1.675492</td>\n",
       "      <td>35</td>\n",
       "      <td>10</td>\n",
       "    </tr>\n",
       "    <tr>\n",
       "      <th>Down Var</th>\n",
       "      <td>-0.302584</td>\n",
       "      <td>0.291293</td>\n",
       "      <td>0.950600</td>\n",
       "      <td>-2.004666</td>\n",
       "      <td>277</td>\n",
       "      <td>61</td>\n",
       "    </tr>\n",
       "    <tr>\n",
       "      <th>Vortex</th>\n",
       "      <td>-0.132168</td>\n",
       "      <td>0.230881</td>\n",
       "      <td>1.006886</td>\n",
       "      <td>-1.670196</td>\n",
       "      <td>157</td>\n",
       "      <td>27</td>\n",
       "    </tr>\n",
       "    <tr>\n",
       "      <th>VOLA</th>\n",
       "      <td>-0.721153</td>\n",
       "      <td>-0.369929</td>\n",
       "      <td>1.246549</td>\n",
       "      <td>-1.581479</td>\n",
       "      <td>322</td>\n",
       "      <td>70</td>\n",
       "    </tr>\n",
       "    <tr>\n",
       "      <th>Dynamic Put Spread</th>\n",
       "      <td>-0.714723</td>\n",
       "      <td>-0.718250</td>\n",
       "      <td>0.255372</td>\n",
       "      <td>-1.249904</td>\n",
       "      <td>116</td>\n",
       "      <td>38</td>\n",
       "    </tr>\n",
       "    <tr>\n",
       "      <th>...</th>\n",
       "      <td>...</td>\n",
       "      <td>...</td>\n",
       "      <td>...</td>\n",
       "      <td>...</td>\n",
       "      <td>...</td>\n",
       "      <td>...</td>\n",
       "    </tr>\n",
       "    <tr>\n",
       "      <th>UBS G9 Rate Value + Trend</th>\n",
       "      <td>-0.126371</td>\n",
       "      <td>-0.062062</td>\n",
       "      <td>0.274249</td>\n",
       "      <td>-1.229979</td>\n",
       "      <td>274</td>\n",
       "      <td>60</td>\n",
       "    </tr>\n",
       "    <tr>\n",
       "      <th>UBS Defensive Portfolio Carry</th>\n",
       "      <td>-0.599522</td>\n",
       "      <td>-0.408413</td>\n",
       "      <td>0.773287</td>\n",
       "      <td>-2.300093</td>\n",
       "      <td>174</td>\n",
       "      <td>19</td>\n",
       "    </tr>\n",
       "    <tr>\n",
       "      <th>UBS Defensive Portfolio Core</th>\n",
       "      <td>-0.719325</td>\n",
       "      <td>-0.562523</td>\n",
       "      <td>1.002479</td>\n",
       "      <td>-2.945006</td>\n",
       "      <td>136</td>\n",
       "      <td>35</td>\n",
       "    </tr>\n",
       "    <tr>\n",
       "      <th>UBS Defensive Portfolio Convex</th>\n",
       "      <td>-0.765633</td>\n",
       "      <td>-0.645810</td>\n",
       "      <td>1.156781</td>\n",
       "      <td>-3.699030</td>\n",
       "      <td>136</td>\n",
       "      <td>35</td>\n",
       "    </tr>\n",
       "    <tr>\n",
       "      <th>UBS Defensive Portfolio Certainty</th>\n",
       "      <td>-0.810962</td>\n",
       "      <td>-0.730968</td>\n",
       "      <td>1.541795</td>\n",
       "      <td>-5.223287</td>\n",
       "      <td>129</td>\n",
       "      <td>33</td>\n",
       "    </tr>\n",
       "  </tbody>\n",
       "</table>\n",
       "<p>135 rows × 6 columns</p>\n",
       "</div>"
      ],
      "text/plain": [
       "                                   Downside Reliability  Upside Reliability  \\\n",
       "99%/90% Put Spread                            -0.582879           -0.644474   \n",
       "Down Var                                      -0.302584            0.291293   \n",
       "Vortex                                        -0.132168            0.230881   \n",
       "VOLA                                          -0.721153           -0.369929   \n",
       "Dynamic Put Spread                            -0.714723           -0.718250   \n",
       "...                                                 ...                 ...   \n",
       "UBS G9 Rate Value + Trend                     -0.126371           -0.062062   \n",
       "UBS Defensive Portfolio Carry                 -0.599522           -0.408413   \n",
       "UBS Defensive Portfolio Core                  -0.719325           -0.562523   \n",
       "UBS Defensive Portfolio Convex                -0.765633           -0.645810   \n",
       "UBS Defensive Portfolio Certainty             -0.810962           -0.730968   \n",
       "\n",
       "                                   Convexity      Cost  Decay  Cluster  \n",
       "99%/90% Put Spread                  0.393155 -1.675492     35       10  \n",
       "Down Var                            0.950600 -2.004666    277       61  \n",
       "Vortex                              1.006886 -1.670196    157       27  \n",
       "VOLA                                1.246549 -1.581479    322       70  \n",
       "Dynamic Put Spread                  0.255372 -1.249904    116       38  \n",
       "...                                      ...       ...    ...      ...  \n",
       "UBS G9 Rate Value + Trend           0.274249 -1.229979    274       60  \n",
       "UBS Defensive Portfolio Carry       0.773287 -2.300093    174       19  \n",
       "UBS Defensive Portfolio Core        1.002479 -2.945006    136       35  \n",
       "UBS Defensive Portfolio Convex      1.156781 -3.699030    136       35  \n",
       "UBS Defensive Portfolio Certainty   1.541795 -5.223287    129       33  \n",
       "\n",
       "[135 rows x 6 columns]"
      ]
     },
     "execution_count": 8,
     "metadata": {},
     "output_type": "execute_result"
    }
   ],
   "source": [
    "normalized_hm"
   ]
  },
  {
   "cell_type": "markdown",
   "id": "90ea8057",
   "metadata": {},
   "source": [
    "## Find what strats are in each cluster\n",
    "find what strats rank highest in each cluster \n",
    "best in each metric\n",
    "best over all"
   ]
  },
  {
   "cell_type": "code",
   "execution_count": 9,
   "id": "3e8a7f2d",
   "metadata": {},
   "outputs": [
    {
     "data": {
      "image/png": "[encoded data removed]",
      "text/plain": [
       "<Figure size 1440x720 with 1 Axes>"
      ]
     },
     "metadata": {
      "needs_background": "light"
     },
     "output_type": "display_data"
    }
   ],
   "source": [
    "plt.figure(figsize = (20,10))\n",
    "plt.xticks(rotation = 45)\n",
    "dend = shc.dendrogram(links)"
   ]
  },
  {
   "cell_type": "markdown",
   "id": "143fbfa3",
   "metadata": {},
   "source": [
    "## Dendrogram "
   ]
  },
  {
   "cell_type": "markdown",
   "id": "06133105",
   "metadata": {},
   "source": [
    "## Principal Component Analysis"
   ]
  },
  {
   "cell_type": "code",
   "execution_count": null,
   "id": "d5ed2a36",
   "metadata": {},
   "outputs": [],
   "source": [
    "pca = PCA(n_components = 2)\n",
    "X_principal = pca.fit_transform(normalized_hm)"
   ]
  },
  {
   "cell_type": "code",
   "execution_count": null,
   "id": "42d86131",
   "metadata": {},
   "outputs": [],
   "source": [
    "X_principal = pd.DataFrame(X_principal, index = normalized_hm.index)\n",
    "X_principal.columns = ['P1', 'P2']"
   ]
  },
  {
   "cell_type": "code",
   "execution_count": null,
   "id": "cab5ae76",
   "metadata": {
    "scrolled": true
   },
   "outputs": [],
   "source": [
    "X_principal"
   ]
  },
  {
   "cell_type": "markdown",
   "id": "307f7690",
   "metadata": {},
   "source": [
    "## Elbow Method"
   ]
  },
  {
   "cell_type": "code",
   "execution_count": null,
   "id": "69791cbe",
   "metadata": {},
   "outputs": [],
   "source": [
    "inertia = []\n",
    "K = range(1,6)\n",
    "for k in K:\n",
    "    kmeanModel = KMeans(n_clusters=k).fit(normalized_hm)\n",
    "    kmeanModel.fit(normalized_hm)\n",
    "    inertia.append(kmeanModel.inertia_)\n",
    "    \n",
    "    # Plot the elbow\n",
    "plt.plot(K, inertia, 'bx-')\n",
    "plt.xlabel('k')\n",
    "plt.ylabel('Inertia')\n",
    "plt.show()"
   ]
  },
  {
   "cell_type": "markdown",
   "id": "6a029c99",
   "metadata": {},
   "source": [
    "## Determine amount of clusters"
   ]
  },
  {
   "cell_type": "code",
   "execution_count": null,
   "id": "b5d80f7f",
   "metadata": {},
   "outputs": [],
   "source": [
    "# input clusters here\n",
    "ncluster = 3"
   ]
  },
  {
   "cell_type": "code",
   "execution_count": null,
   "id": "402b1fef",
   "metadata": {},
   "outputs": [],
   "source": [
    "ac2 = AgglomerativeClustering(n_clusters = ncluster, affinity = 'euclidean', linkage = 'ward')\n",
    "X_principal['Cluster'] = ac2.fit_predict(X_principal)\n",
    "X_principal2 = X_principal.copy()\n",
    "X_principal2['Strat'] = list(X_principal.index)\n",
    "X_principal2"
   ]
  },
  {
   "cell_type": "markdown",
   "id": "f70dd50b",
   "metadata": {},
   "source": [
    "## Agglomerative Clustering "
   ]
  },
  {
   "cell_type": "code",
   "execution_count": null,
   "id": "8dff4a51",
   "metadata": {},
   "outputs": [],
   "source": [
    "ac2 = AgglomerativeClustering(n_clusters = ncluster, affinity = 'euclidean', linkage = 'ward')\n",
    "fig = px.scatter(X_principal2, x= 'P1',y ='P2', \n",
    "                 color = ac2.fit_predict(X_principal), hover_data = ['Strat'])\n",
    "fig"
   ]
  },
  {
   "cell_type": "code",
   "execution_count": null,
   "id": "e739129f",
   "metadata": {},
   "outputs": [],
   "source": [
    "ac2 = AgglomerativeClustering(n_clusters = ncluster, affinity = 'euclidean', linkage = 'single')\n",
    "fig = px.scatter( x= X_principal['P1'],y =X_principal['P2'], color = ac2.fit_predict(X_principal))\n",
    "fig"
   ]
  },
  {
   "cell_type": "code",
   "execution_count": null,
   "id": "ce5c34b1",
   "metadata": {},
   "outputs": [],
   "source": [
    "ac2 = AgglomerativeClustering(n_clusters = ncluster, affinity = 'euclidean', linkage = 'complete')\n",
    "fig = px.scatter( x= X_principal['P1'],y =X_principal['P2'], color = ac2.fit_predict(X_principal))\n",
    "fig"
   ]
  },
  {
   "cell_type": "code",
   "execution_count": null,
   "id": "544d8365",
   "metadata": {},
   "outputs": [],
   "source": [
    "ac2 = AgglomerativeClustering(n_clusters = ncluster, affinity = 'euclidean', linkage = 'average')\n",
    "fig = px.scatter( x= X_principal['P1'],y =X_principal['P2'], color = ac2.fit_predict(X_principal))\n",
    "fig"
   ]
  },
  {
   "cell_type": "code",
   "execution_count": null,
   "id": "83626a54",
   "metadata": {},
   "outputs": [],
   "source": []
  }
 ],
 "metadata": {
  "kernelspec": {
   "display_name": "Python 3 (ipykernel)",
   "language": "python",
   "name": "python3"
  },
  "language_info": {
   "codemirror_mode": {
    "name": "ipython",
    "version": 3
   },
   "file_extension": ".py",
   "mimetype": "text/x-python",
   "name": "python",
   "nbconvert_exporter": "python",
   "pygments_lexer": "ipython3",
   "version": "3.9.7"
  }
 },
 "nbformat": 4,
 "nbformat_minor": 5
}
